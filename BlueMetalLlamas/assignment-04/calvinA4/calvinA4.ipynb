{
 "cells": [
  {
   "cell_type": "markdown",
   "metadata": {},
   "source": [
    "# Word Sense Disambiguation using Neural Networks\n",
    "Adam Ek\n",
    "\n",
    "----------------------------------\n",
    "\n",
    "The lab is an exploration and learning exercise to be done in a group and also in discussion with the teachers and other students.\n",
    "\n",
    "Before starting, please read the instructions on [how to work on group assignments](https://github.com/sdobnik/computational-semantics/blob/master/README.md).\n",
    "\n",
    "Write all your answers and the code in the appropriate boxes below.\n",
    "\n",
    "----------------------------------"
   ]
  },
  {
   "cell_type": "markdown",
   "metadata": {},
   "source": [
    "A problem with static distributional vectors is the difficulty of distinguishing between different *word senses*. We will continue our exploration of word vectors by considering *trainable vectors* or *word embeddings* for Word Sense Disambiguation (WSD).\n",
    "\n",
    "The goal of word sense disambiguation is to train a model to find the sense of a word (homonyms of a word-form). For example, the word \"bank\" can mean \"sloping land\" or \"financial institution\". \n",
    "\n",
    "(a) \"I deposited my money in the **bank**\" (financial institution)\n",
    "\n",
    "(b) \"I swam from the river **bank**\" (sloping land)\n",
    "\n",
    "In case a) and b) we can determine that the meaning of \"bank\" based on the *context*. To utilize context in a semantic model we use *contextualized word representations*. Previously we worked with *static word representations*, i.e. the representation does not depend on the context. To illustrate we can consider sentences (a) and (b), the word **bank** would have the same static representation in both sentences, which means that it becomes difficult for us to predict its sense. What we want is to create representations that depend on the context, i.e. *contextualized embeddings*. \n",
    "\n",
    "We will create contextualized embeddings with Recurrent Neural Networks. You can read more about recurrent neural netoworks [here](https://colah.github.io/posts/2015-08-Understanding-LSTMs/). Your overall task in this lab is to create a neural network model that can disambiguate the word sense of 15 different words. "
   ]
  },
  {
   "cell_type": "code",
   "execution_count": 1,
   "metadata": {},
   "outputs": [],
   "source": [
    "# first we import some packages that we need\n",
    "import torch\n",
    "import torch.nn as nn\n",
    "import torchtext\n",
    "\n",
    "# our hyperparameters (add more when/if you need them)\n",
    "device = torch.device('cuda:0')\n",
    "\n",
    "batch_size = 8\n",
    "learning_rate = 0.001\n",
    "epochs = 3"
   ]
  },
  {
   "cell_type": "markdown",
   "metadata": {},
   "source": [
    "# 1. Working with data\n",
    "\n",
    "A central part of any machine learning system is the data we're working with. In this section we will split the data (the dataset is located here: ``wsd-data/wsd_data.txt``) into a training set and a test set. We will also create a baseline to compare our model against. Finally, we will use TorchText to transform our data (raw text) into a convenient format that our neural network can work with."
   ]
  },
  {
   "cell_type": "markdown",
   "metadata": {},
   "source": [
    "## Data\n",
    "\n",
    "The dataset we will use contain different word sense for 15 different words. The data is organized as follows (values separated by tabs): \n",
    "- Column 1: word-sense\n",
    "- Column 2: word-form\n",
    "- Column 3: index of word\n",
    "- Column 4: white-space tokenized context"
   ]
  },
  {
   "cell_type": "markdown",
   "metadata": {},
   "source": [
    "### Splitting the data\n",
    "\n",
    "Your first task is to seperate the data into a *training set* and a *test set*. The training set should contain 80% of the examples and the test set the remaining 20%. The examples for the test/training set should be selected **randomly**. Save each dataset into a .csv file for loading later. **[2 marks]**"
   ]
  },
  {
   "cell_type": "code",
   "execution_count": 2,
   "metadata": {},
   "outputs": [],
   "source": [
    "from random import shuffle\n",
    "from math import floor\n",
    "\n",
    "def data_split(path_to_dataset, split = 0.8):\n",
    "    '''Splits txt into random 80:20 subsets and saves them as csv'''\n",
    "    \n",
    "    #Shuffle and split\n",
    "    with open(path_to_dataset, encoding='utf8') as f:\n",
    "        lines = [l for l in f]\n",
    "        shuffle(lines)\n",
    "        split_index = floor(len(lines) * split)\n",
    "        training,testing = lines[:split_index],lines[split_index:]\n",
    "     \n",
    "    #Save training csv\n",
    "    with open(path_to_dataset.replace('.txt', '-train.csv'), 'w', encoding='utf8') as f:\n",
    "        for l in training:\n",
    "            f.write(l)\n",
    "            \n",
    "    #Save testing csv\n",
    "    with open(path_to_dataset.replace('.txt', '-test.csv'), 'w', encoding='utf8') as f:\n",
    "        for l in testing:\n",
    "            f.write(l)"
   ]
  },
  {
   "cell_type": "markdown",
   "metadata": {},
   "source": [
    "### Creating a baseline\n",
    "\n",
    "Your second task is to create a *baseline* for the task. A baseline is a \"reality check\" for a model, given a very simple heuristic/algorithmic/model solution to the problem, can our neural network perform better than this?\n",
    "The baseline you are to create is the \"most common sense\" (MCS) baseline. For each word form, find the most commonly assigned sense to the word, and label a words with that sense. **[2 marks]**\n",
    "\n",
    "E.g. In a fictional dataset, \"bank\" have two senses, \"financial institution\" which occur 5 times and \"side of river\" 3 times. Thus, all 8 occurences of bank is labeled \"financial institution\" and this yields an MCS accuracy of 5/8 = 62.5%. If a model obtain a higher score than this, we can conclude that the model *at least* is better than selecting the most frequent word sense."
   ]
  },
  {
   "cell_type": "code",
   "execution_count": 3,
   "metadata": {},
   "outputs": [
    {
     "data": {
      "text/plain": [
       "{'keep.v': 0.3919896161691081,\n",
       " 'national.a': 0.20456663560111835,\n",
       " 'build.v': 0.21202404809619238,\n",
       " 'place.n': 0.2428793371310202,\n",
       " 'position.n': 0.20171094101755965,\n",
       " 'serve.v': 0.1551155115511551,\n",
       " 'hold.v': 0.15195137555982086,\n",
       " 'line.n': 0.8512173128944995,\n",
       " 'see.v': 0.6275619455490976,\n",
       " 'time.n': 0.27864214992927866,\n",
       " 'physical.a': 0.23641160949868073,\n",
       " 'follow.v': 0.14589020321504398,\n",
       " 'regular.a': 0.21732522796352582,\n",
       " 'bad.a': 0.6073903002309469,\n",
       " 'force.n': 0.16273156556483837,\n",
       " 'professional.a': 0.21756487025948104,\n",
       " 'security.n': 0.2033271719038817,\n",
       " 'positive.a': 0.35444078947368424,\n",
       " 'point.n': 0.35546262415054886,\n",
       " 'common.a': 0.2505733944954128,\n",
       " 'find.v': 0.23176323468111712,\n",
       " 'life.n': 0.22466137319009807,\n",
       " 'order.n': 0.21956087824351297,\n",
       " 'bring.v': 0.21170809943865276,\n",
       " 'active.a': 0.3204172876304024,\n",
       " 'extend.v': 0.1802610114192496,\n",
       " 'case.n': 0.2037351443123939,\n",
       " 'lead.v': 0.17967830521773245,\n",
       " 'critical.a': 0.2744097000638162,\n",
       " 'major.a': 0.3032514930325149}"
      ]
     },
     "execution_count": 3,
     "metadata": {},
     "output_type": "execute_result"
    }
   ],
   "source": [
    "def mcs_baseline(data):\n",
    "    words = {}\n",
    "    with open(data, encoding='utf8') as f:\n",
    "        for l in f:\n",
    "            sense, form, idx, context = l.split('\\t')\n",
    "            if form not in words:\n",
    "                words[form] = {}\n",
    "            words[form][sense] = words[form].get(sense,0)+1\n",
    "    \n",
    "    words_baseline = {}\n",
    "    for form, senses in words.items():\n",
    "        mostcommon, freq = sorted(senses.items(), key= lambda item:item[1], reverse=True)[0]\n",
    "        total_freqs = sum(senses.values())\n",
    "        baseline = freq/total_freqs  #Occurrence of the most common sense / occurrances of all senses\n",
    "        words_baseline[form] = baseline\n",
    "    \n",
    "    return words_baseline\n",
    "\n",
    "mcs_baseline('wsd-data/wsd_data.txt')      "
   ]
  },
  {
   "cell_type": "markdown",
   "metadata": {},
   "source": [
    "### Creating data iterators\n",
    "\n",
    "To train a neural network, we first need to prepare the data. This involves converting words (and labels) to a number, and organizing the data into batches. We also want the ability to shuffle the examples such that they appear in a random order.  \n",
    "\n",
    "To do all of this we will use the torchtext library (https://torchtext.readthedocs.io/en/latest/index.html). In addition to converting our data into numerical form and creating batches, it will generate a word and label vocabulary, and data iterators than can sort and shuffle the examples. \n",
    "\n",
    "Your task is to create a dataloader for the training and test set you created previously. So, how do we go about doing this?\n",
    "\n",
    "1) First we create a ``Field`` for each of our columns. A field is a function which tokenize the input, keep a dictionary of word-to-numbers, and fix paddings. So, we need four fields, one for the word-sense, one for the position, one for the lemma and one for the context. \n",
    "\n",
    "2) After we have our fields, we need to process the data. For this we use the ``TabularDataset`` class. We pass the name and path of the training and test files we created previously, then we assign which field to use in each column. The result is that each column will be processed by the field indicated. So, the context column will be tokenized and processed by the context field and so on. \n",
    "\n",
    "3) After we have processed the dataset we need to build the vocabulary, for this we call the function ``build_vocab()`` on the different ``Fields`` with the output from ``TabularDataset`` as input. This looks at our dataset and creates the necessary vocabularies (word-to-number mappings). \n",
    "\n",
    "4) Finally, the last step. In the last step we load the data objects given by the ``TabularDataset`` and pass it to the ``BucketIterator`` class. This class will organize our examples into batches and shuffle them around (such that for each epoch the model observe the examples in a different order). When we are done with this we can let our function return the data iterators and vocabularies, then we are ready to train and test our model!\n",
    "\n",
    "Implement the dataloader. [**2 marks**]\n",
    "\n",
    "*hint: for TabularDataset and BucketIterator use the class function splits()* "
   ]
  },
  {
   "cell_type": "code",
   "execution_count": 30,
   "metadata": {},
   "outputs": [
    {
     "data": {
      "text/plain": [
       "'positive'"
      ]
     },
     "execution_count": 30,
     "metadata": {},
     "output_type": "execute_result"
    }
   ],
   "source": [
    "# w='positive.a'\n",
    "# lemma = lambda form : form[:form.index('.')]\n",
    "# lemma(w)"
   ]
  },
  {
   "cell_type": "code",
   "execution_count": 4,
   "metadata": {},
   "outputs": [],
   "source": [
    "from torchtext.data import Field, BucketIterator, TabularDataset, Iterator\n",
    "def dataloader(path):\n",
    "    #Fields: word-sense, lemma, position,  context\n",
    "    Tokens = torchtext.data.Field(tokenize=lambda x:x.split(), lower=True, batch_first=True) #TODO lowercase?\n",
    "    Labels = torchtext.data.Field(batch_first=True) #TODO trim \".pos\" or not?\n",
    "    \n",
    "    fields = [('sense',Labels),('lemma',Tokens),('position',Tokens),('context',Tokens)]\n",
    "    \n",
    "    #Process from csv files\n",
    "    train,test = torchtext.data.TabularDataset.splits(\n",
    "            path=path, train='wsd_data-train.csv', test='wsd_data-test.csv',\n",
    "            format='csv', fields=fields, skip_header=False, \n",
    "            csv_reader_params = {'delimiter':'\\t','quotechar':'、'})\n",
    "    \n",
    "    #Build vocab\n",
    "    Labels.build_vocab(train) # nr of classes\n",
    "    Tokens.build_vocab(train)\n",
    "\n",
    "    #Batch iterator\n",
    "    train_iter,test_iter = torchtext.data.BucketIterator.splits(\n",
    "            (train,test), batch_size=batch_size, shuffle=True, device=device )\n",
    "    \n",
    "    return train_iter, test_iter, Tokens.vocab, Labels.vocab\n",
    "        #  train_iter, test_iter, vocab, labels\n",
    "    "
   ]
  },
  {
   "cell_type": "code",
   "execution_count": 5,
   "metadata": {
    "scrolled": true
   },
   "outputs": [],
   "source": [
    "data_split('wsd-data/wsd_data.txt')\n",
    "train_iter, test_iter, vocab, labels = dataloader('wsd-data/')"
   ]
  },
  {
   "cell_type": "code",
   "execution_count": 6,
   "metadata": {},
   "outputs": [
    {
     "name": "stdout",
     "output_type": "stream",
     "text": [
      "['professional%3:00:01::']\n",
      "1\n"
     ]
    }
   ],
   "source": [
    "example=[labels.itos[t] for t in [b.sense for i,b in enumerate(train_iter)][:1][0][0] ]\n",
    "print(example)\n",
    "print(len(example))"
   ]
  },
  {
   "cell_type": "code",
   "execution_count": 17,
   "metadata": {},
   "outputs": [
    {
     "name": "stdout",
     "output_type": "stream",
     "text": [
      "['while', 'the', 'committee', 'commends', 'the', 'state', 'party', \"'s\", 'constitutional', 'provisions', 'guaranteeing', 'the', 'de', 'jure', 'equality', 'between', 'women', 'and', 'men', ',', 'it', 'is', 'concerned', 'that', 'this', 'provision', 'is', 'not', 'entirely', 'in', 'line', 'with', 'article', '2', '(', 'a', ')', 'of', 'the', 'convention', '.', 'the', 'committee', 'urges', 'the', 'state', 'party', 'to', 'incorporate', 'into', 'appropriate', 'national', 'legislation', 'or', 'the', 'constitution', ',', 'currently', 'under', 'review', ',', 'a', 'definition', 'of', 'discrimination', 'against', 'women', 'that', 'encompasses', 'both', 'direct', 'and', 'indirect', 'discrimination', ',', 'in', 'line', 'with', 'article', '1', 'of', 'the', 'convention', ',', 'as', 'well', 'as', 'the', 'principle', 'of', 'equality', 'between', 'women', 'and', 'men', 'in', 'accordance', 'with', 'article', '2', '(', 'a', ')', 'of', 'the', 'convention', '.', 'discriminatory', 'laws']\n",
      "109\n"
     ]
    }
   ],
   "source": [
    "example2=[vocab.itos[t] for t in [b.context for i,b in enumerate(train_iter)][:1][0][0] ]\n",
    "print(example2)\n",
    "print(len(example2))"
   ]
  },
  {
   "cell_type": "markdown",
   "metadata": {},
   "source": [
    "# 2.1 Creating and running a Neural Network for WSD\n",
    "\n",
    "In this section we will create and run a neural network to predict word senses based on *contextualized representations*."
   ]
  },
  {
   "cell_type": "markdown",
   "metadata": {},
   "source": [
    "### Model\n",
    "\n",
    "We will use a bidirectional Long-Short-Term Memory (LSTM) network to create a representation for the sentences and a Linear classifier to predict the sense of each word.\n",
    "\n",
    "When we initialize the model, we need a few things:\n",
    "\n",
    "    1) An embedding layer: a dictionary from which we can obtain word embeddings\n",
    "    2) A LSTM-module to obtain contextual representations\n",
    "    3) A classifier that compute scores for each word-sense given *some* input\n",
    "\n",
    "\n",
    "The general procedure is the following:\n",
    "\n",
    "    1) For each word in the sentence, obtain word embeddings\n",
    "    2) Run the embedded sentences through the RNN\n",
    "    3) Select the appropriate hidden state\n",
    "    4) Predict the word-sense \n",
    "\n",
    "**Suggestion for efficiency:**  *Use a low dimensionality (32) for word embeddings and the LSTM when developing and testing the code, then scale up when running the full training/tests*\n",
    "    \n",
    "Your tasks will be to create two different models (both follow the two outlines described above), described below:"
   ]
  },
  {
   "cell_type": "markdown",
   "metadata": {},
   "source": [
    "In the first approach to WSD, you are to select the index of our target word (column 3 in the dataset) and predict the word sense. **[5 marks]**\n"
   ]
  },
  {
   "cell_type": "code",
   "execution_count": 35,
   "metadata": {},
   "outputs": [],
   "source": [
    "#  select the index of target word (column 3 in the dataset) and predict the word sense\n",
    "class WSDModel_approach1(nn.Module):\n",
    "    def __init__(self, vocab_dim, num_senses, in_dim, out_dim):\n",
    "        super(WSDModel_approach1, self).__init__()\n",
    "        self.embeddings = nn.Embedding(vocab_dim, in_dim)\n",
    "        self.rnn = nn.LSTM(in_dim, out_dim, batch_first=True)\n",
    "        self.classifier = nn.Linear(out_dim, num_senses)\n",
    "        self.dropout = nn.Dropout(0.2)\n",
    "    \n",
    "    def forward(self, batch):\n",
    "        embedded_bat = self.embeddings(batch) # B,S,D\n",
    "#         summate = lambda tensor : torch.sum(tensor,dim=1)# [B,S,D] => [B,D]\n",
    "#         embedded_bat = summate(embedded_bat)\n",
    "        rep, (_, _) = self.rnn(embedded_bat)\n",
    "        rep = self.dropout(rep)\n",
    "        predictions = self.classifier(rep)\n",
    "        \n",
    "        return predictions"
   ]
  },
  {
   "cell_type": "markdown",
   "metadata": {},
   "source": [
    "In the second approach to WSD, you are to predict the word sense based on the final hidden state given by the RNN. **[5 marks]**"
   ]
  },
  {
   "cell_type": "code",
   "execution_count": null,
   "metadata": {},
   "outputs": [],
   "source": [
    "class WSDModel_approach2(nn.Module):\n",
    "    def __init__(self, ...):\n",
    "        # your code goes here\n",
    "    \n",
    "    def forward(self, ...):\n",
    "        # your code goes here\n",
    "        \n",
    "        return predictions"
   ]
  },
  {
   "cell_type": "markdown",
   "metadata": {},
   "source": [
    "### Training and testing the model\n",
    "\n",
    "Now we are ready to train and test our model. What we need now is a loss function, an optimizer, and our data. \n",
    "\n",
    "- First, create the loss function and the optimizer.\n",
    "- Next, we iterate over the number of epochs (i.e. how many times we let the model see our data). \n",
    "- For each epoch, iterate over the dataset (``train_iter``) to obtain batches. Use the batch as input to the model, and let the model output scores for the different word senses.\n",
    "- For each model output, calculate the loss (and print the loss) on the output and update the model parameters.\n",
    "- Reset the gradients and repeat.\n",
    "- After all epochs are done, test your trained model on the test set (``test_iter``) and calculate the total and per-word-form accuracy of your model.\n",
    "\n",
    "Implement the training and testing of the model **[4 marks]**\n",
    "\n",
    "**Suggestion for efficiency:** *when developing your model, try training and testing the model on one or two batches (for each epoch) of data to make sure everything works! It's very annoying if you train for N epochs to find out that something went wrong when testing the model, or to find that something goes wrong when moving from epoch 0 to epoch 1.*"
   ]
  },
  {
   "cell_type": "code",
   "execution_count": 36,
   "metadata": {},
   "outputs": [
    {
     "name": "stdout",
     "output_type": "stream",
     "text": [
      "torch.Size([8, 123])\n",
      "torch.Size([984, 224])\n",
      "torch.Size([8, 1])\n"
     ]
    }
   ],
   "source": [
    "# train_iter, test_iter, vocab, labels = dataloader('wsd-data/')\n",
    "\n",
    "#Params\n",
    "vocab_dim,num_labels = len(vocab),len(labels)  # V=70521, L=224\n",
    "in_dim,out_dim = 128,128\n",
    "epochs = 3\n",
    "\n",
    "wsd1_model = WSDModel_approach1(vocab_dim, num_labels, in_dim, out_dim)\n",
    "wsd1_model.to(device)\n",
    "loss_function = nn.CrossEntropyLoss()\n",
    "optimizer = torch.optim.Adam(wsd1_model.parameters(), lr=learning_rate)\n",
    "\n",
    "#Training 1st model\n",
    "from statistics import mean\n",
    "total_loss = [] \n",
    "for _ in range(epochs):\n",
    "    for i, batch in enumerate(train_iter):\n",
    "        \n",
    "        lemma, position, context = batch.lemma, batch.position, batch.context\n",
    "        label = batch.sense\n",
    "        \n",
    "        concat_input = torch.cat( (lemma, position, context),1 )\n",
    "        output = wsd1_model(concat_input)\n",
    "        \n",
    "        print(concat_input.shape)\n",
    "        print(output.view(-1,num_labels).shape)\n",
    "        print(label.shape)\n",
    "        break\n",
    "        \n",
    "#         loss = loss_function(output.view(-1, num_labels), label.view(-1)) # modelout:(B*len_concat,L), target:(B,1)\n",
    "#         total_loss += [loss.item()]\n",
    "\n",
    "#         print(f'Averge total loss: {mean(total_loss)}', end='\\r')\n",
    "        \n",
    "#         # compute gradients; # update parameters; # reset gradients\n",
    "#         loss.backward();     optimizer.step();    optimizer.zero_grad()\n",
    "    \n",
    "#     print()\n",
    "    break\n",
    "# test model after all epochs are completed"
   ]
  },
  {
   "cell_type": "markdown",
   "metadata": {},
   "source": [
    "# 2.2 Running a transformer for WSD"
   ]
  },
  {
   "cell_type": "markdown",
   "metadata": {},
   "source": [
    "In this section of the lab you'll try out the transformer, specifically the BERT model. For this we'll use the huggingface library (https://huggingface.co/).\n",
    "\n",
    "You can find the documentation for the BERT model here (https://huggingface.co/transformers/model_doc/bert.html) and a general usage guide here (https://huggingface.co/transformers/quickstart.html).\n",
    "\n",
    "What we're going to do is *fine-tune* the BERT model, i.e. update the weights of a pre-trained model. That is, we have a model that is trained on language modeling, but now we apply it to word sense disambiguation with the word representations it learnt from language modeling.\n",
    "\n",
    "We'll use the same data splits for training and testing as before, but this time you'll not use a torchtext dataloader. Rather now you create an iterator that collects N sentences (where N is the batch size) then use the BertTokenizer to transform the sentence into integers. For your dataloader, remember to:\n",
    "* Shuffle the data in each batch\n",
    "* Make sure you get a new iterator for each *epoch*\n",
    "* Create a vocabulary of *sense-labels* so you can calculate accuracy \n",
    "\n",
    "We then pass this batch into the BERT model and train as before. The BERT model will encode the sentence, then we send this encoded sentence into a prediction layer (you can either the the sentence-representation from bert, or the ambiguous word) like before and collect sense predictions.\n",
    "\n",
    "About the hyperparameters and training:\n",
    "* For BERT, usually a lower learning rate works best, between 0.0001-0.000001.\n",
    "* BERT takes alot of resources, running it on CPU will take ages, utilize the GPUs :)\n",
    "* Since BERT takes alot of resources, use a small batch size (4-8)\n",
    "* Computing the BERT representation, make sure you pass the mask\n",
    "\n",
    "**[10 marks]**"
   ]
  },
  {
   "cell_type": "code",
   "execution_count": 37,
   "metadata": {},
   "outputs": [],
   "source": [
    "from transformers import BertTokenizer, BertModel, BertForMaskedLM"
   ]
  },
  {
   "cell_type": "code",
   "execution_count": null,
   "metadata": {},
   "outputs": [],
   "source": [
    "def dataloader_for_bert(path_to_file, batch_size):\n",
    "    ..."
   ]
  },
  {
   "cell_type": "code",
   "execution_count": null,
   "metadata": {},
   "outputs": [],
   "source": [
    "class BERT_WSD(nn.Module):\n",
    "    def __init__(self, ...):\n",
    "        # your code goes here\n",
    "        self.bert = ...\n",
    "        self.classifier = ...\n",
    "    \n",
    "    def forward(self, batch):\n",
    "        # your code goes here\n",
    "        \n",
    "        return predictions"
   ]
  },
  {
   "cell_type": "code",
   "execution_count": null,
   "metadata": {},
   "outputs": [],
   "source": [
    "loss_function = ...\n",
    "optimizer = ...\n",
    "model = ...\n",
    "\n",
    "for _ in range(epochs):\n",
    "    # train model\n",
    "    ...\n",
    "    \n",
    "# test model after all epochs are completed"
   ]
  },
  {
   "cell_type": "markdown",
   "metadata": {},
   "source": [
    "# 3. Evaluation"
   ]
  },
  {
   "cell_type": "markdown",
   "metadata": {},
   "source": [
    "Explain the difference between the first and second approach. What kind of representations are the different approaches using to predict word-senses? **[4 marks]**"
   ]
  },
  {
   "cell_type": "code",
   "execution_count": null,
   "metadata": {},
   "outputs": [],
   "source": []
  },
  {
   "cell_type": "markdown",
   "metadata": {},
   "source": [
    "Evaluate your model with per-word-form *accuracy* and comment on the results you get, how does the model perform in comparison to the baseline, and how do the models compare to each other? \n",
    "\n",
    "Expand on the evaluation by sorting the word-forms by the number of senses they have. Are word-forms with fewer senses easier to predict? Give a short explanation of the results you get based on the number of senses per word.\n",
    "\n",
    "**[6 marks]**"
   ]
  },
  {
   "cell_type": "markdown",
   "metadata": {},
   "source": [
    "How does the LSTMs perform in comparison to BERT? What's the difference between representations obtained by the LSTMs and BERT? **[2 marks]**"
   ]
  },
  {
   "cell_type": "code",
   "execution_count": null,
   "metadata": {},
   "outputs": [],
   "source": []
  },
  {
   "cell_type": "markdown",
   "metadata": {},
   "source": [
    "What could we do to improve our LSTM word sense disambiguation models and our BERT model? **[4 marks]**"
   ]
  },
  {
   "cell_type": "code",
   "execution_count": null,
   "metadata": {},
   "outputs": [],
   "source": []
  },
  {
   "cell_type": "markdown",
   "metadata": {},
   "source": [
    "# Readings:\n",
    "\n",
    "[1] Kågebäck, M., & Salomonsson, H. (2016). Word Sense Disambiguation using a Bidirectional LSTM. arXiv preprint arXiv:1606.03568.\n",
    "\n",
    "[2] https://cl.lingfil.uu.se/~nivre/master/NLP-LexSem.pdf"
   ]
  }
 ],
 "metadata": {
  "kernelspec": {
   "display_name": "Python 3",
   "language": "python",
   "name": "python3"
  },
  "language_info": {
   "codemirror_mode": {
    "name": "ipython",
    "version": 3
   },
   "file_extension": ".py",
   "mimetype": "text/x-python",
   "name": "python",
   "nbconvert_exporter": "python",
   "pygments_lexer": "ipython3",
   "version": "3.7.4"
  }
 },
 "nbformat": 4,
 "nbformat_minor": 2
}
