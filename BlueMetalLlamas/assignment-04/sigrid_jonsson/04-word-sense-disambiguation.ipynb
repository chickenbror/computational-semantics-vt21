{
 "cells": [
  {
   "cell_type": "markdown",
   "metadata": {},
   "source": [
    "# Word Sense Disambiguation using Neural Networks\n",
    "Adam Ek\n",
    "\n",
    "----------------------------------\n",
    "\n",
    "The lab is an exploration and learning exercise to be done in a group and also in discussion with the teachers and other students.\n",
    "\n",
    "Before starting, please read the instructions on [how to work on group assignments](https://github.com/sdobnik/computational-semantics/blob/master/README.md).\n",
    "\n",
    "Write all your answers and the code in the appropriate boxes below.\n",
    "\n",
    "----------------------------------"
   ]
  },
  {
   "cell_type": "markdown",
   "metadata": {},
   "source": [
    "A problem with static distributional vectors is the difficulty of distinguishing between different *word senses*. We will continue our exploration of word vectors by considering *trainable vectors* or *word embeddings* for Word Sense Disambiguation (WSD).\n",
    "\n",
    "The goal of word sense disambiguation is to train a model to find the sense of a word (homonyms of a word-form). For example, the word \"bank\" can mean \"sloping land\" or \"financial institution\". \n",
    "\n",
    "(a) \"I deposited my money in the **bank**\" (financial institution)\n",
    "\n",
    "(b) \"I swam from the river **bank**\" (sloping land)\n",
    "\n",
    "In case a) and b) we can determine that the meaning of \"bank\" based on the *context*. To utilize context in a semantic model we use *contextualized word representations*. Previously we worked with *static word representations*, i.e. the representation does not depend on the context. To illustrate we can consider sentences (a) and (b), the word **bank** would have the same static representation in both sentences, which means that it becomes difficult for us to predict its sense. What we want is to create representations that depend on the context, i.e. *contextualized embeddings*. \n",
    "\n",
    "We will create contextualized embeddings with Recurrent Neural Networks. You can read more about recurrent neural netoworks [here](https://colah.github.io/posts/2015-08-Understanding-LSTMs/). Your overall task in this lab is to create a neural network model that can disambiguate the word sense of 15 different words. "
   ]
  },
  {
   "cell_type": "code",
   "execution_count": 20,
   "metadata": {},
   "outputs": [],
   "source": [
    "# first we import some packages that we need\n",
    "import torch\n",
    "import torch.nn as nn\n",
    "import torch.nn.functional as F\n",
    "from torchtext.data import Field, BucketIterator, TabularDataset\n",
    "import pandas as pd\n",
    "import re\n",
    "\n",
    "#torch.backends.cudnn.enabled = False\n",
    "os.environ[\"CUDA_DEVICE_ORDER\"] = \"PCI_BUS_ID\"\n",
    "hardware = 'cuda:1' if torch.cuda.is_available() else 'cpu'\n",
    "#hardware = 'cpu'\n",
    "device = torch.device(hardware)\n",
    "\n",
    "batch_size = 64\n",
    "learning_rate = 0.001\n",
    "epochs = 3\n",
    "embedding_size = 512\n",
    "embedding_dim = 512\n"
   ]
  },
  {
   "cell_type": "markdown",
   "metadata": {},
   "source": [
    "# 1. Working with data\n",
    "\n",
    "A central part of any machine learning system is the data we're working with. In this section we will split the data (the dataset is located here: ``wsd-data/wsd_data.txt``) into a training set and a test set. We will also create a baseline to compare our model against. Finally, we will use TorchText to transform our data (raw text) into a convenient format that our neural network can work with."
   ]
  },
  {
   "cell_type": "markdown",
   "metadata": {},
   "source": [
    "## Data\n",
    "\n",
    "The dataset we will use contain different word sense for 15 different words. The data is organized as follows (values separated by tabs): \n",
    "- Column 1: word-sense\n",
    "- Column 2: word-form\n",
    "- Column 3: index of word\n",
    "- Column 4: white-space tokenized context"
   ]
  },
  {
   "cell_type": "markdown",
   "metadata": {},
   "source": [
    "### Splitting the data\n",
    "\n",
    "Your first task is to seperate the data into a *training set* and a *test set*. The training set should contain 80% of the examples and the test set the remaining 20%. The examples for the test/training set should be selected **randomly**. Save each dataset into a .csv file for loading later. **[2 marks]**"
   ]
  },
  {
   "cell_type": "code",
   "execution_count": 21,
   "metadata": {},
   "outputs": [],
   "source": [
    "def data_split(path_to_dataset):\n",
    "    with open(path_to_dataset) as f:\n",
    "        lines = f.read().splitlines()\n",
    "        lines_tokenized = [re.split(r'\\t+', l) for l in lines]\n",
    "\n",
    "        df = pd.DataFrame(lines_tokenized, columns=['word-sense', 'word-form', 'index_of_word', 'context'])\n",
    "        df_test_data = df.sample(frac=0.20)\n",
    "        df_training_data = df.drop(df_test_data.index)\n",
    "\n",
    "        df_training_data.to_csv('training_data.csv', index=False, sep='\\t')\n",
    "        df_test_data.to_csv('testing_data.csv', index=False, sep='\\t')\n",
    "\n",
    "#data_split('wsd-data/wsd_data_subset.txt')\n",
    "data_split('wsd-data/wsd_data.txt')"
   ]
  },
  {
   "cell_type": "markdown",
   "metadata": {},
   "source": [
    "### Creating a baseline\n",
    "\n",
    "Your second task is to create a *baseline* for the task. A baseline is a \"reality check\" for a model, given a very simple heuristic/algorithmic/model solution to the problem, can our neural network perform better than this?\n",
    "The baseline you are to create is the \"most common sense\" (MCS) baseline. For each word form, find the most commonly assigned sense to the word, and label a words with that sense. **[2 marks]**\n",
    "\n",
    "E.g. In a fictional dataset, \"bank\" have two senses, \"financial institution\" which occur 5 times and \"side of river\" 3 times. Thus, all 8 occurences of bank is labeled \"financial institution\" and this yields an MCS accuracy of 5/8 = 62.5%. If a model obtain a higher score than this, we can conclude that the model *at least* is better than selecting the most frequent word sense."
   ]
  },
  {
   "cell_type": "code",
   "execution_count": 22,
   "metadata": {},
   "outputs": [],
   "source": [
    "def mcs_baseline(data):\n",
    "    sense_freq = data.groupby(['word-form', 'word-sense'], as_index=False).size()\n",
    "    word_freq = data.groupby('word-form', as_index=False).size()\n",
    "    mcs = sense_freq.loc[sense_freq.groupby('word-form')['size'].idxmax()].reset_index()\n",
    "    mcs['accuracy'] = (mcs['size'] / word_freq['size'])\n",
    "    print(\"MCS accuracy mean: {0:.0%}\".format(mcs['accuracy'].mean()))\n",
    "\n",
    "    mcs_output = mcs.to_string(columns=['word-form', 'accuracy'], formatters={'accuracy': '{:,.2%}'.format})\n",
    "    print(\"MCS accuracy table:\")\n",
    "    print(mcs_output)"
   ]
  },
  {
   "cell_type": "code",
   "execution_count": 23,
   "metadata": {},
   "outputs": [
    {
     "output_type": "stream",
     "name": "stdout",
     "text": [
      "MCS accuracy mean: 28%\nMCS accuracy table:\n         word-form accuracy\n0         active.a   32.73%\n1            bad.a   61.61%\n2          bring.v   20.52%\n3          build.v   21.39%\n4           case.n   20.14%\n5         common.a   26.22%\n6       critical.a   28.01%\n7         extend.v   17.66%\n8           find.v   23.31%\n9         follow.v   14.25%\n10         force.n   16.43%\n11          hold.v   14.75%\n12          keep.v   39.32%\n13          lead.v   18.03%\n14          life.n   22.98%\n15          line.n   84.64%\n16         major.a   30.67%\n17      national.a   20.29%\n18         order.n   21.76%\n19      physical.a   23.98%\n20         place.n   25.51%\n21         point.n   34.51%\n22      position.n   20.06%\n23      positive.a   35.36%\n24  professional.a   22.00%\n25       regular.a   22.85%\n26      security.n   20.86%\n27           see.v   62.47%\n28         serve.v   15.27%\n29          time.n   27.86%\n"
     ]
    }
   ],
   "source": [
    "df = pd.read_csv('training_data.csv', sep='\\t')\n",
    "mcs_baseline(df)"
   ]
  },
  {
   "cell_type": "markdown",
   "metadata": {},
   "source": [
    "### Creating data iterators\n",
    "\n",
    "To train a neural network, we first need to prepare the data. This involves converting words (and labels) to a number, and organizing the data into batches. We also want the ability to shuffle the examples such that they appear in a random order.  \n",
    "\n",
    "To do all of this we will use the torchtext library (https://torchtext.readthedocs.io/en/latest/index.html). In addition to converting our data into numerical form and creating batches, it will generate a word and label vocabulary, and data iterators than can sort and shuffle the examples. \n",
    "\n",
    "Your task is to create a dataloader for the training and test set you created previously. So, how do we go about doing this?\n",
    "\n",
    "1) First we create a ``Field`` for each of our columns. A field is a function which tokenize the input, keep a dictionary of word-to-numbers, and fix paddings. So, we need four fields, one for the word-sense, one for the position, one for the lemma and one for the context. \n",
    "\n",
    "2) After we have our fields, we need to process the data. For this we use the ``TabularDataset`` class. We pass the name and path of the training and test files we created previously, then we assign which field to use in each column. The result is that each column will be processed by the field indicated. So, the context column will be tokenized and processed by the context field and so on. \n",
    "\n",
    "3) After we have processed the dataset we need to build the vocabulary, for this we call the function ``build_vocab()`` on the different ``Fields`` with the output from ``TabularDataset`` as input. This looks at our dataset and creates the necessary vocabularies (word-to-number mappings). \n",
    "\n",
    "4) Finally, the last step. In the last step we load the data objects given by the ``TabularDataset`` and pass it to the ``BucketIterator`` class. This class will organize our examples into batches and shuffle them around (such that for each epoch the model observe the examples in a different order). When we are done with this we can let our function return the data iterators and vocabularies, then we are ready to train and test our model!\n",
    "\n",
    "Implement the dataloader. [**2 marks**]\n",
    "\n",
    "*hint: for TabularDataset and BucketIterator use the class function splits()* "
   ]
  },
  {
   "cell_type": "code",
   "execution_count": 24,
   "metadata": {},
   "outputs": [],
   "source": [
    "def dataloader(path):\n",
    "    whitespacer = lambda x: x.split(' ')\n",
    "\n",
    "    LABEL = Field(tokenize = whitespacer, batch_first = True)\n",
    "    TOKEN = Field(tokenize = whitespacer, batch_first = True, lower = True,)\n",
    "\n",
    "    train, test = TabularDataset.splits(\n",
    "        path   = path,\n",
    "        train  = 'training_data.csv',\n",
    "        test   = 'testing_data.csv',\n",
    "        format = 'csv',\n",
    "        fields = [\n",
    "            ('word_sense', LABEL),\n",
    "            ('word_form', TOKEN),\n",
    "            ('index_of_word', TOKEN),\n",
    "            ('context', TOKEN)],\n",
    "        csv_reader_params = {'delimiter':'\\t', 'quotechar':'½'})\n",
    "\n",
    "    LABEL.build_vocab(train)\n",
    "    TOKEN.build_vocab(train)\n",
    "\n",
    "    train_iter, test_iter = BucketIterator.splits(\n",
    "        (train, test),\n",
    "        batch_size        = batch_size,\n",
    "        sort_within_batch = True,\n",
    "        sort_key          = lambda x: len(x.word_form),\n",
    "        shuffle           = True,\n",
    "        device            = device)\n",
    "\n",
    "    return train_iter, test_iter, TOKEN.vocab, LABEL.vocab"
   ]
  },
  {
   "cell_type": "markdown",
   "metadata": {},
   "source": [
    "# 2.1 Creating and running a Neural Network for WSD\n",
    "\n",
    "In this section we will create and run a neural network to predict word senses based on *contextualized representations*."
   ]
  },
  {
   "cell_type": "markdown",
   "metadata": {},
   "source": [
    "### Model\n",
    "\n",
    "We will use a bidirectional Long-Short-Term Memory (LSTM) network to create a representation for the sentences and a Linear classifier to predict the sense of each word.\n",
    "\n",
    "When we initialize the model, we need a few things:\n",
    "\n",
    "    1) An embedding layer: a dictionary from which we can obtain word embeddings\n",
    "    2) A LSTM-module to obtain contextual representations\n",
    "    3) A classifier that compute scores for each word-sense given *some* input\n",
    "\n",
    "\n",
    "The general procedure is the following:\n",
    "\n",
    "    1) For each word in the sentence, obtain word embeddings\n",
    "    2) Run the embedded sentences through the RNN\n",
    "    3) Select the appropriate hidden state\n",
    "    4) Predict the word-sense \n",
    "\n",
    "**Suggestion for efficiency:**  *Use a low dimensionality (32) for word embeddings and the LSTM when developing and testing the code, then scale up when running the full training/tests*\n",
    "    \n",
    "Your tasks will be to create two different models (both follow the two outlines described above), described below:"
   ]
  },
  {
   "cell_type": "markdown",
   "metadata": {},
   "source": [
    "In the first approach to WSD, you are to select the index of our target word (column 3 in the dataset) and predict the word sense. **[5 marks]**\n"
   ]
  },
  {
   "cell_type": "code",
   "execution_count": 25,
   "metadata": {},
   "outputs": [],
   "source": [
    "class WSDModel_approach1(nn.Module):\n",
    "    def __init__(self, vocab_size, label_count, embedding_dim):\n",
    "        super(WSDModel_approach1, self).__init__()\n",
    "        # 1) An embedding layer: a dictionary from which we can obtain word \n",
    "        self.embeddings = nn.Embedding(vocab_size, embedding_dim)\n",
    "        # 2) A LSTM-module to obtain contextual representations\n",
    "        self.lstm = nn.LSTM(embedding_dim, embedding_dim)\n",
    "        # 3) A classifier that compute scores for each word-sense given *some* input     \n",
    "        self.fc = nn.Linear(embedding_dim, label_count)\n",
    "        #self.dropout = nn.Dropout(0.2)\n",
    "    \n",
    "    def forward(self, batch):\n",
    "        # 1) For each word in the sentence, obtain word embeddings\n",
    "        embedded_context = self.embeddings(batch.context)\n",
    "        # 2) Run the embedded sentences through the RNN\n",
    "        #output, (hs, cs) = self.lstm(embedded_context)\n",
    "        output, (_, _) = self.lstm(embedded_context)\n",
    "        #ouput = self.dropout(output)\n",
    "        #print(\"output2\", output.shape)\n",
    "        output = torch.sum(output, dim = 1)\n",
    "        output = self.fc(output)\n",
    "        # 3) Select the appropriate hidden state\n",
    "        # 4) Predict the word-sense based on:\n",
    "        #       The index of the target word\n",
    "        #target_index = batch.index_of_word\n",
    "\n",
    "        return output\n",
    "    \n",
    "    def init_state(self, sequence_length):\n",
    "        return (torch.zeros(self.num_layers, sequence_length, self.lstm_size),\n",
    "                torch.zeros(self.num_layers, sequence_length, self.lstm_size))"
   ]
  },
  {
   "cell_type": "markdown",
   "metadata": {},
   "source": [
    "In the second approach to WSD, you are to predict the word sense based on the final hidden state given by the RNN. **[5 marks]**"
   ]
  },
  {
   "cell_type": "code",
   "execution_count": 26,
   "metadata": {},
   "outputs": [],
   "source": [
    "class WSDModel_approach2(nn.Module):\n",
    "    def __init__(self, word_count, embedding_dim):\n",
    "        self.embeddings = nn.Embedding(word_count, embedding_dim)   # 1) An embedding layer: a dictionary from which we can obtain word embeddings\n",
    "        self.rnn = ...          # 2) A LSTM-module to obtain contextual representations\n",
    "        self.classifier = ...   # 3) A classifier that compute scores for each word-sense given *some* input\n",
    "    \n",
    "    def forward(self):\n",
    "        # 1) For each word in the sentence, obtain word embeddings\n",
    "        # 2) Run the embedded sentences through the RNN\n",
    "        # 3) Select the appropriate hidden state\n",
    "        # 4) Predict the word-sense based on:\n",
    "        #       The final hidden state given by the RNN\n",
    "        \n",
    "        return 0 #predictions"
   ]
  },
  {
   "cell_type": "markdown",
   "metadata": {},
   "source": [
    "### Training and testing the model\n",
    "\n",
    "Now we are ready to train and test our model. What we need now is a loss function, an optimizer, and our data. \n",
    "\n",
    "- First, create the loss function and the optimizer.\n",
    "- Next, we iterate over the number of epochs (i.e. how many times we let the model see our data). \n",
    "- For each epoch, iterate over the dataset (``train_iter``) to obtain batches. Use the batch as input to the model, and let the model output scores for the different word senses.\n",
    "- For each model output, calculate the loss (and print the loss) on the output and update the model parameters.\n",
    "- Reset the gradients and repeat.\n",
    "- After all epochs are done, test your trained model on the test set (``test_iter``) and calculate the total and per-word-form accuracy of your model.\n",
    "\n",
    "Implement the training and testing of the model **[4 marks]**\n",
    "\n",
    "**Suggestion for efficiency:** *when developing your model, try training and testing the model on one or two batches (for each epoch) of data to make sure everything works! It's very annoying if you train for N epochs to find out that something went wrong when testing the model, or to find that something goes wrong when moving from epoch 0 to epoch 1.*"
   ]
  },
  {
   "cell_type": "code",
   "execution_count": 27,
   "metadata": {},
   "outputs": [],
   "source": [
    "path_to_folder = \"./\"\n",
    "train_iter, test_iter, vocab, labels = dataloader(path_to_folder)"
   ]
  },
  {
   "cell_type": "code",
   "execution_count": 31,
   "metadata": {},
   "outputs": [
    {
     "output_type": "stream",
     "name": "stdout",
     "text": [
      "Epoch 0\n",
      "Avg loss: 5.441224172413663\n",
      "Epoch 1\n",
      "Avg loss: 1.6745914710934355\n",
      "Epoch 2\n",
      "Avg loss: 1.1131305292828477\n"
     ]
    }
   ],
   "source": [
    "vocab_size = len(vocab)\n",
    "label_count = len(labels)\n",
    "model = WSDModel_approach1(vocab_size, label_count, embedding_dim)\n",
    "model.to(device)\n",
    "loss_function = nn.CrossEntropyLoss()\n",
    "optimizer = torch.optim.Adam(model.parameters(), lr = learning_rate)\n",
    "\n",
    "for epoch in range(epochs):\n",
    "    print(\"Epoch\", epoch)\n",
    "    total_loss = 0\n",
    "    for i, batch in enumerate(train_iter):\n",
    "        expected = batch.word_sense\n",
    "        predicted = model(batch)\n",
    "        loss = loss_function(predicted.view(-1, label_count), expected.view(-1))\n",
    "        total_loss += loss.item()\n",
    "        print(f'\\rAvg loss: {total_loss/(i+1)}', end='') \n",
    "\n",
    "        optimizer.zero_grad()\n",
    "        loss.backward()\n",
    "        optimizer.step()\n",
    "    print()\n",
    "\n",
    "# test model after all epochs are completed"
   ]
  },
  {
   "cell_type": "markdown",
   "metadata": {},
   "source": [
    "# 2.2 Running a transformer for WSD"
   ]
  },
  {
   "cell_type": "markdown",
   "metadata": {},
   "source": [
    "In this section of the lab you'll try out the transformer, specifically the BERT model. For this we'll use the huggingface library (https://huggingface.co/).\n",
    "\n",
    "You can find the documentation for the BERT model here (https://huggingface.co/transformers/model_doc/bert.html) and a general usage guide here (https://huggingface.co/transformers/quickstart.html).\n",
    "\n",
    "What we're going to do is *fine-tune* the BERT model, i.e. update the weights of a pre-trained model. That is, we have a model that is trained on language modeling, but now we apply it to word sense disambiguation with the word representations it learnt from language modeling.\n",
    "\n",
    "We'll use the same data splits for training and testing as before, but this time you'll not use a torchtext dataloader. Rather now you create an iterator that collects N sentences (where N is the batch size) then use the BertTokenizer to transform the sentence into integers. For your dataloader, remember to:\n",
    "* Shuffle the data in each batch\n",
    "* Make sure you get a new iterator for each *epoch*\n",
    "* Create a vocabulary of *sense-labels* so you can calculate accuracy \n",
    "\n",
    "We then pass this batch into the BERT model and train as before. The BERT model will encode the sentence, then we send this encoded sentence into a prediction layer (you can either the the sentence-representation from bert, or the ambiguous word) like before and collect sense predictions.\n",
    "\n",
    "About the hyperparameters and training:\n",
    "* For BERT, usually a lower learning rate works best, between 0.0001-0.000001.\n",
    "* BERT takes alot of resources, running it on CPU will take ages, utilize the GPUs :)\n",
    "* Since BERT takes alot of resources, use a small batch size (4-8)\n",
    "* Computing the BERT representation, make sure you pass the mask\n",
    "\n",
    "**[10 marks]**"
   ]
  },
  {
   "cell_type": "code",
   "execution_count": 29,
   "metadata": {},
   "outputs": [],
   "source": [
    "def dataloader_for_bert(path_to_file, batch_size):\n",
    "    ..."
   ]
  },
  {
   "cell_type": "code",
   "execution_count": 30,
   "metadata": {},
   "outputs": [
    {
     "output_type": "error",
     "ename": "SyntaxError",
     "evalue": "invalid syntax (<ipython-input-30-45680f45608d>, line 2)",
     "traceback": [
      "\u001b[0;36m  File \u001b[0;32m\"<ipython-input-30-45680f45608d>\"\u001b[0;36m, line \u001b[0;32m2\u001b[0m\n\u001b[0;31m    def __init__(self, ...):\u001b[0m\n\u001b[0m                         ^\u001b[0m\n\u001b[0;31mSyntaxError\u001b[0m\u001b[0;31m:\u001b[0m invalid syntax\n"
     ]
    }
   ],
   "source": [
    "class BERT_WSD(nn.Module):\n",
    "    def __init__(self, ...):\n",
    "        # your code goes here\n",
    "        self.bert = ...\n",
    "        self.classifier = ...\n",
    "    \n",
    "    def forward(self, batch):\n",
    "        # your code goes here\n",
    "        \n",
    "        return predictions"
   ]
  },
  {
   "cell_type": "code",
   "execution_count": null,
   "metadata": {},
   "outputs": [],
   "source": [
    "loss_function = ...\n",
    "optimizer = ...\n",
    "model = ...\n",
    "\n",
    "for _ in range(epochs):\n",
    "    # train model\n",
    "    ...\n",
    "    \n",
    "# test model after all epochs are completed"
   ]
  },
  {
   "cell_type": "markdown",
   "metadata": {},
   "source": [
    "# 3. Evaluation"
   ]
  },
  {
   "cell_type": "markdown",
   "metadata": {},
   "source": [
    "Explain the difference between the first and second approach. What kind of representations are the different approaches using to predict word-senses? **[4 marks]**"
   ]
  },
  {
   "cell_type": "code",
   "execution_count": null,
   "metadata": {},
   "outputs": [],
   "source": []
  },
  {
   "cell_type": "markdown",
   "metadata": {},
   "source": [
    "Evaluate your model with per-word-form *accuracy* and comment on the results you get, how does the model perform in comparison to the baseline, and how do the models compare to each other? \n",
    "\n",
    "Expand on the evaluation by sorting the word-forms by the number of senses they have. Are word-forms with fewer senses easier to predict? Give a short explanation of the results you get based on the number of senses per word.\n",
    "\n",
    "**[6 marks]**"
   ]
  },
  {
   "cell_type": "markdown",
   "metadata": {},
   "source": [
    "How does the LSTMs perform in comparison to BERT? What's the difference between representations obtained by the LSTMs and BERT? **[2 marks]**"
   ]
  },
  {
   "cell_type": "code",
   "execution_count": null,
   "metadata": {},
   "outputs": [],
   "source": []
  },
  {
   "cell_type": "markdown",
   "metadata": {},
   "source": [
    "What could we do to improve our LSTM word sense disambiguation models and our BERT model? **[4 marks]**"
   ]
  },
  {
   "cell_type": "code",
   "execution_count": null,
   "metadata": {},
   "outputs": [],
   "source": []
  },
  {
   "cell_type": "markdown",
   "metadata": {},
   "source": [
    "# Readings:\n",
    "\n",
    "[1] Kågebäck, M., & Salomonsson, H. (2016). Word Sense Disambiguation using a Bidirectional LSTM. arXiv preprint arXiv:1606.03568.\n",
    "\n",
    "[2] https://cl.lingfil.uu.se/~nivre/master/NLP-LexSem.pdf"
   ]
  }
 ],
 "metadata": {
  "kernelspec": {
   "name": "python3",
   "display_name": "Python 3",
   "language": "python"
  },
  "language_info": {
   "codemirror_mode": {
    "name": "ipython",
    "version": 3
   },
   "file_extension": ".py",
   "mimetype": "text/x-python",
   "name": "python",
   "nbconvert_exporter": "python",
   "pygments_lexer": "ipython3",
   "version": "3.7.4"
  },
  "metadata": {
   "interpreter": {
    "hash": "31f2aee4e71d21fbe5cf8b01ff0e069b9275f58929596ceb00d14d90e3e16cd6"
   }
  }
 },
 "nbformat": 4,
 "nbformat_minor": 4
}