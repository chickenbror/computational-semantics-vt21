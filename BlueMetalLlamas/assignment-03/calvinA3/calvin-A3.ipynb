{
 "cells": [
  {
   "cell_type": "markdown",
   "metadata": {},
   "source": [
    "# Lab 3: Word Embeddings and Language Modelling\n",
    "\n",
    "Adam Ek"
   ]
  },
  {
   "cell_type": "markdown",
   "metadata": {},
   "source": [
    "In this lab we'll explore constructing *static* word embeddings (i.e. word2vec) and building language models. We'll also evaluate these systems on intermediate tasks, namely word similarity and identifying \"good\" and \"bad\" sentences.\n",
    "\n",
    "* For this we'll use pytorch. Some basic operations that will be useful can be found here: https://jhui.github.io/2018/02/09/PyTorch-Basic-operations\n",
    "* In general: we are not interested in getting state-of-the-art performance :) focus on the implementation and not results of your model. For this reason, you can use a subset of the dataset: the first 5000-10 000 sentences or so, on linux/mac: ```head -n 10000 inputfile > outputfile```. \n",
    "* If possible, use the MLTGpu, it will make everything faster :)"
   ]
  },
  {
   "cell_type": "code",
   "execution_count": 208,
   "metadata": {},
   "outputs": [],
   "source": [
    "# MAKE A SMALLER TXT CORPUS\n",
    "# inputfile, outputfile, headn = 'wiki-corpus.txt', 'wiki-subset.txt', 10000\n",
    "# with open(inputfile, encoding='utf8') as f:\n",
    "#     lines_head = [l for l in f][:headn]\n",
    "# with open(outputfile, 'w', encoding='utf8') as f:\n",
    "#     for l in lines_head:\n",
    "#         f.write(l)"
   ]
  },
  {
   "cell_type": "code",
   "execution_count": 4,
   "metadata": {},
   "outputs": [],
   "source": [
    "import torch\n",
    "import torch.nn as nn\n",
    "import torch.nn.functional as F\n",
    "import numpy as np\n",
    "\n",
    "# for gpu, replace \"cpu\" with \"cuda:n\" where n is the index of the GPU\n",
    "devicetype = \"cuda\" if torch.cuda.is_available() else \"cpu\"\n",
    "device = torch.device(devicetype)"
   ]
  },
  {
   "cell_type": "markdown",
   "metadata": {},
   "source": [
    "# Word2Vec embeddings\n",
    "\n",
    "In this first part we'll construct a word2vec model which will give us *static* word embeddings (that is, they are fixed after training).\n",
    "\n",
    "After we've trained our model we will evaluate the embeddings obtained on a word similarity task."
   ]
  },
  {
   "cell_type": "markdown",
   "metadata": {},
   "source": [
    "## Formatting data\n"
   ]
  },
  {
   "cell_type": "markdown",
   "metadata": {},
   "source": [
    "First we need to load some data, you can download the file on canvas under files/03-lab-data/wiki-corpus.txt. The file contains 50 000 sentences randomly selected from the complete wikipedia. Each line in the file contains one sentence. The sentences are whitespace tokenized.\n",
    "\n",
    "Your first task is to create a dataset suitable for word2vec. That is, we define some ```window_size``` then iterate over all sentences in the dataset, putting the center word in one field and the context words in another (separate the fields with ```tab```).\n",
    "\n",
    "For example, the sentece \"this is a lab\" with ```window size = 4``` will be formatted as:\n",
    "```\n",
    "center, context\n",
    "---------------------\n",
    "this    is a lab\n",
    "is      this a lab\n",
    "a       this is lab\n",
    "lab     this is a\n",
    "```\n",
    "\n",
    "this will be our training examples when training the word2vec model.\n",
    "\n",
    "[3 marks]"
   ]
  },
  {
   "cell_type": "code",
   "execution_count": 5,
   "metadata": {},
   "outputs": [],
   "source": [
    "# data_path = 'wiki-corpus.txt'\n",
    "data_path = 'wiki-subset.txt'\n",
    "WINDOW_SIZE = 4  # Hyperparameter of context size\n",
    "\n",
    "from string import punctuation\n",
    "import pandas as pd\n",
    "\n",
    "def corpus_reader(data_path):\n",
    "    with open(data_path, encoding='utf8') as f:\n",
    "      lines = [l.lower().split() for l in f] # tokenized sentences list\n",
    "      center_and_context = []\n",
    "      for l in lines:\n",
    "        l = [token for token in l if token not in punctuation]\n",
    "        \n",
    "#         ngrammize = lambda input_list,n : list(zip(*[input_list[i:] for i in range(n)])) # Turn a tokens list to n-grams list\n",
    "#         ngrams = ngrammize( l, WINDOW_SIZE )\n",
    "#         for gram in ngrams:\n",
    "#           idx_range = range(WINDOW_SIZE)\n",
    "#           for i in idx_range:\n",
    "#             center = gram[i] # One of the words in the ngram\n",
    "#             context = [ gram[j] for j in idx_range if j!=i ] # The rest of the ngram words that isn't the center word\n",
    "#             center_and_context.append(f\"{center}\\t{' '.join(context)}\")\n",
    "\n",
    "        k = int(WINDOW_SIZE/2) # window size to the left or right\n",
    "#         l = ['<START>']*k + l + ['<END>']*k  # start/end tokens to make each context the same length\n",
    "        for i in range( len(l) ):\n",
    "            center, context = l[i], []\n",
    "            context_idx = [i+j for j in range(-k,0)] + [i+j for j in range(1,k+1)] # indexes before and after\n",
    "            for idx in context_idx:\n",
    "                if idx>=0: # If index isn't negative, add as many context (before+after) words as allowed \n",
    "                    try:\n",
    "                        context.append(l[idx])\n",
    "                    except IndexError:\n",
    "                        pass\n",
    "#             if center not in ['<START>','<END>']:\n",
    "            if len(context)!=0:\n",
    "                center_and_context.append( [center, f\"{' '.join(context)}\"] )\n",
    "\n",
    "\n",
    "#     # Create new CSV/TSV file where each line is Center<tab>Context\n",
    "    df = pd.DataFrame(center_and_context, columns=['center','context'])\n",
    "    df.to_csv(data_path.replace('.txt','-formatted.csv'), index=False, sep='\\t')\n",
    "\n",
    "\n",
    "corpus_reader(data_path) # Format txt and save as csv"
   ]
  },
  {
   "cell_type": "code",
   "execution_count": 6,
   "metadata": {},
   "outputs": [
    {
     "data": {
      "text/html": [
       "<div>\n",
       "<style scoped>\n",
       "    .dataframe tbody tr th:only-of-type {\n",
       "        vertical-align: middle;\n",
       "    }\n",
       "\n",
       "    .dataframe tbody tr th {\n",
       "        vertical-align: top;\n",
       "    }\n",
       "\n",
       "    .dataframe thead th {\n",
       "        text-align: right;\n",
       "    }\n",
       "</style>\n",
       "<table border=\"1\" class=\"dataframe\">\n",
       "  <thead>\n",
       "    <tr style=\"text-align: right;\">\n",
       "      <th></th>\n",
       "      <th>center</th>\n",
       "      <th>context</th>\n",
       "    </tr>\n",
       "  </thead>\n",
       "  <tbody>\n",
       "    <tr>\n",
       "      <th>0</th>\n",
       "      <td>anarchist</td>\n",
       "      <td>historian george</td>\n",
       "    </tr>\n",
       "    <tr>\n",
       "      <th>1</th>\n",
       "      <td>historian</td>\n",
       "      <td>anarchist george woodcock</td>\n",
       "    </tr>\n",
       "    <tr>\n",
       "      <th>2</th>\n",
       "      <td>george</td>\n",
       "      <td>anarchist historian woodcock reports</td>\n",
       "    </tr>\n",
       "    <tr>\n",
       "      <th>3</th>\n",
       "      <td>woodcock</td>\n",
       "      <td>historian george reports that</td>\n",
       "    </tr>\n",
       "    <tr>\n",
       "      <th>4</th>\n",
       "      <td>reports</td>\n",
       "      <td>george woodcock that the</td>\n",
       "    </tr>\n",
       "    <tr>\n",
       "      <th>...</th>\n",
       "      <td>...</td>\n",
       "      <td>...</td>\n",
       "    </tr>\n",
       "    <tr>\n",
       "      <th>238837</th>\n",
       "      <td>their</td>\n",
       "      <td>and sterilizing equipment after</td>\n",
       "    </tr>\n",
       "    <tr>\n",
       "      <th>238838</th>\n",
       "      <td>equipment</td>\n",
       "      <td>sterilizing their after each</td>\n",
       "    </tr>\n",
       "    <tr>\n",
       "      <th>238839</th>\n",
       "      <td>after</td>\n",
       "      <td>their equipment each use</td>\n",
       "    </tr>\n",
       "    <tr>\n",
       "      <th>238840</th>\n",
       "      <td>each</td>\n",
       "      <td>equipment after use</td>\n",
       "    </tr>\n",
       "    <tr>\n",
       "      <th>238841</th>\n",
       "      <td>use</td>\n",
       "      <td>after each</td>\n",
       "    </tr>\n",
       "  </tbody>\n",
       "</table>\n",
       "<p>238842 rows × 2 columns</p>\n",
       "</div>"
      ],
      "text/plain": [
       "           center                               context\n",
       "0       anarchist                      historian george\n",
       "1       historian             anarchist george woodcock\n",
       "2          george  anarchist historian woodcock reports\n",
       "3        woodcock         historian george reports that\n",
       "4         reports              george woodcock that the\n",
       "...           ...                                   ...\n",
       "238837      their       and sterilizing equipment after\n",
       "238838  equipment          sterilizing their after each\n",
       "238839      after              their equipment each use\n",
       "238840       each                   equipment after use\n",
       "238841        use                            after each\n",
       "\n",
       "[238842 rows x 2 columns]"
      ]
     },
     "execution_count": 6,
     "metadata": {},
     "output_type": "execute_result"
    }
   ],
   "source": [
    "# The saved CSV/TSV looks like this:\n",
    "csvdf = pd.read_csv('wiki-subset-formatted.csv', sep='\\t')\n",
    "csvdf"
   ]
  },
  {
   "cell_type": "code",
   "execution_count": 7,
   "metadata": {},
   "outputs": [],
   "source": [
    "##MAYBE NOT NEEDED??\n",
    "# from sklearn.model_selection import train_test_split\n",
    "# def split_tsv(tsv_filename, newfilename, train_frac=0.8):\n",
    "#     '''Randomize and split a TSV to a training file and a test file'''\n",
    "#     df = pd.read_csv(tsv_filename, sep='\\t')\n",
    "#     train, test = train_test_split(df, test_size = 1-train_frac)\n",
    "\n",
    "#     train.to_csv(newfilename+'-train.csv', index=False, sep='\\t')\n",
    "#     test.to_csv(newfilename+'-test.csv', index=False, sep='\\t')\n",
    "    \n",
    "# split_tsv('wiki-corpus-formatted.csv', 'wiki', train_frac=0.8)"
   ]
  },
  {
   "cell_type": "markdown",
   "metadata": {},
   "source": [
    "We sampled 50 000 senteces completely random from the *whole* wikipedia for our training data. Give some reasons why this is good, and why it might be bad. (*note*: We'll have a few questions like these, one or two reasons for and against is sufficient)\n",
    "\n",
    "[2 marks]"
   ]
  },
  {
   "cell_type": "markdown",
   "metadata": {},
   "source": [
    "**Pros:** This method embeds each word within a given windows size, which gives us the freedom of adjusting the context size according to the purpose, for example, whether we want the context feature to capture syntactic or semantics information. Also, each token is only represented by one center+context pair so it computes faster during training/model-building. (Compare to Note below.)\n",
    "\n",
    "**Cons:**\n",
    "The length of context words varies. Eg if a word is near the start/end of a sentence, its context will lack words before/after and hence carries less information (may be solved by adding start/end tokens on either ends of each sentence). Also, the tokens are derivative forms of words; depending on how we want to represent the meanings, it may be a good idea to lemmatize them.\n",
    "\n",
    "**Note:** The original way of formatting (before Adam updated the notebook on May 2; as implemented by the commented lines above) results in N center+context pairs for each token, where N=WINDOW_SIZE. For example, if WINDOW_SIZE=4, then a token is represented by 4 different combinations, namely: \n",
    "\n",
    "    center + [center-3, center-2, center-1]\n",
    "\n",
    "    center + [center-2, center-1, center+1]\n",
    "\n",
    "    center + [center-1, center+1, center+2]\n",
    "\n",
    "    center + [center+1, center+2, center+3]\n",
    "\n"
   ]
  },
  {
   "cell_type": "markdown",
   "metadata": {},
   "source": [
    "### Loading the data\n",
    "\n",
    "We now need to load the data in an appropriate format for torchtext (https://torchtext.readthedocs.io/en/latest/). We'll use PyText for this and it'll follow the same structure as I showed you in the lecture (remember to lower-case all tokens). Create a function which returns a (bucket)iterator of the training data, and the vocabulary object (```Field```). \n",
    "\n",
    "(*hint1*: you can format the data such that the center word always is first, then you only need to use one field)\n",
    "\n",
    "(*hint2*: the code I showed you during the leture is available in /files/pytorch_tutorial/ on canvas)\n",
    "\n",
    "[4 marks]"
   ]
  },
  {
   "cell_type": "code",
   "execution_count": 8,
   "metadata": {},
   "outputs": [],
   "source": [
    "from torchtext.legacy.data import Field, BucketIterator, TabularDataset, Iterator"
   ]
  },
  {
   "cell_type": "code",
   "execution_count": 9,
   "metadata": {},
   "outputs": [],
   "source": [
    "def get_data(datafile):\n",
    "\n",
    "    # \"fields\" that process the columns in TSV files\n",
    "    Center = Field(lower=True, batch_first=True)\n",
    "    Context = Field(tokenize = lambda x:x.split(), lower=True, batch_first=True)\n",
    "    fields = [('center', Center),('context', Context)]\n",
    "    \n",
    "    # read the TSV files and create a dataset generator, for example:\n",
    "    #     data[0].center # list of 1 item, eg, ['anarchist']\n",
    "    #     data[4].context # list of context tokens, eg, ['george', 'woodcock', 'that', 'the']\n",
    "    data = TabularDataset(path=datafile, format='csv', fields=fields,\n",
    "                          skip_header=True, csv_reader_params = {'delimiter':'\\t','quotechar':'、'})\n",
    "\n",
    "    # build vocabularies based on what TSV files contained and create word2id mapping\n",
    "    #   len(Center.vocab) == vocabsize\n",
    "    #   Center.vocab[wordstr]==encoding, eg Center.vocab['anarchist']==3334 ; Center.vocab[UnknownWord]==0\n",
    "    Center.build_vocab(data, min_freq=1)\n",
    "    Context.build_vocab(data) # same size as Center\n",
    "\n",
    "    # create batches from our data, and shuffle them for each epoch\n",
    "    # TODO Do we need sort_within_batch = True, sort_key= lambda x: len(x.context), \n",
    "    #      since center+context (1+4) are almost same length?\n",
    "    dataset_iter = BucketIterator( data, batch_size= 8, shuffle= True, device= device)\n",
    "\n",
    "    return dataset_iter, Center.vocab\n"
   ]
  },
  {
   "cell_type": "code",
   "execution_count": 10,
   "metadata": {},
   "outputs": [],
   "source": [
    "dataset, vocab = get_data('wiki-subset-formatted.csv')\n",
    "# dataset, vocab = get_data('wiki-corpus-formatted.csv')\n"
   ]
  },
  {
   "cell_type": "code",
   "execution_count": 11,
   "metadata": {},
   "outputs": [],
   "source": [
    "# Look up word by its number in vocab; Same as vocab.itos\n",
    "# vocabwords = csvdf.center.unique().tolist() + ['<unk>','<pad>']\n",
    "# i2word={vocab[w]:w for w in vocabwords}"
   ]
  },
  {
   "cell_type": "code",
   "execution_count": 12,
   "metadata": {},
   "outputs": [
    {
     "data": {
      "text/plain": [
       "[(0,\n",
       "  \n",
       "  [torchtext.legacy.data.batch.Batch of size 8]\n",
       "  \t[.center]:[torch.LongTensor of size 8x1]\n",
       "  \t[.context]:[torch.LongTensor of size 8x4])]"
      ]
     },
     "execution_count": 12,
     "metadata": {},
     "output_type": "execute_result"
    }
   ],
   "source": [
    "[item for item in enumerate(dataset)][:1]  # Generated results are randomized"
   ]
  },
  {
   "cell_type": "code",
   "execution_count": 77,
   "metadata": {},
   "outputs": [
    {
     "name": "stdout",
     "output_type": "stream",
     "text": [
      "0 torch.Size([8, 1]) torch.Size([8])\n",
      "1 torch.Size([8, 1]) torch.Size([8])\n",
      "2 torch.Size([8, 1]) torch.Size([8])\n"
     ]
    }
   ],
   "source": [
    "for i, batch in enumerate(dataset):\n",
    "    center = batch.center  \n",
    "    context = batch.context\n",
    "    context = torch.sum(context,dim=1)  # Expects (B,S)=>(B,1)|(B)\n",
    "    print(i,center.shape, context.shape) # Context tensor, shape= 8,S  ie B=batchsize, S=winsize(range 2~4)\n",
    "    \n",
    "    if i==2:\n",
    "        break"
   ]
  },
  {
   "cell_type": "markdown",
   "metadata": {},
   "source": [
    "We lower-cased all tokens above; give some reasons why this is a good idea, and why it may be harmful to our embeddings.\n",
    "\n",
    "[2 marks]"
   ]
  },
  {
   "cell_type": "markdown",
   "metadata": {},
   "source": [
    "## Word Embeddings Model"
   ]
  },
  {
   "cell_type": "markdown",
   "metadata": {},
   "source": [
    "We will implement the CBOW model for constructing word embedding models."
   ]
  },
  {
   "cell_type": "code",
   "execution_count": 14,
   "metadata": {},
   "outputs": [],
   "source": [
    "import torch.optim as optim"
   ]
  },
  {
   "cell_type": "markdown",
   "metadata": {},
   "source": [
    "In the CBOW model we try to predict the center word based on the context. That is, we take as input ```n``` context words, encode them as vectors, then combine them by summation. This will give us one embedding. We then use this embedding to predict *which* word in our vocabuary is the most likely center word. \n",
    "\n",
    "Implement this model \n",
    "\n",
    "[7 marks]"
   ]
  },
  {
   "cell_type": "code",
   "execution_count": 75,
   "metadata": {},
   "outputs": [],
   "source": [
    "class CBOWModel(nn.Module):\n",
    "    def __init__(self, vocab_size, embedding_dim): # Args: vocab_size:int, embed_dim:int, context_size=:int\n",
    "        super(CBOWModel, self).__init__()\n",
    "        \n",
    "        #out: 1 x emdedding_dim\n",
    "        self.embeddings = nn.Embedding(vocab_size, embedding_dim)  # Matrix of V*D\n",
    "        self.linear = nn.Linear(embedding_dim, vocab_size)  # 128 => V\n",
    "#         self.window_size = window_size\n",
    "\n",
    "#         self.embeddings = ...\n",
    "#         self.prediction = ...\n",
    "    \n",
    "    def forward(self, context):\n",
    "        embedded_context = self.embeddings(context)\n",
    "        embedded_context = self.projection_function(embedded_context) # [B,S,D] => [B,D]\n",
    "        out = self.linear(embedded_context) # nonlinear + projection\n",
    "        log_probs = F.log_softmax(out, dim=1) # softmax log-prob\n",
    "        return log_probs\n",
    "    \n",
    "#         embedded_context = self.embeddings(context).view((1, -1))\n",
    "#         projection = projection_function(embedded_context)\n",
    "#         out = F.relu(self.linear1(projection))\n",
    "#         out = self.linear2(out)\n",
    "#         predictions = F.log_softmax(out, dim=1)\n",
    "#         return predictions\n",
    "\n",
    "    def projection_function(self, xs):\n",
    "        \"\"\"\n",
    "        This function will take as input a tensor of size (B, S, D)\n",
    "        where B is the batch_size, S the window size, and D the dimensionality of embeddings\n",
    "        this function should compute the sum over the embedding dimensions of the input, \n",
    "        that is, we transform (B, S, D) to (B, 1, D) or (B, D) \n",
    "        \"\"\"\n",
    "        xs_sum = torch.sum(xs,dim=1)\n",
    "        return xs_sum\n",
    "    \n",
    "    \n",
    "# def vectorize_context(context, vocab):\n",
    "#     idxs = [vocab.stoi[w] for w in context]\n",
    "#     return torch.tensor(idxs, dtype=torch.long)"
   ]
  },
  {
   "cell_type": "markdown",
   "metadata": {},
   "source": [
    "Now we need to train the models. First we define which hyperparameters to use. (You can change these, for example when *developing* your model you can use a batch size of 2 and a very low dimensionality (say 10), just to speed things up). When actually training your model *fo real*, you can use a batch size of [8,16,32,64], and embedding dimensionality of [128,256]."
   ]
  },
  {
   "cell_type": "code",
   "execution_count": 73,
   "metadata": {},
   "outputs": [],
   "source": [
    "# you can change these numbers to suit your needs :)\n",
    "word_embeddings_hyperparameters = {'epochs':3,\n",
    "                                   'batch_size':16,\n",
    "                                   'embedding_size':128,\n",
    "                                   'learning_rate':0.001,\n",
    "                                   'embedding_dim':128}"
   ]
  },
  {
   "cell_type": "markdown",
   "metadata": {},
   "source": [
    "Train your model. Iterate over the dataset, get outputs from your model, calculate loss and backpropagate.\n",
    "\n",
    "We mentioned in the lecture that we use Negative Log Likelihood (https://pytorch.org/docs/stable/generated/torch.nn.NLLLoss.html) loss to train Word2Vec model. In this lab we'll take a shortcut when *training* and use Cross Entropy Loss (https://pytorch.org/docs/stable/generated/torch.nn.CrossEntropyLoss.html), basically it combines ```log_softmax``` and ```NLLLoss```. So what your model should output is a *score* for each word in our vocabulary. The ```CrossEntropyLoss``` will then assign probabilities and calculate the negative log likelihood loss.\n",
    "\n",
    "[3 marks]"
   ]
  },
  {
   "cell_type": "code",
   "execution_count": null,
   "metadata": {},
   "outputs": [
    {
     "name": "stderr",
     "output_type": "stream",
     "text": [
      "  0%|          | 0/3 [00:00<?, ?it/s]"
     ]
    },
    {
     "name": "stdout",
     "output_type": "stream",
     "text": [
      "average loss: 8.3614498875296049\r"
     ]
    }
   ],
   "source": [
    "# load data\n",
    "# dataset, vocab = get_data( 'wiki-corpus-formatted.csv' )\n",
    "\n",
    "# build model and construct loss/optimizer\n",
    "cbow_model = CBOWModel(len(vocab), word_embeddings_hyperparameters['embedding_dim'])\n",
    "cbow_model.to(device)\n",
    "loss_fn = nn.CrossEntropyLoss() #Alt, loss_fn = nn.NLLLoss()\n",
    "optimizer = optim.Adam(cbow_model.parameters(), lr=word_embeddings_hyperparameters['learning_rate'])\n",
    "\n",
    "# start training loop\n",
    "from tqdm import tqdm\n",
    "total_loss = 0\n",
    "for epoch in tqdm( range(word_embeddings_hyperparameters['epochs']) ):\n",
    "    for i, batch in enumerate(dataset):\n",
    "        \n",
    "        context = batch.context # tensor of size 8,4 (B,winsize)\n",
    "        center = batch.center # tensor of size 8,1\n",
    "        \n",
    "        # send your batch of sentences to the model\n",
    "        output = cbow_model(context)  # output: tensor of size 8,vocsize (B,vocsize)\n",
    "        \n",
    "#         print(context.shape, center.shape, output.shape, sep='\\n'); break  # [8,4], [8,1], [8, 31195]\n",
    "#         print(center.view(-1).shape) ;break  # [8]\n",
    "\n",
    "        # compute the loss, you'll need to reshape the input\n",
    "        # you can read more about this is the documentation for\n",
    "        # CrossEntropyLoss\n",
    "        loss = loss_fn(output, center.view(-1))  #in:(B,vocsize), target:(B)\n",
    "        total_loss += loss.item()\n",
    "        \n",
    "        # print average loss for the epoch\n",
    "        print(f'average loss: {total_loss/(i+1)}', end='\\r') \n",
    "        \n",
    "        # compute gradients; # update parameters; # reset gradients\n",
    "        loss.backward();     optimizer.step();    optimizer.zero_grad()\n",
    "        \n",
    "    print(f'Averge loss of epoch {epoch}: {}')\n",
    "        "
   ]
  },
  {
   "cell_type": "markdown",
   "metadata": {},
   "source": [
    "## Evaluating the model"
   ]
  },
  {
   "cell_type": "markdown",
   "metadata": {},
   "source": [
    "We will evaluate the model on a dataset of word similarities, WordSim353 (http://alfonseca.org/eng/research/wordsim353.html , also avalable in vanvas under files/03-l). The first thing we need to do is read the dataset and translate it to integers. What we'll do is to reuse the ```Field``` that records word indexes (the second output of ```get_data()```) and use it to parse the file.\n",
    "\n",
    "The wordsim data is structured as follows:\n",
    "\n",
    "```\n",
    "word1 word2 score\n",
    "...\n",
    "```\n",
    "\n",
    "\n",
    "The ```Field``` we got from ```read_data()``` has two built-in functions, ```stoi``` which maps a string to an integer and ```itos``` which maps an integer to a string. \n",
    "\n",
    "What our datareader needs to do is: \n",
    "\n",
    "```\n",
    "for line in file:\n",
    "    word1, word2, score = file.split()\n",
    "    # encode word1 and word2 as integers\n",
    "    word1_idx = vocab.vocab.stoi[word1]\n",
    "    word2_idx = vocab.vocab.stoi[word2]\n",
    "```\n",
    "\n",
    "when we have the integers for ```word_1``` and ```word2``` we'll compute the similarity between their word embeddings with *cosine simlarity*. We can obtain the embeddings by querying the embedding layer of the model.\n",
    "\n",
    "We calculate the cosine similarity for each word pair in the dataset, then compute the pearson correlation between the similarities we obtained with the scores given in the dataset. \n",
    "\n",
    "[4 marks]"
   ]
  },
  {
   "cell_type": "code",
   "execution_count": 28,
   "metadata": {},
   "outputs": [
    {
     "data": {
      "text/plain": [
       "29497"
      ]
     },
     "execution_count": 28,
     "metadata": {},
     "output_type": "execute_result"
    }
   ],
   "source": [
    "# vocab.itos[3334]  # i to string => anarchist\n",
    "# vocab.stoi['anarchist']  # string to i => 3334\n",
    "vocab.stoi['tiger']"
   ]
  },
  {
   "cell_type": "code",
   "execution_count": 87,
   "metadata": {},
   "outputs": [
    {
     "data": {
      "text/plain": [
       "31195"
      ]
     },
     "execution_count": 87,
     "metadata": {},
     "output_type": "execute_result"
    }
   ],
   "source": [
    "len(vocab)"
   ]
  },
  {
   "cell_type": "code",
   "execution_count": 32,
   "metadata": {},
   "outputs": [
    {
     "data": {
      "text/plain": [
       "0.04718979448080063"
      ]
     },
     "execution_count": 32,
     "metadata": {},
     "output_type": "execute_result"
    }
   ],
   "source": [
    "lookup_tensor = lambda w : cbow_model.embeddings(torch.LongTensor([ vocab.stoi[w] ]))\n",
    "# lookup_tensor('tiger')\n",
    "w1tens, w2tens = lookup_tensor('tiger'),lookup_tensor('cat')\n",
    "F.cosine_similarity( w1tens, w2tens ).item()"
   ]
  },
  {
   "cell_type": "code",
   "execution_count": 34,
   "metadata": {},
   "outputs": [],
   "source": [
    "# your code goes here\n",
    "\n",
    "def read_wordsim(path, vocab, embeddings):\n",
    "    pairs = []\n",
    "    dataset_sims = []\n",
    "    model_sims = []\n",
    "    with open(path) as f:\n",
    "        for line in f:\n",
    "            word1, word2, score = line.split()\n",
    "            pairs.append( (word1,word2) )\n",
    "            \n",
    "            score = float(score)\n",
    "            dataset_sims.append(score)\n",
    "            \n",
    "            # get the index for the word: \n",
    "            word1_idx,word2_idx = vocab.stoi[word1],vocab.stoi[word2]\n",
    "            \n",
    "            # get the embedding of the word\n",
    "            lookup_tensor = lambda idx:embeddings(torch.LongTensor([idx]))\n",
    "            word1_emb,word2_emb = lookup_tensor(word1_idx), lookup_tensor(word2_idx)\n",
    "            \n",
    "            # compute cosine similarity, we'll use the version included in pytorch functional\n",
    "            # https://pytorch.org/docs/master/generated/torch.nn.functional.cosine_similarity.html\n",
    "            cosine_similarity = F.cosine_similarity( word1_emb,word2_emb ) # Compares two tensors\n",
    "            \n",
    "            model_sims.append(cosine_similarity.item())\n",
    "    \n",
    "    return dataset_sims, model_sims, pairs  # list of golds VS list of embeds cos-sims"
   ]
  },
  {
   "cell_type": "code",
   "execution_count": 35,
   "metadata": {},
   "outputs": [
    {
     "name": "stdout",
     "output_type": "stream",
     "text": [
      "(0.19635305677589926, 0.004989523241634428)\n"
     ]
    }
   ],
   "source": [
    "path = 'wordsim_similarity_goldstandard.txt'\n",
    "data, model, pairs = read_wordsim( path, vocab, cbow_model.embeddings ) \n",
    "\n",
    "from scipy import stats \n",
    "pearson_correlation = stats.pearsonr(data, model) or np.corrcoef(data, model)\n",
    "# the non-diagonals give the pearson correlation,\n",
    "print(pearson_correlation)"
   ]
  },
  {
   "cell_type": "markdown",
   "metadata": {},
   "source": [
    "Do you think the model performs good or bad? Why?\n",
    "\n",
    "[3 marks]"
   ]
  },
  {
   "cell_type": "code",
   "execution_count": 41,
   "metadata": {},
   "outputs": [
    {
     "data": {
      "text/plain": [
       "{('train', 'car'): (6.31, -0.043926022946834564),\n",
       " ('television', 'radio'): (6.77, -0.05440755933523178),\n",
       " ('media', 'radio'): (7.42, -0.06599900126457214),\n",
       " ('bread', 'butter'): (6.19, -0.04548022896051407),\n",
       " ('cucumber', 'potato'): (5.92, -0.03195672854781151),\n",
       " ('doctor', 'nurse'): (7.0, -0.041740138083696365),\n",
       " ('professor', 'doctor'): (6.62, -0.07217798382043839),\n",
       " ('student', 'professor'): (6.81, -0.09475202858448029),\n",
       " ('money', 'cash'): (9.15, -0.059843964874744415),\n",
       " ('king', 'queen'): (8.58, -0.049784451723098755),\n",
       " ('fuck', 'sex'): (9.44, -0.05313356965780258),\n",
       " ('football', 'soccer'): (9.03, -0.02393042854964733),\n",
       " ('physics', 'chemistry'): (7.35, -0.07173005491495132),\n",
       " ('vodka', 'gin'): (8.46, -0.0028264059219509363),\n",
       " ('boy', 'lad'): (8.83, -0.04523937404155731),\n",
       " ('coast', 'shore'): (9.1, -0.013577607460319996),\n",
       " ('magician', 'wizard'): (9.02, -0.09877604246139526),\n",
       " ('food', 'fruit'): (7.52, -0.05125702917575836),\n",
       " ('bird', 'cock'): (7.1, -0.014414656907320023),\n",
       " ('bird', 'crane'): (7.38, -0.13801242411136627),\n",
       " ('tiger', 'mammal'): (6.85, -0.16053032875061035),\n",
       " ('tiger', 'animal'): (7.0, -0.11218561977148056),\n",
       " ('psychology', 'psychiatry'): (8.08, -0.09846065193414688),\n",
       " ('psychology', 'science'): (6.71, -0.036661505699157715),\n",
       " ('planet', 'moon'): (8.08, -0.007910053245723248),\n",
       " ('precedent', 'example'): (5.85, -0.06104447692632675),\n",
       " ('precedent', 'antecedent'): (6.04, -0.0367421954870224),\n",
       " ('cup', 'tableware'): (6.85, -0.14183488488197327),\n",
       " ('cup', 'artifact'): (2.92, -0.0734696239233017),\n",
       " ('cup', 'object'): (3.69, -0.006255531217902899),\n",
       " ('mile', 'kilometer'): (8.66, -0.09343338012695312),\n",
       " ('skin', 'eye'): (6.22, -0.037806879729032516),\n",
       " ('century', 'year'): (7.59, -0.06397531926631927),\n",
       " ('announcement', 'news'): (7.56, -0.015389153733849525),\n",
       " ('life', 'death'): (7.88, -0.0113474540412426),\n",
       " ('street', 'block'): (6.88, -0.0163708683103323),\n",
       " ('dividend', 'payment'): (7.63, -0.051655642688274384),\n",
       " ('phone', 'equipment'): (7.13, -0.02651284821331501),\n",
       " ('liquid', 'water'): (7.89, -0.051734160631895065),\n",
       " ('lobster', 'wine'): (5.7, -0.0586574450135231),\n",
       " ('championship', 'tournament'): (8.36, -0.1211697906255722),\n",
       " ('man', 'woman'): (8.3, -0.0850927010178566),\n",
       " ('opera', 'performance'): (6.88, -0.07026296108961105),\n",
       " ('glass', 'metal'): (5.56, -0.08613337576389313),\n",
       " ('aluminum', 'metal'): (7.83, -0.06104746088385582),\n",
       " ('rock', 'jazz'): (7.59, -0.07690830528736115),\n",
       " ('monk', 'oracle'): (5.0, -0.14058709144592285),\n",
       " ('cup', 'food'): (5.0, -0.03283362463116646),\n",
       " ('journal', 'association'): (4.97, -0.056926749646663666),\n",
       " ('street', 'children'): (4.94, -0.060650162398815155),\n",
       " ('space', 'chemistry'): (4.88, -8.151503425324336e-05),\n",
       " ('situation', 'conclusion'): (4.81, -0.07474206387996674),\n",
       " ('word', 'similarity'): (4.75, -0.033850133419036865),\n",
       " ('peace', 'plan'): (4.75, -0.019695311784744263),\n",
       " ('consumer', 'energy'): (4.75, -0.019583608955144882),\n",
       " ('ministry', 'culture'): (4.69, -0.15193568170070648),\n",
       " ('investigation', 'effort'): (4.59, -0.04169003292918205),\n",
       " ('life', 'term'): (4.5, -0.10533232241868973),\n",
       " ('start', 'match'): (4.47, -0.07570517063140869),\n",
       " ('board', 'recommendation'): (4.47, -0.023797988891601562),\n",
       " ('lad', 'brother'): (4.46, -0.10368037223815918),\n",
       " ('coast', 'hill'): (4.38, -0.13737796247005463),\n",
       " ('deployment', 'departure'): (4.25, -0.0014919411623850465),\n",
       " ('benchmark', 'index'): (4.25, -0.13138069212436676),\n",
       " ('consumer', 'confidence'): (4.13, -0.08260589838027954),\n",
       " ('start', 'year'): (4.06, -0.07675893604755402),\n",
       " ('focus', 'life'): (4.06, -0.00401419959962368),\n",
       " ('development', 'issue'): (3.97, -0.05248713120818138),\n",
       " ('theater', 'history'): (3.91, -0.03312011808156967),\n",
       " ('situation', 'isolation'): (3.88, -0.021536732092499733),\n",
       " ('precedent', 'information'): (3.85, -0.033335309475660324),\n",
       " ('architecture', 'century'): (3.78, -0.13218258321285248),\n",
       " ('stock', 'live'): (3.73, -0.16339299082756042),\n",
       " ('minority', 'peace'): (3.69, -0.004848972894251347),\n",
       " ('music', 'project'): (3.63, -0.174704447388649),\n",
       " ('seven', 'series'): (3.56, -0.09047726541757584),\n",
       " ('experience', 'music'): (3.47, -0.07166032493114471),\n",
       " ('announcement', 'production'): (3.38, -0.0060278503224253654),\n",
       " ('money', 'operation'): (3.31, -0.12269537895917892),\n",
       " ('delay', 'news'): (3.31, -0.193478524684906),\n",
       " ('governor', 'interview'): (3.25, -0.0225001722574234),\n",
       " ('practice', 'institution'): (3.19, -0.024728672578930855),\n",
       " ('century', 'nation'): (3.16, -0.030742110684514046),\n",
       " ('president', 'medal'): (3.0, -0.07628948241472244),\n",
       " ('peace', 'insurance'): (2.94, -0.0010290003847330809),\n",
       " ('precedent', 'cognition'): (2.81, -0.1871388703584671),\n",
       " ('crane', 'implement'): (2.69, -0.11564914882183075),\n",
       " ('drink', 'mother'): (2.65, -0.09066896140575409),\n",
       " ('opera', 'industry'): (2.63, -0.023593634366989136),\n",
       " ('precedent', 'collection'): (2.5, -0.0038443468511104584),\n",
       " ('sign', 'recess'): (2.38, -0.08690628409385681),\n",
       " ('glass', 'magician'): (2.08, -0.08392844349145889),\n",
       " ('possibility', 'girl'): (1.94, -0.029898876324295998),\n",
       " ('cup', 'substance'): (1.92, -0.11253372579813004),\n",
       " ('stock', 'egg'): (1.81, -0.030759740620851517),\n",
       " ('month', 'hotel'): (1.81, -0.022182704880833626),\n",
       " ('stock', 'phone'): (1.62, -0.16375401616096497),\n",
       " ('stock', 'life'): (0.92, -0.1740998923778534),\n",
       " ('monk', 'slave'): (0.92, -0.045922450721263885),\n",
       " ('lad', 'wizard'): (0.92, -0.09877604246139526),\n",
       " ('noon', 'string'): (0.54, -0.20519515872001648),\n",
       " ('chord', 'smile'): (0.54, -0.08655685931444168)}"
      ]
     },
     "execution_count": 41,
     "metadata": {},
     "output_type": "execute_result"
    }
   ],
   "source": [
    "{pair: (gold,cos_sim) for pair,gold,cos_sim in list(zip(pairs, data, model)) if gold>=0 and cos_sim<0}"
   ]
  },
  {
   "cell_type": "markdown",
   "metadata": {},
   "source": [
    "Select the 10 best and 10 worst performing word pairs, can you see any patterns that explain why *these* are the best and worst word pairs?\n",
    "\n",
    "[3 marks]"
   ]
  },
  {
   "cell_type": "code",
   "execution_count": null,
   "metadata": {},
   "outputs": [],
   "source": []
  },
  {
   "cell_type": "markdown",
   "metadata": {},
   "source": [
    "Suggest some ways of improving the model we apply to WordSim353.\n",
    "\n",
    "[3 marks]"
   ]
  },
  {
   "cell_type": "code",
   "execution_count": null,
   "metadata": {},
   "outputs": [],
   "source": []
  },
  {
   "cell_type": "markdown",
   "metadata": {},
   "source": [
    "If we consider a scenario where we use these embeddings in a downstream task, for example sentiment analysis (roughly: determining whether a sentence is positive or negative). \n",
    "\n",
    "Give some examples why the sentiment analysis model would benefit from our embeddnings and one examples why our embeddings could hur the performance of the sentiment model.\n",
    "\n",
    "[3 marks]"
   ]
  },
  {
   "cell_type": "code",
   "execution_count": null,
   "metadata": {},
   "outputs": [],
   "source": []
  },
  {
   "cell_type": "markdown",
   "metadata": {},
   "source": [
    "# Language modeling"
   ]
  },
  {
   "cell_type": "markdown",
   "metadata": {},
   "source": [
    "In this second part we'll build a simple LSTM language model. Your task is to construct a model which takes a sentence as input and predict the next word for each word in the sentence. For this you'll use the ```LSTM``` class provided by PyTorch (https://pytorch.org/docs/stable/generated/torch.nn.LSTM.html). You can read more about the LSTM here: https://colah.github.io/posts/2015-08-Understanding-LSTMs/\n",
    "\n",
    "NOTE!!!: Use the same dataset (wiki-cropus.txt) as before.\n",
    "\n",
    "Our setup is similar to before, we first encode the words as distributed representations then pass these to the LSTM and for each output we predict the next word.\n",
    "\n",
    "For this we'll build a new dataloader with torchtext, the file we pass to the dataloader should contain one sentence per line, with words separated by whitespace.\n",
    "\n",
    "```\n",
    "word_1, ..., word_n\n",
    "word_1, ..., word_k\n",
    "...\n",
    "```\n",
    "\n",
    "in this dataloader you want to make sure that each sentence begins with a ```<start>``` token and ends with a ```<end>``` token, there is a keyword argument in ```Field``` for this :). But other than that, as before you read the dataset and output a iterator over the dataset and a vocabulary. \n",
    "\n",
    "Implement the dataloader, language model and the training loop (the training loop will basically be the same as for word2vec).\n",
    "\n",
    "[12 marks]"
   ]
  },
  {
   "cell_type": "code",
   "execution_count": null,
   "metadata": {},
   "outputs": [],
   "source": [
    "# you can change these numbers to suit your needs as before :)\n",
    "lm_hyperparameters = {'epochs':3,\n",
    "                      'batch_size':16,\n",
    "                      'learning_rate':0.001,\n",
    "                      'embedding_dim':128,\n",
    "                      'output_dim':128}"
   ]
  },
  {
   "cell_type": "code",
   "execution_count": 42,
   "metadata": {},
   "outputs": [],
   "source": [
    "# data_path = 'wiki-corpus.txt'\n",
    "data_path = 'wiki-subset.txt'\n",
    "def get_data_lm(filename):\n",
    "    # your code here, roughly the same as for the word2vec dataloader\n",
    "    csvfile = filename.replace('.txt', '-lm.csv')\n",
    "    with open(filename, encoding='utf8') as f:\n",
    "        lines = [l for l in f]\n",
    "        pd.DataFrame(lines).to_csv(csvfile, index=False)\n",
    "    Sentence = Field(lower=True, tokenize=lambda x:x.split(), init_token='<start>', eos_token='<end>', batch_first=True)\n",
    "    Examples = TabularDataset(path=csvfile, format='csv', fields=[('sentence', Sentence)])\n",
    "    \n",
    "    Sentence.build_vocab(Examples)\n",
    "    \n",
    "    dataset_iter = BucketIterator( Examples, batch_size= 8, shuffle= True, device= device)\n",
    "        \n",
    "    return dataset_iter, Sentence.vocab\n",
    "        "
   ]
  },
  {
   "cell_type": "code",
   "execution_count": 43,
   "metadata": {},
   "outputs": [],
   "source": [
    "lm_data, lm_vocab = get_data_lm(data_path)"
   ]
  },
  {
   "cell_type": "code",
   "execution_count": 53,
   "metadata": {},
   "outputs": [
    {
     "data": {
      "text/plain": [
       "[\n",
       " [torchtext.legacy.data.batch.Batch of size 8]\n",
       " \t[.sentence]:[torch.LongTensor of size 8x50],\n",
       " \n",
       " [torchtext.legacy.data.batch.Batch of size 8]\n",
       " \t[.sentence]:[torch.LongTensor of size 8x60],\n",
       " \n",
       " [torchtext.legacy.data.batch.Batch of size 8]\n",
       " \t[.sentence]:[torch.LongTensor of size 8x41]]"
      ]
     },
     "execution_count": 53,
     "metadata": {},
     "output_type": "execute_result"
    }
   ],
   "source": [
    "[batch for i,batch in enumerate(lm_data)][:3]"
   ]
  },
  {
   "cell_type": "code",
   "execution_count": 52,
   "metadata": {},
   "outputs": [
    {
     "ename": "SyntaxError",
     "evalue": "invalid syntax (<ipython-input-52-5139f68876cf>, line 2)",
     "output_type": "error",
     "traceback": [
      "\u001b[1;36m  File \u001b[1;32m\"<ipython-input-52-5139f68876cf>\"\u001b[1;36m, line \u001b[1;32m2\u001b[0m\n\u001b[1;33m    def __init__(...):\u001b[0m\n\u001b[1;37m                 ^\u001b[0m\n\u001b[1;31mSyntaxError\u001b[0m\u001b[1;31m:\u001b[0m invalid syntax\n"
     ]
    }
   ],
   "source": [
    "class LM_withLSTM(nn.Module):\n",
    "    def __init__(...):\n",
    "        super(LM_withLSTM, self).__init__()\n",
    "        self.embeddings = ...\n",
    "        self.LSTM = ...\n",
    "        self.predict_word = ...\n",
    "    \n",
    "    def forward(self, seq):\n",
    "        embedded_seq = ...\n",
    "        timestep_reprentation, *_ = ...\n",
    "        predicted_words = ...\n",
    "        \n",
    "        return predicted_words"
   ]
  },
  {
   "cell_type": "code",
   "execution_count": null,
   "metadata": {},
   "outputs": [],
   "source": [
    "# load data\n",
    "dataset, vocab = get_data(...)\n",
    "\n",
    "# build model and construct loss/optimizer\n",
    "lm_model = LM_withLSTM(len(vocab), \n",
    "                       lm_hyperparameters['embedding_dim'],\n",
    "                       lm_hyperparameters['output_dim'])\n",
    "lm_model.to(device)\n",
    "\n",
    "loss_fn = CrossEntropyLoss()\n",
    "optimizer = optim.Adam(cbow_model.parameters(), lr=lm_hyperparameters['lr'])\n",
    "\n",
    "# start training loop\n",
    "total_loss = 0\n",
    "for epoch in range(lm_hyperparameters['epochs']):\n",
    "    for i, batch in enumerate(dataset):\n",
    "        \n",
    "        # the strucure for each BATCH is:\n",
    "        # <start>, w0, ..., wn, <end>\n",
    "        sentence = batch.sentence\n",
    "        \n",
    "        # when training the model, at each input we predict the *NEXT* token\n",
    "        # consequently there is nothing to predict when we give the model \n",
    "        # <end> as input. \n",
    "        # thus, we do not want to give <end> as input to the model, select \n",
    "        # from each batch all tokens except the last. \n",
    "        # tip: use pytorch indexing/slicing (same as numpy) \n",
    "        # (https://pytorch.org/tutorials/beginner/basics/tensorqs_tutorial.html#operations-on-tensors)\n",
    "        # (https://jhui.github.io/2018/02/09/PyTorch-Basic-operations/)\n",
    "        input_sentence = ...\n",
    "        \n",
    "        # send your batch of sentences to the model\n",
    "        output = lm_model(input_sentence)\n",
    "        \n",
    "        # for each output, the model predict the NEXT token, so we have to reshape \n",
    "        # our dataset again. On timestep t, we evaluate on token t+1. That is,\n",
    "        # we never predict the <start> token ;) so this time, we select all but the first \n",
    "        # token from sentences (that is, all the tokens that we predict)\n",
    "        gold_data = ...\n",
    "        \n",
    "        # the shape of the output and sentence variable need to be changed,\n",
    "        # for the loss function. Details are in the documentation.\n",
    "        # You can use .view(...,...) to reshape the tensors  \n",
    "        loss = loss_fn(...)\n",
    "        total_loss += loss.item()\n",
    "        \n",
    "        # print average loss for the epoch\n",
    "        print(total_loss/(i+1), end='\\r') \n",
    "        \n",
    "        # compute gradients\n",
    "        ...\n",
    "        \n",
    "        # update parameters\n",
    "        ...\n",
    "        \n",
    "        # reset gradients\n",
    "        ...\n",
    "    print()"
   ]
  },
  {
   "cell_type": "markdown",
   "metadata": {},
   "source": [
    "### Evaluating the language model\n",
    "\n",
    "We'll evaluate our model using the BLiMP dataset (https://github.com/alexwarstadt/blimp). The BLiMP dataset contains sets of linguistic minimal pairs for various syntactic and semantic phenomena, We'll evaluate our model on *existential quantifiers* (link: https://github.com/alexwarstadt/blimp/blob/master/data/existential_there_quantifiers_1.jsonl). This data, as the name suggests, investigate whether language models assign higher probability to *correct* usage of there-quantifiers. \n",
    "\n",
    "An example entry in the dataset is: \n",
    "\n",
    "```\n",
    "{\"sentence_good\": \"There was a documentary about music irritating Allison.\", \"sentence_bad\": \"There was each documentary about music irritating Allison.\", \"field\": \"semantics\", \"linguistics_term\": \"quantifiers\", \"UID\": \"existential_there_quantifiers_1\", \"simple_LM_method\": true, \"one_prefix_method\": false, \"two_prefix_method\": false, \"lexically_identical\": false, \"pairID\": \"0\"}\n",
    "```\n",
    "\n",
    "Download the dataset and build a datareader (similar to what you did for word2vec). The dataset structure you should aim for is (you don't need to worry about the other keys for this assignment):\n",
    "\n",
    "```\n",
    "good_sentence_1, bad_sentence_1\n",
    "...\n",
    "```\n",
    "\n",
    "your task now is to compare the probability assigned to the good sentence with to the probability assigned to the bad sentence. To compute a probability for a sentence we consider the product of the probabilities assigned to the *gold* tokens, remember, at timestep ```t``` we're predicting which token comes *next* e.g. ```t+1``` (basically, you do the same thing as you did when training).\n",
    "\n",
    "In rough pseudo code what your code should do is:\n",
    "\n",
    "```\n",
    "accuracy = []\n",
    "for good_sentence, bad_sentence in dataset:\n",
    "    gs_lm_output = LanguageModel(good_sentence)\n",
    "    gs_token_probabilities = softmax(gs_lm_output)\n",
    "    gs_sentence_probability = product(gs_token_probabilities[GOLD_TOKENS])\n",
    "\n",
    "    bs_lm_output = LanguageModel(bad_sentence)\n",
    "    bs_token_probabilities = softmax(bs_lm_output)\n",
    "    bs_sentence_probability = product(bs_token_probabilities[GOLD_TOKENS])\n",
    "\n",
    "    # int(True) = 1 and int(False) = 0\n",
    "    is_correct = int(gs_sentence_probability > bs_sentence_probability)\n",
    "    accuracy.append(is_correct)\n",
    "\n",
    "print(numpy.mean(accuracy))\n",
    "    \n",
    "```\n",
    "\n",
    "[6 marks]"
   ]
  },
  {
   "cell_type": "code",
   "execution_count": null,
   "metadata": {},
   "outputs": [],
   "source": [
    "# your code goes here\n",
    "import json\n",
    "\n",
    "def evaluate_model(path, vocab, model):\n",
    "    \n",
    "    accuracy = []\n",
    "    with open(path) as f:\n",
    "        # iterate over one pair of sentences at a time\n",
    "        for line in f:\n",
    "            # load the data\n",
    "            data = json.loads(line)\n",
    "            good_s = data['sentence_good']\n",
    "            bad_s = data['sentence_bad']\n",
    "            \n",
    "            # the data is tokenized as whitespace\n",
    "            tok_good_s = ...\n",
    "            tok_bad_s = ...\n",
    "            \n",
    "            # encode your words as integers using the vocab from the dataloader, size is (S)\n",
    "            # we use unsqueeze to create the batch dimension \n",
    "            # in this case our input is only ONE batch, so the size of the tensor becomes: \n",
    "            # (S) -> (1, S) as the model expects batches\n",
    "            enc_good_s = torch.tensor([_ for x in tok_good_s], device=device).unsqueeze(0)\n",
    "            enc_bad_s = torch.tensor([_ for x in tok_bad_s], device=device).unsqueeze(0)\n",
    "            \n",
    "            # pass your encoded sentences to the model and predict the next tokens\n",
    "            good_s = LM_withLSTM(enc_good_s)\n",
    "            bad_s = LM_withLSTM(enc_bad_s)\n",
    "            \n",
    "            # get probabilities with softmax\n",
    "            gs_probs = F.softmax(...)\n",
    "            bs_probs = F.softmax(...)\n",
    "            \n",
    "            # select the probability of the gold tokens\n",
    "            gs_sent_prob = find_token_probs(gs_probs, enc_good_s)\n",
    "            bs_sent_prob = find_token_probs(bs_probs, enc_bad_s)\n",
    "            \n",
    "            accuracy.append(int(gs_sent_prob>bs_sent_prob))\n",
    "            \n",
    "    return accuracy\n",
    "            \n",
    "def find_token_probs(model_probs, encoded_sentece):\n",
    "    probs = []\n",
    "\n",
    "    # iterate over the tokens in your encoded sentence\n",
    "    for token, gold_token in enumerate(encoded_sentece):\n",
    "        # select the probability of the gold tokens and save\n",
    "        # hint: pytorch indexing is helpful here ;)\n",
    "        prob = ...\n",
    "        probs.append(prob)\n",
    "    sentence_prob = ...\n",
    "    return sentence_prob\n",
    "\n",
    "path = 'existential_there_quantifiers_1.jsonl'\n",
    "accuracy = evaluate_model(path, ..., ...)\n",
    "\n",
    "print('Final accuracy:')\n",
    "print(np.round(np.mean(accuracy), 3))\n"
   ]
  },
  {
   "cell_type": "markdown",
   "metadata": {},
   "source": [
    "### Analysis"
   ]
  },
  {
   "cell_type": "markdown",
   "metadata": {},
   "source": [
    "Our model get some score, say, 55% correct predictions. Is this good? Suggest some *baseline* (i.e. a stupid \"model\" we hope ours is better than) we can compare the model against.\n",
    "\n",
    "[3 marks]"
   ]
  },
  {
   "cell_type": "code",
   "execution_count": null,
   "metadata": {},
   "outputs": [],
   "source": []
  },
  {
   "cell_type": "markdown",
   "metadata": {},
   "source": [
    "Suggest some improvements you could make to your language model.\n",
    "\n",
    "[3 marks]"
   ]
  },
  {
   "cell_type": "code",
   "execution_count": null,
   "metadata": {},
   "outputs": [],
   "source": []
  },
  {
   "cell_type": "markdown",
   "metadata": {},
   "source": [
    "Suggest some other metrics we can use to evaluate our system\n",
    "\n",
    "[2 marks]"
   ]
  },
  {
   "cell_type": "code",
   "execution_count": null,
   "metadata": {},
   "outputs": [],
   "source": []
  },
  {
   "cell_type": "markdown",
   "metadata": {},
   "source": [
    "# Literature\n",
    "\n",
    "\n",
    "Neural architectures:\n",
    "* Y. Bengio, R. Ducharme, P. Vincent, and C. Janvin. A neural probabilistic language model. (Links to an external site.) Journal of Machine Learning Research, 3(6):1137–1155, 2003. (Sections 3 and 4 are less relevant today and hence you can glance through them quickly. Instead, look at the Mikolov papers where they describe training word embeddings with the current neural network architectures.)\n",
    "* T. Mikolov, K. Chen, G. Corrado, and J. Dean. Efficient estimation of word representations in vector space. arXiv preprint arXiv:1301.3781, 2013.\n",
    "* T. Mikolov, I. Sutskever, K. Chen, G. S. Corrado, and J. Dean. Distributed representations of words and phrases and their compositionality. In Advances in neural information processing systems, pages 3111–3119, 2013.\n",
    "    \n"
   ]
  },
  {
   "cell_type": "markdown",
   "metadata": {},
   "source": [
    "Total marks: 63"
   ]
  }
 ],
 "metadata": {
  "kernelspec": {
   "display_name": "Python 3",
   "language": "python",
   "name": "python3"
  },
  "language_info": {
   "codemirror_mode": {
    "name": "ipython",
    "version": 3
   },
   "file_extension": ".py",
   "mimetype": "text/x-python",
   "name": "python",
   "nbconvert_exporter": "python",
   "pygments_lexer": "ipython3",
   "version": "3.8.5"
  }
 },
 "nbformat": 4,
 "nbformat_minor": 4
}
