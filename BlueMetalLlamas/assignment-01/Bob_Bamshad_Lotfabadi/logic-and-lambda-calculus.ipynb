{
 "cells": [
  {
   "cell_type": "markdown",
   "metadata": {},
   "source": [
    "# A1: Logic and lambda calculus"
   ]
  },
  {
   "cell_type": "markdown",
   "metadata": {},
   "source": [
    "The lab is an exploration and learning exercise to be done in a group and also in discussion with the teachers and other students.\n",
    "\n",
    "Before starting, please read the following instructions on [how to work on group assignments](https://github.com/sdobnik/computational-semantics/blob/master/README.md).\n",
    "\n",
    "Write all your answers and the code in the appropriate boxes below."
   ]
  },
  {
   "cell_type": "markdown",
   "metadata": {},
   "source": [
    "## Translating English to logic and evaluating logic in a model"
   ]
  },
  {
   "cell_type": "code",
   "execution_count": 1,
   "metadata": {},
   "outputs": [],
   "source": [
    "# This task needs NLTK and Jupyter Notebook (IPython package).\n",
    "import nltk\n",
    "from utils import display_latex, display_translation, display_tree, display, Markdown\n",
    "read_expr = nltk.sem.Expression.fromstring"
   ]
  },
  {
   "cell_type": "markdown",
   "metadata": {},
   "source": [
    "### 1. Propositional logic\n",
    "Translate the following sentences into **propositional logic** and verify that they parse with Expression.fromstring(). Provide a key which shows how the propositional variables in your translation correspond to expressions of English. Briefly discuss any difficulties you encounter. (By difficulties we mean cases where the semantics of English expressions cannot be expressed to the same degree by the semantics of your logic representations, i.e. they do not mean the same). **[5 + 1 marks]**"
   ]
  },
  {
   "cell_type": "code",
   "execution_count": 2,
   "metadata": {},
   "outputs": [
    {
     "data": {
      "text/markdown": [
       "\"If Alex plays the piano, she is smart.\": $(Alex_plays_the_piano\\ \\rightarrow\\ Alex_is_smart)$"
      ],
      "text/plain": [
       "<IPython.core.display.Markdown object>"
      ]
     },
     "metadata": {},
     "output_type": "display_data"
    },
    {
     "data": {
      "text/markdown": [
       "\"Alex is both smart and musical.\": $(Alex_is_smart\\ \\land\\ Alex_is_musical)$"
      ],
      "text/plain": [
       "<IPython.core.display.Markdown object>"
      ]
     },
     "metadata": {},
     "output_type": "display_data"
    },
    {
     "data": {
      "text/markdown": [
       "\"If Alex is not smart, Lydia is not happy.\": $(-Alex_is_smart\\ \\rightarrow\\ -Lydia_is_happy)$"
      ],
      "text/plain": [
       "<IPython.core.display.Markdown object>"
      ]
     },
     "metadata": {},
     "output_type": "display_data"
    },
    {
     "data": {
      "text/markdown": [
       "\"If Alex or George plays the piano, they are musical.\": $((Alex_plays_the_piano\\ \\lor\\ George_plays_the_piano)\\ \\rightarrow\\ (Alex_is_musical\\ \\land\\ George_is_musical))$"
      ],
      "text/plain": [
       "<IPython.core.display.Markdown object>"
      ]
     },
     "metadata": {},
     "output_type": "display_data"
    },
    {
     "data": {
      "text/markdown": [
       "\"George plays the piano.\": $George_plays_the_piano$"
      ],
      "text/plain": [
       "<IPython.core.display.Markdown object>"
      ]
     },
     "metadata": {},
     "output_type": "display_data"
    }
   ],
   "source": [
    "keys = '''\n",
    "'''\n",
    "\n",
    "propositions = {\n",
    "    \"If Alex plays the piano, she is smart.\":\n",
    "    read_expr('Alex_plays_the_piano -> Alex_is_smart'),\n",
    "    \n",
    "    \"Alex is both smart and musical.\":\n",
    "    read_expr('Alex_is_smart & Alex_is_musical'),\n",
    "    \n",
    "    \"If Alex is not smart, Lydia is not happy.\":\n",
    "    read_expr('-(Alex_is_smart) -> -(Lydia_is_happy)'),\n",
    "    \n",
    "    \"If Alex or George plays the piano, they are musical.\":\n",
    "    read_expr('((Alex_plays_the_piano) | (George_plays_the_piano)) -> (Alex_is_musical & George_is_musical)'),\n",
    "    \n",
    "    \"George plays the piano.\":\n",
    "    read_expr('George_plays_the_piano'),\n",
    "}\n",
    "\n",
    "for text, semrep in propositions.items():\n",
    "    display_translation(text, semrep)"
   ]
  },
  {
   "cell_type": "markdown",
   "metadata": {},
   "source": [
    "*Difficulties encountered:*\n",
    "\n",
    "Use of strictly propositional logic in Language representations clearly show limitations it has in this exercise and the sentences presented.\n",
    "- A broader form of logic to, for example express \"an entity being Alex\", \"an area of instruments where Piano is one of them\", \"a logical and computational way to present conditions by the word \"if\" as well as more accurate relationship representations can be discussed.\n",
    "- One sentence can be interpreted in several ways, as in the sentence \"If Alex or George plays the piano, they are musical\" where we can conclude that Alex or George or both are musical, given only one plays the piano.\n",
    "- The large building block: \"GeorgePlaysThePiano\" has features that cannot be extracted from this large building block. Features such as \"who is playing\" and \"what is being played\" are not available in this large logical block.\n",
    "\n",
    "In propositional logic, implicature in statement, conjoining statements, disjunction, negation, and statement equivalence are the only possibilities.\n",
    "However, the above sentences cover a broader range of language and activities. Taking a sentence \"If Alex plays the piano, he is smart\" has many features that are hard to present with propositional logic if not possible at all; for example:\n",
    "\n",
    "- \"If\" is a language element for implicature, which is subjective based on who is saying it and how authoritative the reasoning is.\n",
    "- \"Alex\" is a person, which should have a way to be distinguished from another thing such as a computer. The logic to present a person (who may be able to sing, write, discuss, and run) is not the same as the logic for a computer. If dealt with in a non propositional logic way, then the logic can lead to clearer answers for the situation being explained than large building blocks \"Alex plays the piano\" then \"Alex is smart.\"\n"
   ]
  },
  {
   "cell_type": "markdown",
   "metadata": {},
   "source": [
    "### 2. Valuation of Propositional logic\n",
    "\n",
    "Imagine that we observe a world where \n",
    "- (i) Alex does not play the piano,\n",
    "- (ii) Alex and Lydia are smart and musical,\n",
    "- (iii) George is not musical,\n",
    "- (iv) Lydia is happy,\n",
    "- (v) George plays the piano. \n",
    "\n",
    "Translate this informal description of the world into a model by appropriately defining an evaluation function and evaluate the formulae from Question 1 in this model. Briefly comment the answers you get. **[5 + 1 marks]**."
   ]
  },
  {
   "cell_type": "code",
   "execution_count": 3,
   "metadata": {},
   "outputs": [
    {
     "name": "stdout",
     "output_type": "stream",
     "text": [
      "test sent:Alex_plays_the_piano -> Alex_is_smart, test value:  True\n",
      "matches model\n",
      "test sent:Alex_is_smart & Alex_is_musical, test value:  True\n",
      "matches model\n",
      "test sent:-(Alex_is_smart) -> Lydia_is_happy, test value:  False\n",
      "does not match model\n",
      "test sent:((Alex_plays_the_piano) | (George_plays_the_piano)) -> (Alex_is_musical & George_is_musical), test value:  True\n",
      "does not match model\n",
      "test sent:(George_plays_the_piano), test value:  True\n",
      "matches model\n"
     ]
    }
   ],
   "source": [
    "val = nltk.Valuation([\n",
    "    (\"Alex_plays_the_piano\", False),\n",
    "    #(\"Alex_is_smart & Alex_is_musical & Lydia_is_smart & Lydia_is_musical\", True)\n",
    "    (\"Alex_is_smart\", True),\n",
    "    (\"Alex_is_musical\", True),\n",
    "    (\"Lydia_is_smart\", True),\n",
    "    (\"Lydia_is_musical\", True),\n",
    "    (\"George_is_musical\", False),\n",
    "    (\"Lydia_is_happy\", True),\n",
    "    (\"George_plays_the_piano\", True)\n",
    "])\n",
    "\n",
    "#######################################\n",
    "tests = [\n",
    "    # If Alex plays the piano, he is smart.\n",
    "    ('Alex_plays_the_piano -> Alex_is_smart', True),\n",
    "    # Alex is both smart and musical.\n",
    "    ('Alex_is_smart & Alex_is_musical', True),    \n",
    "    # If Alex is not smart, Lydia is not happy.\n",
    "    ('-(Alex_is_smart) -> Lydia_is_happy', False),\n",
    "    # If Alex or George plays the piano, they are musical.\n",
    "    ('((Alex_plays_the_piano) | (George_plays_the_piano)) -> (Alex_is_musical & George_is_musical)', True),\n",
    "    # George plays the piano.\n",
    "    ('(George_plays_the_piano)', True)\n",
    "    ]\n",
    "#######################################\n",
    "\n",
    "dom = set([])\n",
    "m = nltk.Model (dom, val)\n",
    "g = nltk.Assignment(dom)\n",
    "for (sent, testvalue) in tests:\n",
    "    semvalue = m.evaluate(sent, g)\n",
    "    print ('test sent:' + sent + ', test value: ', testvalue)\n",
    "    if semvalue == testvalue:\n",
    "        print ('matches model')\n",
    "    else:\n",
    "        print ('does not match model')\n"
   ]
  },
  {
   "cell_type": "markdown",
   "metadata": {},
   "source": [
    "*Comments:*"
   ]
  },
  {
   "cell_type": "markdown",
   "metadata": {},
   "source": [
    "### 3. Predicate logic *without quantifiers*\n",
    "\n",
    "Translate the following sentences into predicate-argument formulae of First Order Logic and verify that they parse with `Expression.fromstring()`. Briefly discuss any difficulties you encounter. **[4 + 1 marks]**"
   ]
  },
  {
   "cell_type": "code",
   "execution_count": 47,
   "metadata": {},
   "outputs": [
    {
     "data": {
      "text/markdown": [
       "\"Lydia likes George but Lydia doesn't like Alex\": $(likes(Lydia,George)\\ \\land\\ -likes(Lydia,Alex))$"
      ],
      "text/plain": [
       "<IPython.core.display.Markdown object>"
      ]
     },
     "metadata": {},
     "output_type": "display_data"
    },
    {
     "data": {
      "text/markdown": [
       "\"Lydia likes herself and so does George\": $(likes(Lydia,Lydia)\\ \\land\\ likes(George,George))$"
      ],
      "text/plain": [
       "<IPython.core.display.Markdown object>"
      ]
     },
     "metadata": {},
     "output_type": "display_data"
    },
    {
     "data": {
      "text/markdown": [
       "\"Charlie is an English pianist who plays a sonata\": $(english(Charlie)\\ \\land\\ pianist(Charlie)\\ \\land\\ \\exists\\ x.(plays(Charlie,x)\\ \\land\\ sonata(x)))$"
      ],
      "text/plain": [
       "<IPython.core.display.Markdown object>"
      ]
     },
     "metadata": {},
     "output_type": "display_data"
    },
    {
     "data": {
      "text/markdown": [
       "\"Lydia and George admire each other\": $(admires(Lydia,George)\\ \\land\\ admires(George,Lydia))$"
      ],
      "text/plain": [
       "<IPython.core.display.Markdown object>"
      ]
     },
     "metadata": {},
     "output_type": "display_data"
    }
   ],
   "source": [
    "sentences1 = {\n",
    "    \"Lydia likes George but Lydia doesn't like Alex\": \n",
    "    read_expr('likes(Lydia, George) & -(likes(Lydia, Alex))'),\n",
    "    \n",
    "    \"Lydia likes herself and so does George\":\n",
    "    read_expr('likes(Lydia, Lydia) & likes(George, George)'),\n",
    "    \n",
    "    \"Charlie is an English pianist who plays a sonata\":\n",
    "    read_expr('english(Charlie) & pianist(Charlie) & (exists x.(plays(Charlie, x) & sonata(x)))'),\n",
    "\n",
    "    \"Lydia and George admire each other\":\n",
    "    read_expr('admires(Lydia, George) & admires(George, Lydia)')\n",
    "}\n",
    "\n",
    "for text, semrep in sentences1.items():\n",
    "    display_translation(text, semrep)\n"
   ]
  },
  {
   "cell_type": "markdown",
   "metadata": {},
   "source": [
    "*Difficulties encountered:*\n",
    "\n",
    "Sentences may have several readings. To express a logical form in only one way would leave out the other readings. Such case can be seen with the sentence \"Lydia likes herself and so does George\"."
   ]
  },
  {
   "cell_type": "markdown",
   "metadata": {},
   "source": [
    "### 4. First order logic with quantifiers\n",
    "\n",
    "Translate the following sentences into quantified formulas of First Order Logic and verify that they parse with `Expression.fromstring()`. Briefly discuss any difficulties you encounter. **[4 + 1 marks]**"
   ]
  },
  {
   "cell_type": "code",
   "execution_count": 55,
   "metadata": {},
   "outputs": [
    {
     "data": {
      "text/markdown": [
       "\"Charlie knows a woman who likes George\": $\\exists\\ x.(woman(x)\\ \\land\\ knows(Charlie,x)\\ \\land\\ likes(x,George))$"
      ],
      "text/plain": [
       "<IPython.core.display.Markdown object>"
      ]
     },
     "metadata": {},
     "output_type": "display_data"
    },
    {
     "data": {
      "text/markdown": [
       "\"George admires everybody and Lydia admires nobody\": $\\forall\\ x.(admires(George,x)\\ \\land\\ -admires(Lydia,x))$"
      ],
      "text/plain": [
       "<IPython.core.display.Markdown object>"
      ]
     },
     "metadata": {},
     "output_type": "display_data"
    },
    {
     "data": {
      "text/markdown": [
       "\"Nobody admires everybody\": $\\forall\\ x\\ y.-admires(x,y)$"
      ],
      "text/plain": [
       "<IPython.core.display.Markdown object>"
      ]
     },
     "metadata": {},
     "output_type": "display_data"
    },
    {
     "data": {
      "text/markdown": [
       "\"Exactly one musician plays everything Alex wrote\": $\\exists\\ x.\\forall\\ y.((musician(x)\\ \\land\\ musician(y))\\ \\rightarrow\\ ((x\\ =\\ y)\\ \\land\\ \\forall\\ z.(wrote(Alex,z)\\ \\land\\ plays(x,z))))$"
      ],
      "text/plain": [
       "<IPython.core.display.Markdown object>"
      ]
     },
     "metadata": {},
     "output_type": "display_data"
    }
   ],
   "source": [
    "sentences2 = {\n",
    "    \"Charlie knows a woman who likes George\":\n",
    "    read_expr('exists x.(woman(x) & knows(Charlie,x) & likes(x, George))'),\n",
    "    \n",
    "    \"George admires everybody and Lydia admires nobody\":\n",
    "    read_expr('all x. ( admires(George,x) & (-admires(Lydia,x)) )'),    \n",
    "\n",
    "    \"Nobody admires everybody\":\n",
    "    read_expr('all x. all y.(-admires(x,y))'),\n",
    "    \n",
    "    \"Exactly one musician plays everything Alex wrote\":\n",
    "    #read_expr('exists x.(musician(x) & all y.(musican(y) -> (y = x)))'),\n",
    "    #should y fall under the scope of x or should y be in the same scope as x\n",
    "    read_expr('exists x. all y.(musician(x) & musician(y) -> (x=y) & all z.(wrote(Alex, z) & plays(x, z)))')\n",
    "}\n",
    "\n",
    "for text, semrep in sentences2.items():\n",
    "    display_translation(text, semrep)"
   ]
  },
  {
   "cell_type": "markdown",
   "metadata": {},
   "source": [
    "*Difficulties encountered:*\n",
    "\n",
    "Reference to same entity which has a broader meaning than simply presenting an individual can be harder to show or describe such as in the sentence \"Nobody admires everybody\". The word \"nobody\" is referring to a set of many -- with a negation being applied to all its members.\n",
    "\n",
    "In last sentence i.e. \"Exactly one musician plays everything Alex wrote\" the word \"everything\" raises ambiguity in its interpretation. The logic would require a definition for the word."
   ]
  },
  {
   "cell_type": "markdown",
   "metadata": {},
   "source": [
    "### 5. Valuation of first order logic\n",
    "\n",
    "We observe a world with entities Lydia, George, Alex, Charlie and Bertie, sonata, etude, prelude, waltz, scherzo.\n",
    "\n",
    "1. Lydia likes Lydia, George, Alex and Charlie. George likes Lydia, Bertie and George. Alex likes Alex. Charlie likes Lydia, George, Alex, Charlie and Bertie. Bertie likes Alex.\n",
    "2. Lydia, George, Alex, Charlie and Bertie are English.\n",
    "3. Charlie and Bertie are pianists.\n",
    "4. Charlie plays a sonata, an etude and a waltz. Bertie plays a waltz and a scherzo. Lydia plays an etude, a prelude and a waltz.\n",
    "5. Lydia admires Lydia, Charlie and Bertie. George admires Lydia, George, Alex, Charlie and Bertie. Alex admires Lydia, Alex and Bertie. Charlie admires George and Bertie. Bertie admires Lydia, George, Alex, Charlie and Bertie.\n",
    "6. Lydia knows Lydia, George, Alex, Charlie and Bertie. George knows Lydia, George and Bertie. Alex knows Lydia, Alex and Bertie. Charlie knows George, Charlie and Bertie. Bertie knows Lydia, George, Alex, Charlie and Bertie.\n",
    "7. Lydia, Alex and Charlie are women.\n",
    "8. George and Bertie are men.\n",
    "9. Alex wrote a sonata, an etude an a waltz.\n",
    "10. Lydia, Alex, Charlie and Bertie are musicians.\n",
    "\n",
    "Translate this informal description of the world into a model and evaluate the formulae from Questions 3 and 4 in this model. Briefly comment on the answers you get **[3 + 2 marks]**."
   ]
  },
  {
   "cell_type": "code",
   "execution_count": 56,
   "metadata": {},
   "outputs": [
    {
     "name": "stdout",
     "output_type": "stream",
     "text": [
      "question 3 sentences\n",
      "==========\n",
      "False\n"
     ]
    },
    {
     "data": {
      "text/markdown": [
       "$(likes(Lydia,George)\\ \\land\\ -likes(Lydia,Alex))$"
      ],
      "text/plain": [
       "<IPython.core.display.Markdown object>"
      ]
     },
     "metadata": {},
     "output_type": "display_data"
    },
    {
     "data": {
      "text/markdown": [
       "----"
      ],
      "text/plain": [
       "<IPython.core.display.Markdown object>"
      ]
     },
     "metadata": {},
     "output_type": "display_data"
    },
    {
     "name": "stdout",
     "output_type": "stream",
     "text": [
      "True\n"
     ]
    },
    {
     "data": {
      "text/markdown": [
       "$(likes(Lydia,Lydia)\\ \\land\\ likes(George,George))$"
      ],
      "text/plain": [
       "<IPython.core.display.Markdown object>"
      ]
     },
     "metadata": {},
     "output_type": "display_data"
    },
    {
     "data": {
      "text/markdown": [
       "----"
      ],
      "text/plain": [
       "<IPython.core.display.Markdown object>"
      ]
     },
     "metadata": {},
     "output_type": "display_data"
    },
    {
     "name": "stdout",
     "output_type": "stream",
     "text": [
      "True\n"
     ]
    },
    {
     "data": {
      "text/markdown": [
       "$(english(Charlie)\\ \\land\\ pianist(Charlie)\\ \\land\\ \\exists\\ x.(plays(Charlie,x)\\ \\land\\ sonata(x)))$"
      ],
      "text/plain": [
       "<IPython.core.display.Markdown object>"
      ]
     },
     "metadata": {},
     "output_type": "display_data"
    },
    {
     "data": {
      "text/markdown": [
       "----"
      ],
      "text/plain": [
       "<IPython.core.display.Markdown object>"
      ]
     },
     "metadata": {},
     "output_type": "display_data"
    },
    {
     "name": "stdout",
     "output_type": "stream",
     "text": [
      "False\n"
     ]
    },
    {
     "data": {
      "text/markdown": [
       "$(admires(Lydia,George)\\ \\land\\ admires(George,Lydia))$"
      ],
      "text/plain": [
       "<IPython.core.display.Markdown object>"
      ]
     },
     "metadata": {},
     "output_type": "display_data"
    },
    {
     "data": {
      "text/markdown": [
       "----"
      ],
      "text/plain": [
       "<IPython.core.display.Markdown object>"
      ]
     },
     "metadata": {},
     "output_type": "display_data"
    },
    {
     "name": "stdout",
     "output_type": "stream",
     "text": [
      "question 4 sentences\n",
      "==========\n",
      "True\n"
     ]
    },
    {
     "data": {
      "text/markdown": [
       "$\\exists\\ x.(woman(x)\\ \\land\\ knows(Charlie,x)\\ \\land\\ likes(x,George))$"
      ],
      "text/plain": [
       "<IPython.core.display.Markdown object>"
      ]
     },
     "metadata": {},
     "output_type": "display_data"
    },
    {
     "data": {
      "text/markdown": [
       "----"
      ],
      "text/plain": [
       "<IPython.core.display.Markdown object>"
      ]
     },
     "metadata": {},
     "output_type": "display_data"
    },
    {
     "name": "stdout",
     "output_type": "stream",
     "text": [
      "False\n"
     ]
    },
    {
     "data": {
      "text/markdown": [
       "$\\forall\\ x.(admires(George,x)\\ \\land\\ -admires(Lydia,x))$"
      ],
      "text/plain": [
       "<IPython.core.display.Markdown object>"
      ]
     },
     "metadata": {},
     "output_type": "display_data"
    },
    {
     "data": {
      "text/markdown": [
       "----"
      ],
      "text/plain": [
       "<IPython.core.display.Markdown object>"
      ]
     },
     "metadata": {},
     "output_type": "display_data"
    },
    {
     "name": "stdout",
     "output_type": "stream",
     "text": [
      "False\n"
     ]
    },
    {
     "data": {
      "text/markdown": [
       "$\\forall\\ x\\ y.-admires(x,y)$"
      ],
      "text/plain": [
       "<IPython.core.display.Markdown object>"
      ]
     },
     "metadata": {},
     "output_type": "display_data"
    },
    {
     "data": {
      "text/markdown": [
       "----"
      ],
      "text/plain": [
       "<IPython.core.display.Markdown object>"
      ]
     },
     "metadata": {},
     "output_type": "display_data"
    },
    {
     "name": "stdout",
     "output_type": "stream",
     "text": [
      "True\n"
     ]
    },
    {
     "data": {
      "text/markdown": [
       "$\\exists\\ x.\\forall\\ y.((musician(x)\\ \\land\\ musician(y))\\ \\rightarrow\\ ((x\\ =\\ y)\\ \\land\\ \\forall\\ z.(wrote(Alex,z)\\ \\land\\ plays(x,z))))$"
      ],
      "text/plain": [
       "<IPython.core.display.Markdown object>"
      ]
     },
     "metadata": {},
     "output_type": "display_data"
    },
    {
     "data": {
      "text/markdown": [
       "----"
      ],
      "text/plain": [
       "<IPython.core.display.Markdown object>"
      ]
     },
     "metadata": {},
     "output_type": "display_data"
    }
   ],
   "source": [
    "entities = set(['p','t','e','h','r','s','u','l','w','c'])\n",
    "\n",
    "assign = \"\"\"\n",
    "Lydia => p\n",
    "George => t\n",
    "Alex => e\n",
    "Charlie => h\n",
    "Bertie => r\n",
    "sonata => {s}\n",
    "etude => {u}\n",
    "prelude => {l}\n",
    "waltz => {w}\n",
    "scherzo => {c}\n",
    "\n",
    "likes => { \\\n",
    "        (p, p), (p, t), (p, e), (p, h), #Lydia \\\n",
    "        (t, p), (t, r), (t, t), #George \\\n",
    "        (e, e), #Alex \\\n",
    "        (h, p), (h, t), (h, h), (h, e), #Charlie \\\n",
    "        (r, e) #Bertie   }\n",
    "\n",
    "english => {p, t, e, h, r}\n",
    "pianist => {h, r}\n",
    "plays => { (h, s), (h, u), (h, w), \\\n",
    "            (r, w), (r, c), \\\n",
    "            (p, u), (p, l), (p, w)}\n",
    "admires => { \\\n",
    "            (p, p), (p, h), (p, r), \\\n",
    "            (t, p), (t, t), (t, e), (t, h), (t, r), \\\n",
    "            (e, p), (e, e), (e, r), \\\n",
    "            (h, t), (h, r), \\\n",
    "            (r, p), (r, t), (r, e), (r, h), (r, r)  }\n",
    "knows => { \\\n",
    "            (p, p), (p, t), (p, e), (p, e), (p, h), (p, r), \\\n",
    "            (t, p), (t, t), (t, r), \\\n",
    "            (e, p), (e, e), (e, r), \\\n",
    "            (h, t), (h, h), (h, r), \\\n",
    "            (r, p), (r, t), (r, e), (r, h), (r, r)}\n",
    "\n",
    "woman => {p, e, h}\n",
    "man => {t, r}\n",
    "wrote => {(e, s), (e, u), (e, w)}\n",
    "musician => {p, e, h, r}\n",
    "\"\"\"\n",
    "\n",
    "val2 = nltk.Valuation.fromstring(assign)\n",
    "\n",
    "g2 = nltk.Assignment(entities)\n",
    "m2 = nltk.Model(entities, val2)\n",
    "\n",
    "print (\"question 3 sentences\\n==========\")\n",
    "# sentences from question 3\n",
    "for text, semrep in sentences1.items():\n",
    "    print(m2.evaluate(str(semrep), g2))\n",
    "    display_latex(semrep)\n",
    "    display(Markdown('----'))\n",
    "\n",
    "print (\"question 4 sentences\\n==========\")\n",
    "# sentences from question 4\n",
    "for text, semrep in sentences2.items():\n",
    "    print(m2.evaluate(str(semrep), g2))\n",
    "    display_latex(semrep)\n",
    "    display(Markdown('----'))\n"
   ]
  },
  {
   "cell_type": "markdown",
   "metadata": {},
   "source": [
    "*Comments on the answers:*\n",
    "\n",
    "`Answers here`"
   ]
  },
  {
   "cell_type": "markdown",
   "metadata": {},
   "source": [
    "## Lambda calculus"
   ]
  },
  {
   "cell_type": "code",
   "execution_count": 59,
   "metadata": {},
   "outputs": [],
   "source": [
    "from nltk.grammar import FeatureGrammar"
   ]
  },
  {
   "cell_type": "markdown",
   "metadata": {},
   "source": [
    "### 6. Function application and $\\beta$-reduction\n",
    "In the following examples some code has been deleted and replaced with `<????>`. What has been deleted? Verify that your answer is correct. **[4 marks]**"
   ]
  },
  {
   "cell_type": "code",
   "execution_count": 60,
   "metadata": {},
   "outputs": [
    {
     "data": {
      "text/markdown": [
       "$like(pip,rob)$"
      ],
      "text/plain": [
       "<IPython.core.display.Markdown object>"
      ]
     },
     "metadata": {},
     "output_type": "display_data"
    },
    {
     "data": {
      "text/markdown": [
       "$like(pip,rob)$"
      ],
      "text/plain": [
       "<IPython.core.display.Markdown object>"
      ]
     },
     "metadata": {},
     "output_type": "display_data"
    },
    {
     "data": {
      "text/markdown": [
       "$play(pip,scherzo)$"
      ],
      "text/plain": [
       "<IPython.core.display.Markdown object>"
      ]
     },
     "metadata": {},
     "output_type": "display_data"
    },
    {
     "data": {
      "text/markdown": [
       "$play(pip,scherzo)$"
      ],
      "text/plain": [
       "<IPython.core.display.Markdown object>"
      ]
     },
     "metadata": {},
     "output_type": "display_data"
    },
    {
     "data": {
      "text/markdown": [
       "$\\exists\\ y.(woman(y)\\ \\land\\ play(y,etude))$"
      ],
      "text/plain": [
       "<IPython.core.display.Markdown object>"
      ]
     },
     "metadata": {},
     "output_type": "display_data"
    },
    {
     "data": {
      "text/markdown": [
       "$\\exists\\ x.(woman(x)\\ \\land\\ play(x,etude))$"
      ],
      "text/plain": [
       "<IPython.core.display.Markdown object>"
      ]
     },
     "metadata": {},
     "output_type": "display_data"
    },
    {
     "data": {
      "text/markdown": [
       "$\\lambda\\ x.\\forall\\ z_{1}.(musician(z_{1})\\ \\rightarrow\\ like(x,z_{1}))$"
      ],
      "text/plain": [
       "<IPython.core.display.Markdown object>"
      ]
     },
     "metadata": {},
     "output_type": "display_data"
    },
    {
     "data": {
      "text/markdown": [
       "$\\lambda\\ x.\\forall\\ z_{2}.(musician(z_{2})\\ \\rightarrow\\ like(x,z_{2}))$"
      ],
      "text/plain": [
       "<IPython.core.display.Markdown object>"
      ]
     },
     "metadata": {},
     "output_type": "display_data"
    }
   ],
   "source": [
    "e1 = read_expr('\\ x.like(x,rob)')\n",
    "e2 = read_expr(r'pip')\n",
    "e3 = nltk.sem.ApplicationExpression(e1,e2) \n",
    "display_latex(e3.simplify())\n",
    "# with reuslt like(pip,rob).\n",
    "display_latex(read_expr(r\"like(pip,rob)\"))\n",
    "\n",
    "e1 = read_expr('\\ y.play(pip, scherzo)')\n",
    "e2 = read_expr(r'\\x.play(x,scherzo)') \n",
    "e3 = nltk.sem.ApplicationExpression(e1,e2)\n",
    "display_latex(e3.simplify())\n",
    "# with result play(pip,scherzo).\n",
    "display_latex(read_expr(r\"play(pip,scherzo)\"))\n",
    "\n",
    "e1 = read_expr('\\X.exists y.(woman(y) & X(y))')\n",
    "e2 = read_expr(r'\\x.play(x,etude)') \n",
    "e3 = nltk.sem.ApplicationExpression(e1,e2) \n",
    "display_latex(e3.simplify())\n",
    "# with result exists x.(woman(x) & play(x,etude)).\n",
    "display_latex(read_expr(r\"exists x.(woman(x) & play(x,etude))\"))\n",
    "\n",
    "e1 = read_expr('\\X x.X(\\y.like(x,y))')\n",
    "e2 = read_expr(r'\\P.all x. (musician(x) -> P(x))') \n",
    "e3 = nltk.sem.ApplicationExpression(e1,e2) \n",
    "display_latex(e3.simplify())\n",
    "# with result \\x.all z2.(musician(z2) -> like(x,z2)).\n",
    "display_latex(read_expr(r\"\\x.all z2.(musician(z2) -> like(x,z2))\"))"
   ]
  },
  {
   "cell_type": "markdown",
   "metadata": {},
   "source": [
    "### 7. Extending the grammar\n",
    "\n",
    "Extend the grammar simple_sem.fcfg that comes with NLTK `(~/nltk_data/grammars/book_grammars/)` so that it will cover the following sentences:\n",
    "\n",
    "- no man gives a bone to a dog **[4 marks]**\n",
    "- no man gives a bone to the dog **[4 marks]**\n",
    "- a boy and a girl chased every dog **[2 marks]**\n",
    "- every dog chased a boy and a girl **[2 marks]**\n",
    "- a brown cat chases a white dog **[4 marks]**\n",
    "\n",
    "The last example includes adjectives. Several different kinds of adjectives are discussed in the literature [(cf. Kennedy, 2012)](http://semantics.uchicago.edu/kennedy/docs/routledge.pdf). In this example we have an intersective adjective. The denotiation we want for \"brown cat\" is a a set that we get by intersecting the set of individuals that are brown and the set of individuals that are cats.\n",
    "\n",
    "C. Kennedy. Adjectives. In G. Russell, editor, The Routledge Companion to Philosophy of Language, chapter 3.3, pages 328–341. Routledge, 2012.\n",
    "\n",
    "The original grammar is included in the code below as a string."
   ]
  },
  {
   "cell_type": "code",
   "execution_count": 61,
   "metadata": {},
   "outputs": [],
   "source": [
    "fcfg_string_orginal = r\"\"\"\n",
    "% start S\n",
    "############################\n",
    "# Grammar Rules\n",
    "#############################\n",
    "\n",
    "S[SEM = <?subj(?vp)>] -> NP[NUM=?n,SEM=?subj] VP[NUM=?n,SEM=?vp]\n",
    "\n",
    "NP[NUM=?n,SEM=<?det(?nom)> ] -> Det[NUM=?n,SEM=?det]  Nom[NUM=?n,SEM=?nom]\n",
    "NP[LOC=?l,NUM=?n,SEM=?np] -> PropN[LOC=?l,NUM=?n,SEM=?np]\n",
    "\n",
    "Nom[NUM=?n,SEM=?nom] -> N[NUM=?n,SEM=?nom]\n",
    "\n",
    "VP[NUM=?n,SEM=?v] -> IV[NUM=?n,SEM=?v]\n",
    "VP[NUM=?n,SEM=<?v(?obj)>] -> TV[NUM=?n,SEM=?v] NP[SEM=?obj]\n",
    "VP[NUM=?n,SEM=<?v(?obj,?pp)>] -> DTV[NUM=?n,SEM=?v] NP[SEM=?obj] PP[+TO,SEM=?pp]\n",
    "\n",
    "PP[+TO, SEM=?np] -> P[+TO] NP[SEM=?np]\n",
    "\n",
    "#############################\n",
    "# Lexical Rules\n",
    "#############################\n",
    "\n",
    "PropN[-LOC,NUM=sg,SEM=<\\P.P(angus)>] -> 'Angus'\n",
    "PropN[-LOC,NUM=sg,SEM=<\\P.P(cyril)>] -> 'Cyril'\n",
    "PropN[-LOC,NUM=sg,SEM=<\\P.P(irene)>] -> 'Irene'\n",
    " \n",
    "Det[NUM=sg,SEM=<\\P Q.all x.(P(x) -> Q(x))>] -> 'every'\n",
    "Det[NUM=pl,SEM=<\\P Q.all x.(P(x) -> Q(x))>] -> 'all'\n",
    "Det[SEM=<\\P Q.exists x.(P(x) & Q(x))>] -> 'some'\n",
    "Det[NUM=sg,SEM=<\\P Q.exists x.(P(x) & Q(x))>] -> 'a'\n",
    "Det[NUM=sg,SEM=<\\P Q.exists x.(P(x) & Q(x))>] -> 'an'\n",
    "\n",
    "N[NUM=sg,SEM=<\\x.man(x)>] -> 'man'\n",
    "N[NUM=sg,SEM=<\\x.girl(x)>] -> 'girl'\n",
    "N[NUM=sg,SEM=<\\x.boy(x)>] -> 'boy'\n",
    "N[NUM=sg,SEM=<\\x.bone(x)>] -> 'bone'\n",
    "N[NUM=sg,SEM=<\\x.ankle(x)>] -> 'ankle'\n",
    "N[NUM=sg,SEM=<\\x.dog(x)>] -> 'dog'\n",
    "N[NUM=pl,SEM=<\\x.dog(x)>] -> 'dogs'\n",
    "\n",
    "IV[NUM=sg,SEM=<\\x.bark(x)>,TNS=pres] -> 'barks'\n",
    "IV[NUM=pl,SEM=<\\x.bark(x)>,TNS=pres] -> 'bark'\n",
    "IV[NUM=sg,SEM=<\\x.walk(x)>,TNS=pres] -> 'walks'\n",
    "IV[NUM=pl,SEM=<\\x.walk(x)>,TNS=pres] -> 'walk'\n",
    "TV[NUM=sg,SEM=<\\X x.X(\\ y.chase(x,y))>,TNS=pres] -> 'chases'\n",
    "TV[NUM=pl,SEM=<\\X x.X(\\ y.chase(x,y))>,TNS=pres] -> 'chase'\n",
    "TV[NUM=sg,SEM=<\\X x.X(\\ y.see(x,y))>,TNS=pres] -> 'sees'\n",
    "TV[NUM=pl,SEM=<\\X x.X(\\ y.see(x,y))>,TNS=pres] -> 'see'\n",
    "TV[NUM=sg,SEM=<\\X x.X(\\ y.bite(x,y))>,TNS=pres] -> 'bites'\n",
    "TV[NUM=pl,SEM=<\\X x.X(\\ y.bite(x,y))>,TNS=pres] -> 'bite'\n",
    "DTV[NUM=sg,SEM=<\\Y X x.X(\\z.Y(\\y.give(x,y,z)))>,TNS=pres] -> 'gives'\n",
    "DTV[NUM=pl,SEM=<\\Y X x.X(\\z.Y(\\y.give(x,y,z)))>,TNS=pres] -> 'give'\n",
    "\n",
    "P[+to] -> 'to'\n",
    "\"\"\""
   ]
  },
  {
   "cell_type": "markdown",
   "metadata": {},
   "source": [
    "Write your extension of this grammar here:"
   ]
  },
  {
   "cell_type": "code",
   "execution_count": 79,
   "metadata": {},
   "outputs": [],
   "source": [
    "fcfg_string = fcfg_string_orginal + r\"\"\"\n",
    "## Your answers here\n",
    "# Det[???] -> ???\n",
    "# TV[???] -> ???\n",
    "# TV[???] -> ???\n",
    "# CONJ -> ???\n",
    "# NP[???] -> NP[???] CONJ NP[???]\n",
    "# N[???] -> ???\n",
    "# ADJ[???] -> ???\n",
    "# NP[???] -> Det[???] ADJ[???] Nom[???]\n",
    "Det[NUM=sg,SEM=<\\ P Q.all x.(P(x) -> -Q(x))>] -> 'no'\n",
    "Det[SEM=<\\Q P.exists x.(Q(x) & P(x) & all y.(Q(y) -> (y=x)))>] -> 'the' | 'The'\n",
    "And -> 'and'\n",
    "NP[SEM=<\\ Q.(?det1(?nom1)(Q) & (?det2(?nom2))(Q))> ] -> Det[NUM=?n1,SEM=?det1] N[NUM=?n1,SEM=?nom1] And Det[NUM=?n2,SEM=?det2] N[NUM=?n2,SEM=?nom2]\n",
    "TV[SEM=<\\X x.X(\\ y.chased(x,y))>,TNS=pres] -> 'chased'\n",
    "ADJ[SEM=<\\P x.(brown(x) & P(x))>] -> 'brown'\n",
    "ADJ[SEM=<\\P x.(white(x) & P(x))>] -> 'white'\n",
    "N[NUM=sg,SEM=<\\ x.cat(x)>] -> 'cat'\n",
    "NP[NUM=?n,SEM=<?det(?adj(?nom))>] -> Det[SEM=?det] ADJ[SEM=?adj] Nom[SEM=?nom]\n",
    "\"\"\"\n",
    "\n",
    "# Load `fcfg_string` as a feature grammar:\n",
    "syntax = FeatureGrammar.fromstring(fcfg_string)"
   ]
  },
  {
   "cell_type": "markdown",
   "metadata": {},
   "source": [
    "Run the code below without errors:"
   ]
  },
  {
   "cell_type": "code",
   "execution_count": 80,
   "metadata": {},
   "outputs": [
    {
     "data": {
      "text/markdown": [
       "----"
      ],
      "text/plain": [
       "<IPython.core.display.Markdown object>"
      ]
     },
     "metadata": {},
     "output_type": "display_data"
    },
    {
     "data": {
      "text/markdown": [
       "$\\forall\\ x.(man(x)\\ \\rightarrow\\ -\\exists\\ z_{110}.(dog(z_{110})\\ \\land\\ \\exists\\ z_{109}.(bone(z_{109})\\ \\land\\ give(x,z_{109},z_{110}))))$"
      ],
      "text/plain": [
       "<IPython.core.display.Markdown object>"
      ]
     },
     "metadata": {},
     "output_type": "display_data"
    },
    {
     "data": {
      "text/markdown": [
       "----"
      ],
      "text/plain": [
       "<IPython.core.display.Markdown object>"
      ]
     },
     "metadata": {},
     "output_type": "display_data"
    },
    {
     "data": {
      "text/markdown": [
       "$\\forall\\ x.(man(x)\\ \\rightarrow\\ -\\exists\\ z_{112}.(dog(z_{112})\\ \\land\\ \\exists\\ z_{111}.(bone(z_{111})\\ \\land\\ give(x,z_{111},z_{112}))\\ \\land\\ \\forall\\ y.(dog(y)\\ \\rightarrow\\ (y\\ =\\ z_{112}))))$"
      ],
      "text/plain": [
       "<IPython.core.display.Markdown object>"
      ]
     },
     "metadata": {},
     "output_type": "display_data"
    },
    {
     "data": {
      "text/markdown": [
       "----"
      ],
      "text/plain": [
       "<IPython.core.display.Markdown object>"
      ]
     },
     "metadata": {},
     "output_type": "display_data"
    },
    {
     "data": {
      "text/markdown": [
       "$(\\exists\\ x.(boy(x)\\ \\land\\ \\forall\\ z_{113}.(dog(z_{113})\\ \\rightarrow\\ chased(x,z_{113})))\\ \\land\\ \\exists\\ x.(girl(x)\\ \\land\\ \\forall\\ z_{113}.(dog(z_{113})\\ \\rightarrow\\ chased(x,z_{113}))))$"
      ],
      "text/plain": [
       "<IPython.core.display.Markdown object>"
      ]
     },
     "metadata": {},
     "output_type": "display_data"
    },
    {
     "data": {
      "text/markdown": [
       "----"
      ],
      "text/plain": [
       "<IPython.core.display.Markdown object>"
      ]
     },
     "metadata": {},
     "output_type": "display_data"
    },
    {
     "data": {
      "text/markdown": [
       "$\\forall\\ x.(dog(x)\\ \\rightarrow\\ (\\exists\\ z_{115}.(boy(z_{115})\\ \\land\\ chased(x,z_{115}))\\ \\land\\ \\exists\\ z_{116}.(girl(z_{116})\\ \\land\\ chased(x,z_{116}))))$"
      ],
      "text/plain": [
       "<IPython.core.display.Markdown object>"
      ]
     },
     "metadata": {},
     "output_type": "display_data"
    },
    {
     "data": {
      "text/markdown": [
       "----"
      ],
      "text/plain": [
       "<IPython.core.display.Markdown object>"
      ]
     },
     "metadata": {},
     "output_type": "display_data"
    },
    {
     "data": {
      "text/markdown": [
       "$\\exists\\ x.(brown(x)\\ \\land\\ cat(x)\\ \\land\\ \\exists\\ z_{117}.(white(z_{117})\\ \\land\\ dog(z_{117})\\ \\land\\ chase(x,z_{117})))$"
      ],
      "text/plain": [
       "<IPython.core.display.Markdown object>"
      ]
     },
     "metadata": {},
     "output_type": "display_data"
    }
   ],
   "source": [
    "# remove sentences if you couldn't find answer for them\n",
    "sentences = [\n",
    "    'no man gives a bone to a dog',\n",
    "    'no man gives a bone to the dog',\n",
    "    'a boy and a girl chased every dog',\n",
    "    #'every dog walks', #extra\n",
    "    #'every dog chases a boy', #extra\n",
    "    #'every dog chases Angus', #extra\n",
    "    #'every dog chases a boy and a girl', #extra\n",
    "    'every dog chased a boy and a girl',\n",
    "    'a brown cat chases a white dog',\n",
    "]\n",
    "for results in nltk.interpret_sents(sentences, syntax):\n",
    "    for (synrep, semrep) in results:\n",
    "        display(Markdown('----'))\n",
    "        display_latex(semrep) # prints the SEM feature of a tree\n",
    "        #display_tree(synrep) # show the parse tree"
   ]
  },
  {
   "cell_type": "markdown",
   "metadata": {},
   "source": [
    "If you are working with iPython which is also running behind Jupyter notebooks and you are changing grammars and want to rerun a new version without restarting you may find `nltk.data.clear_cache()` useful."
   ]
  },
  {
   "cell_type": "markdown",
   "metadata": {},
   "source": [
    "## Marks\n",
    "\n",
    "This part of the assignment has a total of 47 marks."
   ]
  }
 ],
 "metadata": {
  "kernelspec": {
   "display_name": "Python 3",
   "language": "python",
   "name": "python3"
  },
  "language_info": {
   "codemirror_mode": {
    "name": "ipython",
    "version": 3
   },
   "file_extension": ".py",
   "mimetype": "text/x-python",
   "name": "python",
   "nbconvert_exporter": "python",
   "pygments_lexer": "ipython3",
   "version": "3.6.5"
  }
 },
 "nbformat": 4,
 "nbformat_minor": 1
}
