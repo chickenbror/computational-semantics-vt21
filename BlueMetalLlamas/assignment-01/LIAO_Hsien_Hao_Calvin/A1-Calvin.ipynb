{
 "cells": [
  {
   "cell_type": "markdown",
   "metadata": {},
   "source": [
    "# A1: Logic and lambda calculus"
   ]
  },
  {
   "cell_type": "markdown",
   "metadata": {},
   "source": [
    "The lab is an exploration and learning exercise to be done in a group and also in discussion with the teachers and other students.\n",
    "\n",
    "Before starting, please read the following instructions on [how to work on group assignments](https://github.com/sdobnik/computational-semantics/blob/master/README.md).\n",
    "\n",
    "Write all your answers and the code in the appropriate boxes below."
   ]
  },
  {
   "cell_type": "markdown",
   "metadata": {},
   "source": [
    "## Translating English to logic and evaluating logic in a model"
   ]
  },
  {
   "cell_type": "code",
   "execution_count": 1,
   "metadata": {},
   "outputs": [],
   "source": [
    "# This task needs NLTK and Jupyter Notebook (IPython package).\n",
    "import nltk\n",
    "from utils import display_latex, display_translation, display_tree, display, Markdown\n",
    "read_expr = nltk.sem.Expression.fromstring"
   ]
  },
  {
   "cell_type": "markdown",
   "metadata": {},
   "source": [
    "### 1. Propositional logic\n",
    "Translate the following sentences into **propositional logic** and verify that they parse with Expression.fromstring(). Provide a key which shows how the propositional variables in your translation correspond to expressions of English. Briefly discuss any difficulties you encounter. (By difficulties we mean cases where the semantics of English expressions cannot be expressed to the same degree by the semantics of your logic representations, i.e. they do not mean the same). **[5 + 1 marks]**"
   ]
  },
  {
   "cell_type": "code",
   "execution_count": 2,
   "metadata": {},
   "outputs": [
    {
     "data": {
      "text/markdown": [
       "\"If Alex plays the piano, she is smart.\": $(Ap\\ \\rightarrow\\ As)$"
      ],
      "text/plain": [
       "<IPython.core.display.Markdown object>"
      ]
     },
     "metadata": {},
     "output_type": "display_data"
    },
    {
     "data": {
      "text/markdown": [
       "\"Alex is both smart and musical.\": $(As\\ \\land\\ Am)$"
      ],
      "text/plain": [
       "<IPython.core.display.Markdown object>"
      ]
     },
     "metadata": {},
     "output_type": "display_data"
    },
    {
     "data": {
      "text/markdown": [
       "\"If Alex is not smart, Lydia is not happy.\": $(-As\\ \\rightarrow\\ -Lh)$"
      ],
      "text/plain": [
       "<IPython.core.display.Markdown object>"
      ]
     },
     "metadata": {},
     "output_type": "display_data"
    },
    {
     "data": {
      "text/markdown": [
       "\"If Alex or George plays the piano, they are musical.\": $((Ap\\ \\lor\\ Gp)\\ \\rightarrow\\ (Am\\ \\land\\ Gm))$"
      ],
      "text/plain": [
       "<IPython.core.display.Markdown object>"
      ]
     },
     "metadata": {},
     "output_type": "display_data"
    },
    {
     "data": {
      "text/markdown": [
       "\"George plays the piano.\": $Gp$"
      ],
      "text/plain": [
       "<IPython.core.display.Markdown object>"
      ]
     },
     "metadata": {},
     "output_type": "display_data"
    }
   ],
   "source": [
    "propositions = {\n",
    "    \"If Alex plays the piano, she is smart.\": # P->Q\n",
    "    read_expr('Ap -> As'),\n",
    "    \n",
    "    \"Alex is both smart and musical.\": # P&&Q\n",
    "    read_expr('As & Am'),\n",
    "    \n",
    "    \"If Alex is not smart, Lydia is not happy.\": # !P->!Q\n",
    "    read_expr('-As -> -Lh'),\n",
    "    \n",
    "    \"If Alex or George plays the piano, they are musical.\": # (P||Q)->R\n",
    "    read_expr('Ap | Gp -> Am & Gm'),\n",
    "    \n",
    "    \"George plays the piano.\": # P\n",
    "    read_expr('Gp'),\n",
    "}\n",
    "\n",
    "for text, semrep in propositions.items():\n",
    "    display_translation(text, semrep)"
   ]
  },
  {
   "cell_type": "markdown",
   "metadata": {},
   "source": [
    "*Difficulties encountered:*\n",
    "\n",
    "`Answers here`\n",
    "\n",
    "Each variable stands on its own and cannot accept or alter properties.\n",
    "Therefor we need to have separate variables for 'someone has ... property'. I,e., 'George is musical' and 'Alex is musical' are independent variables. Also for statement 1, we need to have 'Alex plays piano' and 'Alex is smart' even if they may not relate to each other."
   ]
  },
  {
   "cell_type": "markdown",
   "metadata": {},
   "source": [
    "### 2. Valuation of Propositional logic\n",
    "\n",
    "Imagine that we observe a world where \n",
    "- (i) Alex does not play the piano,\n",
    "- (ii) Alex and Lydia are smart and musical,\n",
    "- (iii) George is not musical,\n",
    "- (iv) Lydia is happy,\n",
    "- (v) George plays the piano. \n",
    "\n",
    "Translate this informal description of the world into a model by appropriately defining an evaluation function and evaluate the formulae from Question 1 in this model. Briefly comment the answers you get. **[5 + 1 marks]**."
   ]
  },
  {
   "cell_type": "code",
   "execution_count": 3,
   "metadata": {},
   "outputs": [
    {
     "name": "stdout",
     "output_type": "stream",
     "text": [
      "If Alex plays the piano, she is smart. (Ap -> As)\n",
      "True \n",
      "\n",
      "Alex is both smart and musical. (As & Am)\n",
      "True \n",
      "\n",
      "If Alex is not smart, Lydia is not happy. (-As -> -Lh)\n",
      "True \n",
      "\n",
      "If Alex or George plays the piano, they are musical. ((Ap | Gp) -> (Am & Gm))\n",
      "False \n",
      "\n",
      "George plays the piano. Gp\n",
      "True \n",
      "\n"
     ]
    }
   ],
   "source": [
    "# answers here\n",
    "\n",
    "# Set vars according to statements\n",
    "val = nltk.Valuation([\n",
    "    ('Ap', False), \n",
    "    ('As', True),('Am', True),('Ls', True), ('Lm', True),\n",
    "    ('Gm', False),\n",
    "    ('Lh', True),\n",
    "    ('Gp', True),\n",
    "    ])\n",
    "\n",
    "# Init the model\n",
    "dom = set()\n",
    "g = nltk.Assignment(dom)\n",
    "model_Q2 = nltk.Model(dom, val)\n",
    "\n",
    "# Evaluate Q1 formulas\n",
    "def eval_formula(expr, model, goal):\n",
    "    return model.evaluate( expr, goal)\n",
    "\n",
    "\n",
    "for text, semrep in propositions.items():\n",
    "    print(text , semrep)\n",
    "    print( eval_formula(expr=str(semrep), model=model_Q2, goal=g), '\\n' )\n",
    "\n",
    "    "
   ]
  },
  {
   "cell_type": "markdown",
   "metadata": {},
   "source": [
    "*Comments:*\n",
    "\n",
    "The translated variables form the world/model where each variable is either T/F.\n",
    "The eval_formula() function then evaluates the formulas (which are also translated from the statements) to T/F \n",
    "according to logic rules."
   ]
  },
  {
   "cell_type": "markdown",
   "metadata": {},
   "source": [
    "### 3. Predicate logic *without quantifiers*\n",
    "\n",
    "Translate the following sentences into predicate-argument formulae of First Order Logic and verify that they parse with `Expression.fromstring()`. Briefly discuss any difficulties you encounter. **[4 + 1 marks]**"
   ]
  },
  {
   "cell_type": "code",
   "execution_count": 4,
   "metadata": {},
   "outputs": [
    {
     "data": {
      "text/markdown": [
       "\"Lydia likes George but Lydia doesn't like Alex\": $(like(george,lydia)\\ \\land\\ -like(lydia,alex))$"
      ],
      "text/plain": [
       "<IPython.core.display.Markdown object>"
      ]
     },
     "metadata": {},
     "output_type": "display_data"
    },
    {
     "data": {
      "text/markdown": [
       "\"Lydia likes herself and so does George\": $(like(lydia,lydia)\\ \\land\\ like(george,george))$"
      ],
      "text/plain": [
       "<IPython.core.display.Markdown object>"
      ]
     },
     "metadata": {},
     "output_type": "display_data"
    },
    {
     "data": {
      "text/markdown": [
       "\"Charlie is an English pianist who plays a sonata\": $(english(charlie)\\ \\land\\ pianist(charlie)\\ \\land\\ play(charlie,sonata))$"
      ],
      "text/plain": [
       "<IPython.core.display.Markdown object>"
      ]
     },
     "metadata": {},
     "output_type": "display_data"
    },
    {
     "data": {
      "text/markdown": [
       "\"Lydia and George admire each other\": $(admire(lydia,george)\\ \\land\\ admire(george,lydia))$"
      ],
      "text/plain": [
       "<IPython.core.display.Markdown object>"
      ]
     },
     "metadata": {},
     "output_type": "display_data"
    }
   ],
   "source": [
    "sentences1 = {\n",
    "    \"Lydia likes George but Lydia doesn't like Alex\": # P&&!Q\n",
    "    read_expr(r' like(george, lydia) & -like(lydia, alex) '),\n",
    "    \n",
    "    \"Lydia likes herself and so does George\": # P&&Q  (george likes lydia or himself??)\n",
    "    read_expr(r' like(lydia,lydia) & like(george,george)'),\n",
    "    \n",
    "    \"Charlie is an English pianist who plays a sonata\": #\n",
    "    read_expr(r'english(charlie) & pianist(charlie) & play(charlie,sonata)'),\n",
    "    \n",
    "    \"Lydia and George admire each other\": #\n",
    "    read_expr(r' admire(lydia, george) & admire(george, lydia) '),\n",
    "}\n",
    "\n",
    "for text, semrep in sentences1.items():\n",
    "    display_translation(text, semrep)\n"
   ]
  },
  {
   "cell_type": "markdown",
   "metadata": {},
   "source": [
    "*Difficulties encountered:*\n",
    "\n",
    "`Answers here`\n",
    "\n",
    "I am confused by statement 2 ---does George like himself too or does George like Lydia too? When translating this to logic though, it has to be explicit and unambiguous."
   ]
  },
  {
   "cell_type": "markdown",
   "metadata": {},
   "source": [
    "### 4. First order logic with quantifiers\n",
    "\n",
    "Translate the following sentences into quantified formulas of First Order Logic and verify that they parse with `Expression.fromstring()`. Briefly discuss any difficulties you encounter. **[4 + 1 marks]**"
   ]
  },
  {
   "cell_type": "code",
   "execution_count": 5,
   "metadata": {},
   "outputs": [
    {
     "data": {
      "text/markdown": [
       "\"Charlie knows a woman who likes George\": $\\exists\\ x.(know(charlie,x)\\ \\land\\ woman(x)\\ \\land\\ like(x,george))$"
      ],
      "text/plain": [
       "<IPython.core.display.Markdown object>"
      ]
     },
     "metadata": {},
     "output_type": "display_data"
    },
    {
     "data": {
      "text/markdown": [
       "\"George admires everybody and Lydia admires nobody\": $\\forall\\ x.((woman(x)\\ \\lor\\ man(x))\\ \\rightarrow\\ (admire(george,x)\\ \\land\\ -admire(lydia,x)))$"
      ],
      "text/plain": [
       "<IPython.core.display.Markdown object>"
      ]
     },
     "metadata": {},
     "output_type": "display_data"
    },
    {
     "data": {
      "text/markdown": [
       "\"Nobody admires everybody\": $\\forall\\ x.\\exists\\ y.-admire(x,y)$"
      ],
      "text/plain": [
       "<IPython.core.display.Markdown object>"
      ]
     },
     "metadata": {},
     "output_type": "display_data"
    },
    {
     "data": {
      "text/markdown": [
       "\"Exactly one musician plays everything Alex wrote\": $\\exists\\ z.\\forall\\ y.((musician(y)\\ \\land\\ \\forall\\ x.(wrote(alex,x)\\ \\rightarrow\\ play(y,x)))\\ \\leftrightarrow\\ (y\\ =\\ z))$"
      ],
      "text/plain": [
       "<IPython.core.display.Markdown object>"
      ]
     },
     "metadata": {},
     "output_type": "display_data"
    }
   ],
   "source": [
    "sentences2 = {\n",
    "    \"Charlie knows a woman who likes George\":\n",
    "    read_expr('exists x. (know(charlie,x) & woman(x) & like(x,george) )'),\n",
    "    \n",
    "    \"George admires everybody and Lydia admires nobody\":\n",
    "    # for all x that is human: george admire them, and lydia doesn't\n",
    "    read_expr('all x.(woman(x)|man(x) -> admire(george,x) & -admire(lydia,x) )'),\n",
    "\n",
    "    \"Nobody admires everybody\":  # ∀x∃y¬ admire(x,y) all/everyone has someone who they don't admire\n",
    "    read_expr('all x. (exists y. (-admire(x,y)))'),\n",
    "    \n",
    "    \"Exactly one musician plays everything Alex wrote\":\n",
    "    read_expr(' exists z all y(( musician(y) & all x(wrote(alex,x)->play(y,x))) <-> y=z )'), \n",
    "            # 1) Some musicians y plays all x written by Alex                        \n",
    "            # 2) Such musican y is unique => thus, all such y must be z\n",
    "            # NOTE it was UNDEFINED until I put the rest in parentheses i.e., ∃z∀y ([blah blah...] <-> y=z)\n",
    "            #      then it worked🦝\n",
    "                                        \n",
    "}\n",
    "\n",
    "for text, semrep in sentences2.items():\n",
    "    display_translation(text, semrep)"
   ]
  },
  {
   "cell_type": "markdown",
   "metadata": {},
   "source": [
    "*Difficulties encountered:*\n",
    "\n",
    "`Answers here`\n",
    "\n",
    "NOTE Not sure about statement 4... (although it evals to True, and only Charlie plays all that Alex wrote)"
   ]
  },
  {
   "cell_type": "markdown",
   "metadata": {},
   "source": [
    "### 5. Valuation of first order logic\n",
    "\n",
    "We observe a world with entities Lydia, George, Alex, Charlie and Bertie, sonata, etude, prelude, waltz, scherzo.\n",
    "\n",
    "1. Lydia likes Lydia, George, Alex and Charlie. George likes Lydia, Bertie and George. Alex likes Alex. Charlie likes Lydia, George, Alex, Charlie and Bertie. Bertie likes Alex.\n",
    "2. Lydia, George, Alex, Charlie and Bertie are English.\n",
    "3. Charlie and Bertie are pianists.\n",
    "4. Charlie plays a sonata, an etude and a waltz. Bertie plays a waltz and a scherzo. Lydia plays an etude, a prelude and a waltz.\n",
    "5. Lydia admires Lydia, Charlie and Bertie. George admires Lydia, George, Alex, Charlie and Bertie. Alex admires Lydia, Alex and Bertie. Charlie admires George and Bertie. Bertie admires Lydia, George, Alex, Charlie and Bertie.\n",
    "6. Lydia knows Lydia, George, Alex, Charlie and Bertie. George knows Lydia, George and Bertie. Alex knows Lydia, Alex and Bertie. Charlie knows George, Charlie and Bertie. Bertie knows Lydia, George, Alex, Charlie and Bertie.\n",
    "7. Lydia, Alex and Charlie are women.\n",
    "8. George and Bertie are men.\n",
    "9. Alex wrote a sonata, an etude an a waltz.\n",
    "10. Lydia, Alex, Charlie and Bertie are musicians.\n",
    "\n",
    "Translate this informal description of the world into a model and evaluate the formulae from Questions 3 and 4 in this model. Briefly comment on the answers you get **[3 + 2 marks]**."
   ]
  },
  {
   "cell_type": "code",
   "execution_count": 6,
   "metadata": {},
   "outputs": [
    {
     "name": "stdout",
     "output_type": "stream",
     "text": [
      "Lydia likes George but Lydia doesn't like Alex\n",
      "False\n"
     ]
    },
    {
     "data": {
      "text/markdown": [
       "$(like(george,lydia)\\ \\land\\ -like(lydia,alex))$"
      ],
      "text/plain": [
       "<IPython.core.display.Markdown object>"
      ]
     },
     "metadata": {},
     "output_type": "display_data"
    },
    {
     "data": {
      "text/markdown": [
       "----"
      ],
      "text/plain": [
       "<IPython.core.display.Markdown object>"
      ]
     },
     "metadata": {},
     "output_type": "display_data"
    },
    {
     "name": "stdout",
     "output_type": "stream",
     "text": [
      "Lydia likes herself and so does George\n",
      "True\n"
     ]
    },
    {
     "data": {
      "text/markdown": [
       "$(like(lydia,lydia)\\ \\land\\ like(george,george))$"
      ],
      "text/plain": [
       "<IPython.core.display.Markdown object>"
      ]
     },
     "metadata": {},
     "output_type": "display_data"
    },
    {
     "data": {
      "text/markdown": [
       "----"
      ],
      "text/plain": [
       "<IPython.core.display.Markdown object>"
      ]
     },
     "metadata": {},
     "output_type": "display_data"
    },
    {
     "name": "stdout",
     "output_type": "stream",
     "text": [
      "Charlie is an English pianist who plays a sonata\n",
      "True\n"
     ]
    },
    {
     "data": {
      "text/markdown": [
       "$(english(charlie)\\ \\land\\ pianist(charlie)\\ \\land\\ play(charlie,sonata))$"
      ],
      "text/plain": [
       "<IPython.core.display.Markdown object>"
      ]
     },
     "metadata": {},
     "output_type": "display_data"
    },
    {
     "data": {
      "text/markdown": [
       "----"
      ],
      "text/plain": [
       "<IPython.core.display.Markdown object>"
      ]
     },
     "metadata": {},
     "output_type": "display_data"
    },
    {
     "name": "stdout",
     "output_type": "stream",
     "text": [
      "Lydia and George admire each other\n",
      "False\n"
     ]
    },
    {
     "data": {
      "text/markdown": [
       "$(admire(lydia,george)\\ \\land\\ admire(george,lydia))$"
      ],
      "text/plain": [
       "<IPython.core.display.Markdown object>"
      ]
     },
     "metadata": {},
     "output_type": "display_data"
    },
    {
     "data": {
      "text/markdown": [
       "----"
      ],
      "text/plain": [
       "<IPython.core.display.Markdown object>"
      ]
     },
     "metadata": {},
     "output_type": "display_data"
    },
    {
     "name": "stdout",
     "output_type": "stream",
     "text": [
      "Charlie knows a woman who likes George\n",
      "True\n"
     ]
    },
    {
     "data": {
      "text/markdown": [
       "$\\exists\\ x.(know(charlie,x)\\ \\land\\ woman(x)\\ \\land\\ like(x,george))$"
      ],
      "text/plain": [
       "<IPython.core.display.Markdown object>"
      ]
     },
     "metadata": {},
     "output_type": "display_data"
    },
    {
     "data": {
      "text/markdown": [
       "----"
      ],
      "text/plain": [
       "<IPython.core.display.Markdown object>"
      ]
     },
     "metadata": {},
     "output_type": "display_data"
    },
    {
     "name": "stdout",
     "output_type": "stream",
     "text": [
      "George admires everybody and Lydia admires nobody\n",
      "False\n"
     ]
    },
    {
     "data": {
      "text/markdown": [
       "$\\forall\\ x.((woman(x)\\ \\lor\\ man(x))\\ \\rightarrow\\ (admire(george,x)\\ \\land\\ -admire(lydia,x)))$"
      ],
      "text/plain": [
       "<IPython.core.display.Markdown object>"
      ]
     },
     "metadata": {},
     "output_type": "display_data"
    },
    {
     "data": {
      "text/markdown": [
       "----"
      ],
      "text/plain": [
       "<IPython.core.display.Markdown object>"
      ]
     },
     "metadata": {},
     "output_type": "display_data"
    },
    {
     "name": "stdout",
     "output_type": "stream",
     "text": [
      "Nobody admires everybody\n",
      "True\n"
     ]
    },
    {
     "data": {
      "text/markdown": [
       "$\\forall\\ x.\\exists\\ y.-admire(x,y)$"
      ],
      "text/plain": [
       "<IPython.core.display.Markdown object>"
      ]
     },
     "metadata": {},
     "output_type": "display_data"
    },
    {
     "data": {
      "text/markdown": [
       "----"
      ],
      "text/plain": [
       "<IPython.core.display.Markdown object>"
      ]
     },
     "metadata": {},
     "output_type": "display_data"
    },
    {
     "name": "stdout",
     "output_type": "stream",
     "text": [
      "Exactly one musician plays everything Alex wrote\n",
      "True\n"
     ]
    },
    {
     "data": {
      "text/markdown": [
       "$\\exists\\ z.\\forall\\ y.((musician(y)\\ \\land\\ \\forall\\ x.(wrote(alex,x)\\ \\rightarrow\\ play(y,x)))\\ \\leftrightarrow\\ (y\\ =\\ z))$"
      ],
      "text/plain": [
       "<IPython.core.display.Markdown object>"
      ]
     },
     "metadata": {},
     "output_type": "display_data"
    },
    {
     "data": {
      "text/markdown": [
       "----"
      ],
      "text/plain": [
       "<IPython.core.display.Markdown object>"
      ]
     },
     "metadata": {},
     "output_type": "display_data"
    }
   ],
   "source": [
    "# entities = set(['p','t','e','h','r','s','u','l','w','c'])\n",
    "\n",
    "# NOTE I couldn't associate the single letters above to entities (what is 't' and 'h'???) \n",
    "# so I use the following ones instead, for the sake of readability\n",
    "entities = set(['ly','ge','al','ch','be','so','et','pr','wa','sc'])\n",
    "\n",
    "assign = \"\"\"\n",
    "    lydia => ly\n",
    "    george => ge\n",
    "    alex => al\n",
    "    charlie => ch\n",
    "    bertie =>  be\n",
    "    \n",
    "    sonata => so\n",
    "    etude  => et\n",
    "    prelude  => pr\n",
    "    waltz  => wa\n",
    "    scherzo  => sc\n",
    "    \n",
    "    \n",
    "    like => {(ly,ly),(ly,ge),(ly,al),(ly,ch),\\\n",
    "             (ge,ly),(ge,be),(ge,ge),\\\n",
    "             (al,al),\\\n",
    "             (ch,ly),(ch,ge),(ch,al),(ch,ch),(ch,be),\\\n",
    "             (be,al)}\n",
    "             \n",
    "    english => {ly,ge,al,ch,be}\n",
    "    pianist => {ch,be}\n",
    "    \n",
    "    play => { (ch,so),(ch,et),(ch,wa),\\\n",
    "              (be,wa),(be,sc),\\\n",
    "              (ly,et),(ly,pr),(ly,wa)}\n",
    "              \n",
    "    admire => { (ly,ly),(ly,ch),(ly,be)\\\n",
    "                (ge,ly),(ge,ge),(ge,al),(ge,ch),(ge,be),\\\n",
    "                (al,ly),(al,al),(al,be),\\\n",
    "                (ch,ge),(ch,be),\\\n",
    "                (be,ly),(be,ge),(be,al),(be,ch),(be,be)}\n",
    "                \n",
    "    know => {   (ly,ly),(ly,ge),(ly,al),(ly,ch),(ly,be),\\\n",
    "                (ge,ly),(ge,ge),(ge,be),\\\n",
    "                (al,ly),(al,al),(al,be),\\\n",
    "                (ch,ge),(ch,ch),(ch,be),\\\n",
    "                (be,ly),(be,ge),(be,al),(be,ch),(be,be)}\n",
    "                \n",
    "    woman => {ly,al,ch}\n",
    "    man => {ge,be}\n",
    "    wrote => {(al,so),(al,et),(al,wa)}\n",
    "    musician => {ly,al,ch,be}\n",
    "\"\"\"\n",
    "\n",
    "val2 = nltk.Valuation.fromstring(assign)\n",
    "\n",
    "g2 = nltk.Assignment(entities)\n",
    "m2 = nltk.Model(entities, val2)\n",
    "\n",
    "# sentences from question 3\n",
    "for text, semrep in sentences1.items():\n",
    "    print(text)\n",
    "    print(m2.evaluate(str(semrep), g2))\n",
    "    display_latex(semrep)\n",
    "    display(Markdown('----'))\n",
    "\n",
    "# sentences from question 4\n",
    "for text, semrep in sentences2.items():\n",
    "    print(text)\n",
    "    print(m2.evaluate(str(semrep), g2))\n",
    "    display_latex(semrep)\n",
    "    display(Markdown('----'))\n"
   ]
  },
  {
   "cell_type": "markdown",
   "metadata": {},
   "source": [
    "*Comments on the answers:*\n",
    "\n",
    "`Answers here`\n",
    "\n",
    "I understand it's how it works but I found it repetitve to have to assign multiple times when e.g., someone admires many people. \n",
    "\n",
    "Also, the syntax in the assign docstring is rather inflexible: the variables either need to be in one line at the expense of readability or be split by a backslash '\\', else the parser throws the OutOfRange error.\n",
    "\n",
    "However, since the parsed val is in the form of a dict, it's also possible to use for-loop to update the dict when assigning e.g., \" Bertie knows Lydia, George, Alex, Charlie and Bertie\" "
   ]
  },
  {
   "cell_type": "markdown",
   "metadata": {},
   "source": [
    "## Lambda calculus"
   ]
  },
  {
   "cell_type": "code",
   "execution_count": 7,
   "metadata": {},
   "outputs": [],
   "source": [
    "from nltk.grammar import FeatureGrammar"
   ]
  },
  {
   "cell_type": "markdown",
   "metadata": {},
   "source": [
    "### 6. Function application and $\\beta$-reduction\n",
    "In the following examples some code has been deleted and replaced with `<????>`. What has been deleted? Verify that your answer is correct. **[4 marks]**"
   ]
  },
  {
   "cell_type": "code",
   "execution_count": 8,
   "metadata": {},
   "outputs": [
    {
     "data": {
      "text/markdown": [
       "$like(pip,rob)$"
      ],
      "text/plain": [
       "<IPython.core.display.Markdown object>"
      ]
     },
     "metadata": {},
     "output_type": "display_data"
    },
    {
     "data": {
      "text/markdown": [
       "$like(pip,rob)$"
      ],
      "text/plain": [
       "<IPython.core.display.Markdown object>"
      ]
     },
     "metadata": {},
     "output_type": "display_data"
    },
    {
     "data": {
      "text/markdown": [
       "$play(pip,scherzo)$"
      ],
      "text/plain": [
       "<IPython.core.display.Markdown object>"
      ]
     },
     "metadata": {},
     "output_type": "display_data"
    },
    {
     "data": {
      "text/markdown": [
       "$play(pip,scherzo)$"
      ],
      "text/plain": [
       "<IPython.core.display.Markdown object>"
      ]
     },
     "metadata": {},
     "output_type": "display_data"
    },
    {
     "data": {
      "text/markdown": [
       "$\\exists\\ x.(woman(x)\\ \\land\\ play(x,etude))$"
      ],
      "text/plain": [
       "<IPython.core.display.Markdown object>"
      ]
     },
     "metadata": {},
     "output_type": "display_data"
    },
    {
     "data": {
      "text/markdown": [
       "$\\exists\\ x.(woman(x)\\ \\land\\ play(x,etude))$"
      ],
      "text/plain": [
       "<IPython.core.display.Markdown object>"
      ]
     },
     "metadata": {},
     "output_type": "display_data"
    },
    {
     "data": {
      "text/markdown": [
       "$\\lambda\\ x.\\forall\\ z_{1}.(musician(z_{1})\\ \\rightarrow\\ like(x,z_{1}))$"
      ],
      "text/plain": [
       "<IPython.core.display.Markdown object>"
      ]
     },
     "metadata": {},
     "output_type": "display_data"
    },
    {
     "data": {
      "text/markdown": [
       "$\\lambda\\ x.\\forall\\ z_{2}.(musician(z_{2})\\ \\rightarrow\\ like(x,z_{2}))$"
      ],
      "text/plain": [
       "<IPython.core.display.Markdown object>"
      ]
     },
     "metadata": {},
     "output_type": "display_data"
    }
   ],
   "source": [
    "e1 = read_expr(r'\\x. like(x, rob)  ') # (x)=> like(x,rob)\n",
    "e2 = read_expr(r'pip')\n",
    "e3 = nltk.sem.ApplicationExpression(e1,e2) # (x);x=pip\n",
    "display_latex(e3.simplify())\n",
    "# with reuslt like(pip,rob).\n",
    "display_latex(read_expr(r\"like(pip,rob)\"))\n",
    "\n",
    "e1 = read_expr(r'\\P. P(pip)')  # (P())=>P(pip); Takes a func(x) and returns func(pip)\n",
    "e2 = read_expr(r'\\x.play(x,scherzo)')  # (x)=> play(x, scherzo)\n",
    "e3 = nltk.sem.ApplicationExpression(e1,e2) #\\P.P(pip)(\\x.play(x,sc)) => \\x.play(x,sc)(pip) => play(pip,sc)\n",
    "display_latex(e3.simplify())\n",
    "# with result play(pip,scherzo).\n",
    "display_latex(read_expr(r\"play(pip,scherzo)\"))\n",
    "\n",
    "e1 = read_expr(r'\\P. exists x. (woman(x) & P(x))') # (P())=> exists x. ( woman(x) & P(x) )\n",
    "e2 = read_expr(r'\\x. play(x,etude)')  # (x)=> play(x,etude)\n",
    "e3 = nltk.sem.ApplicationExpression(e1,e2) # (P()) (\\x. play(x,etude)) => exists x(woman(x)&play(x,et)) \n",
    "display_latex(e3.simplify())\n",
    "# with result exists x.(woman(x) & play(x,etude)).\n",
    "display_latex(read_expr(r\"exists x.(woman(x) & play(x,etude))\"))\n",
    "\n",
    "e1 = read_expr(r'\\P x.P(\\y.like(x,y))') # (Q())=> x Q(\\y like(x,y))\n",
    "e2 = read_expr(r'\\P.all x. (musician(x) -> P(x))') #(P())=> all x(musician(x)->P(x))\n",
    "e3 = nltk.sem.ApplicationExpression(e1,e2) \n",
    "# \\Q x Q(\\y like(x,y)) (all x(musician(x)->P(x)) => x all y (musician(y)->P(x,y))\n",
    "display_latex(e3.simplify())\n",
    "# with result \\x.all z2.(musician(z2) -> like(x,z2)).\n",
    "display_latex(read_expr(r\"\\x.all z2.(musician(z2) -> like(x,z2))\"))"
   ]
  },
  {
   "cell_type": "markdown",
   "metadata": {},
   "source": [
    "### 7. Extending the grammar\n",
    "\n",
    "Extend the grammar simple_sem.fcfg that comes with NLTK `(~/nltk_data/grammars/book_grammars/)` so that it will cover the following sentences:\n",
    "\n",
    "- no man gives a bone to a dog **[4 marks]**\n",
    "- no man gives a bone to the dog **[4 marks]**\n",
    "- a boy and a girl chased every dog **[2 marks]**\n",
    "- every dog chased a boy and a girl **[2 marks]**\n",
    "- a brown cat chases a white dog **[4 marks]**\n",
    "\n",
    "The last example includes adjectives. Several different kinds of adjectives are discussed in the literature [(cf. Kennedy, 2012)](http://semantics.uchicago.edu/kennedy/docs/routledge.pdf). In this example we have an intersective adjective. The denotiation we want for \"brown cat\" is a a set that we get by intersecting the set of individuals that are brown and the set of individuals that are cats.\n",
    "\n",
    "C. Kennedy. Adjectives. In G. Russell, editor, The Routledge Companion to Philosophy of Language, chapter 3.3, pages 328–341. Routledge, 2012.\n",
    "\n",
    "The original grammar is included in the code below as a string."
   ]
  },
  {
   "cell_type": "code",
   "execution_count": 9,
   "metadata": {},
   "outputs": [],
   "source": [
    "fcfg_string_orginal = r\"\"\"\n",
    "% start S\n",
    "############################\n",
    "# Grammar Rules\n",
    "#############################\n",
    "\n",
    "S[SEM = <?subj(?vp)>] -> NP[NUM=?n,SEM=?subj] VP[NUM=?n,SEM=?vp]\n",
    "\n",
    "NP[NUM=?n,SEM=<?det(?nom)> ] -> Det[NUM=?n,SEM=?det]  Nom[NUM=?n,SEM=?nom]\n",
    "NP[LOC=?l,NUM=?n,SEM=?np] -> PropN[LOC=?l,NUM=?n,SEM=?np]\n",
    "\n",
    "Nom[NUM=?n,SEM=?nom] -> N[NUM=?n,SEM=?nom]\n",
    "\n",
    "VP[NUM=?n,SEM=?v] -> IV[NUM=?n,SEM=?v]\n",
    "VP[NUM=?n,SEM=<?v(?obj)>] -> TV[NUM=?n,SEM=?v] NP[SEM=?obj]\n",
    "VP[NUM=?n,SEM=<?v(?obj,?pp)>] -> DTV[NUM=?n,SEM=?v] NP[SEM=?obj] PP[+TO,SEM=?pp]\n",
    "\n",
    "PP[+TO, SEM=?np] -> P[+TO] NP[SEM=?np]\n",
    "\n",
    "#############################\n",
    "# Lexical Rules\n",
    "#############################\n",
    "\n",
    "PropN[-LOC,NUM=sg,SEM=<\\P.P(angus)>] -> 'Angus'\n",
    "PropN[-LOC,NUM=sg,SEM=<\\P.P(cyril)>] -> 'Cyril'\n",
    "PropN[-LOC,NUM=sg,SEM=<\\P.P(irene)>] -> 'Irene'\n",
    " \n",
    "Det[NUM=sg,SEM=<\\P Q.all x.(P(x) -> Q(x))>] -> 'every'\n",
    "Det[NUM=pl,SEM=<\\P Q.all x.(P(x) -> Q(x))>] -> 'all'\n",
    "Det[SEM=<\\P Q.exists x.(P(x) & Q(x))>] -> 'some'\n",
    "Det[NUM=sg,SEM=<\\P Q.exists x.(P(x) & Q(x))>] -> 'a'\n",
    "Det[NUM=sg,SEM=<\\P Q.exists x.(P(x) & Q(x))>] -> 'an'\n",
    "\n",
    "N[NUM=sg,SEM=<\\x.man(x)>] -> 'man'\n",
    "N[NUM=sg,SEM=<\\x.girl(x)>] -> 'girl'\n",
    "N[NUM=sg,SEM=<\\x.boy(x)>] -> 'boy'\n",
    "N[NUM=sg,SEM=<\\x.bone(x)>] -> 'bone'\n",
    "N[NUM=sg,SEM=<\\x.ankle(x)>] -> 'ankle'\n",
    "N[NUM=sg,SEM=<\\x.dog(x)>] -> 'dog'\n",
    "N[NUM=pl,SEM=<\\x.dog(x)>] -> 'dogs'\n",
    "\n",
    "IV[NUM=sg,SEM=<\\x.bark(x)>,TNS=pres] -> 'barks'\n",
    "IV[NUM=pl,SEM=<\\x.bark(x)>,TNS=pres] -> 'bark'\n",
    "IV[NUM=sg,SEM=<\\x.walk(x)>,TNS=pres] -> 'walks'\n",
    "IV[NUM=pl,SEM=<\\x.walk(x)>,TNS=pres] -> 'walk'\n",
    "TV[NUM=sg,SEM=<\\X x.X(\\ y.chase(x,y))>,TNS=pres] -> 'chases'\n",
    "TV[NUM=pl,SEM=<\\X x.X(\\ y.chase(x,y))>,TNS=pres] -> 'chase'\n",
    "TV[NUM=sg,SEM=<\\X x.X(\\ y.see(x,y))>,TNS=pres] -> 'sees'\n",
    "TV[NUM=pl,SEM=<\\X x.X(\\ y.see(x,y))>,TNS=pres] -> 'see'\n",
    "TV[NUM=sg,SEM=<\\X x.X(\\ y.bite(x,y))>,TNS=pres] -> 'bites'\n",
    "TV[NUM=pl,SEM=<\\X x.X(\\ y.bite(x,y))>,TNS=pres] -> 'bite'\n",
    "DTV[NUM=sg,SEM=<\\Y X x.X(\\z.Y(\\y.give(x,y,z)))>,TNS=pres] -> 'gives'\n",
    "DTV[NUM=pl,SEM=<\\Y X x.X(\\z.Y(\\y.give(x,y,z)))>,TNS=pres] -> 'give'\n",
    "\n",
    "P[+to] -> 'to'\n",
    "\"\"\""
   ]
  },
  {
   "cell_type": "markdown",
   "metadata": {},
   "source": [
    "Write your extension of this grammar here:"
   ]
  },
  {
   "cell_type": "code",
   "execution_count": 10,
   "metadata": {},
   "outputs": [
    {
     "ename": "ValueError",
     "evalue": "Unable to parse line 65: NP[NUM=pl,SEM=<\\ Q.(?nom1(Q) & ?nom2(Q))> ] -> NP[NUM=?n1,SEM=?nom1] CONJ NP[NUM=?n2,SEM=?nom2] # N and N => plur\nError parsing feature structure\n    NP[NUM=pl,SEM=<\\ Q.(?nom1(Q) & ?nom2(Q))> ] -> NP[NUM=?n1,SEM=?nom1] CONJ NP[NUM=?n2,SEM=?nom2] # N and N => plur\n                                                                                                    ^ Expected open bracket or identifier",
     "output_type": "error",
     "traceback": [
      "\u001b[1;31m---------------------------------------------------------------------------\u001b[0m",
      "\u001b[1;31mValueError\u001b[0m                                Traceback (most recent call last)",
      "\u001b[1;32m~\\anaconda3\\lib\\site-packages\\nltk\\featstruct.py\u001b[0m in \u001b[0;36mread_partial\u001b[1;34m(self, s, position, reentrances, fstruct)\u001b[0m\n\u001b[0;32m   2248\u001b[0m         \u001b[1;32mtry\u001b[0m\u001b[1;33m:\u001b[0m\u001b[1;33m\u001b[0m\u001b[1;33m\u001b[0m\u001b[0m\n\u001b[1;32m-> 2249\u001b[1;33m             \u001b[1;32mreturn\u001b[0m \u001b[0mself\u001b[0m\u001b[1;33m.\u001b[0m\u001b[0m_read_partial\u001b[0m\u001b[1;33m(\u001b[0m\u001b[0ms\u001b[0m\u001b[1;33m,\u001b[0m \u001b[0mposition\u001b[0m\u001b[1;33m,\u001b[0m \u001b[0mreentrances\u001b[0m\u001b[1;33m,\u001b[0m \u001b[0mfstruct\u001b[0m\u001b[1;33m)\u001b[0m\u001b[1;33m\u001b[0m\u001b[1;33m\u001b[0m\u001b[0m\n\u001b[0m\u001b[0;32m   2250\u001b[0m         \u001b[1;32mexcept\u001b[0m \u001b[0mValueError\u001b[0m \u001b[1;32mas\u001b[0m \u001b[0me\u001b[0m\u001b[1;33m:\u001b[0m\u001b[1;33m\u001b[0m\u001b[1;33m\u001b[0m\u001b[0m\n",
      "\u001b[1;32m~\\anaconda3\\lib\\site-packages\\nltk\\featstruct.py\u001b[0m in \u001b[0;36m_read_partial\u001b[1;34m(self, s, position, reentrances, fstruct)\u001b[0m\n\u001b[0;32m   2267\u001b[0m             \u001b[1;32mif\u001b[0m \u001b[1;32mnot\u001b[0m \u001b[0mmatch\u001b[0m\u001b[1;33m:\u001b[0m\u001b[1;33m\u001b[0m\u001b[1;33m\u001b[0m\u001b[0m\n\u001b[1;32m-> 2268\u001b[1;33m                 \u001b[1;32mraise\u001b[0m \u001b[0mValueError\u001b[0m\u001b[1;33m(\u001b[0m\u001b[1;34m\"open bracket or identifier\"\u001b[0m\u001b[1;33m,\u001b[0m \u001b[0mposition\u001b[0m\u001b[1;33m)\u001b[0m\u001b[1;33m\u001b[0m\u001b[1;33m\u001b[0m\u001b[0m\n\u001b[0m\u001b[0;32m   2269\u001b[0m         \u001b[0mposition\u001b[0m \u001b[1;33m=\u001b[0m \u001b[0mmatch\u001b[0m\u001b[1;33m.\u001b[0m\u001b[0mend\u001b[0m\u001b[1;33m(\u001b[0m\u001b[1;33m)\u001b[0m\u001b[1;33m\u001b[0m\u001b[1;33m\u001b[0m\u001b[0m\n",
      "\u001b[1;31mValueError\u001b[0m: ('open bracket or identifier', 96)",
      "\nDuring handling of the above exception, another exception occurred:\n",
      "\u001b[1;31mValueError\u001b[0m                                Traceback (most recent call last)",
      "\u001b[1;32m~\\anaconda3\\lib\\site-packages\\nltk\\grammar.py\u001b[0m in \u001b[0;36mread_grammar\u001b[1;34m(input, nonterm_parser, probabilistic, encoding)\u001b[0m\n\u001b[0;32m   1448\u001b[0m                 \u001b[1;31m# expand out the disjunctions on the RHS\u001b[0m\u001b[1;33m\u001b[0m\u001b[1;33m\u001b[0m\u001b[1;33m\u001b[0m\u001b[0m\n\u001b[1;32m-> 1449\u001b[1;33m                 \u001b[0mproductions\u001b[0m \u001b[1;33m+=\u001b[0m \u001b[0m_read_production\u001b[0m\u001b[1;33m(\u001b[0m\u001b[0mline\u001b[0m\u001b[1;33m,\u001b[0m \u001b[0mnonterm_parser\u001b[0m\u001b[1;33m,\u001b[0m \u001b[0mprobabilistic\u001b[0m\u001b[1;33m)\u001b[0m\u001b[1;33m\u001b[0m\u001b[1;33m\u001b[0m\u001b[0m\n\u001b[0m\u001b[0;32m   1450\u001b[0m         \u001b[1;32mexcept\u001b[0m \u001b[0mValueError\u001b[0m \u001b[1;32mas\u001b[0m \u001b[0me\u001b[0m\u001b[1;33m:\u001b[0m\u001b[1;33m\u001b[0m\u001b[1;33m\u001b[0m\u001b[0m\n",
      "\u001b[1;32m~\\anaconda3\\lib\\site-packages\\nltk\\grammar.py\u001b[0m in \u001b[0;36m_read_production\u001b[1;34m(line, nonterm_parser, probabilistic)\u001b[0m\n\u001b[0;32m   1387\u001b[0m         \u001b[1;32melse\u001b[0m\u001b[1;33m:\u001b[0m\u001b[1;33m\u001b[0m\u001b[1;33m\u001b[0m\u001b[0m\n\u001b[1;32m-> 1388\u001b[1;33m             \u001b[0mnonterm\u001b[0m\u001b[1;33m,\u001b[0m \u001b[0mpos\u001b[0m \u001b[1;33m=\u001b[0m \u001b[0mnonterm_parser\u001b[0m\u001b[1;33m(\u001b[0m\u001b[0mline\u001b[0m\u001b[1;33m,\u001b[0m \u001b[0mpos\u001b[0m\u001b[1;33m)\u001b[0m\u001b[1;33m\u001b[0m\u001b[1;33m\u001b[0m\u001b[0m\n\u001b[0m\u001b[0;32m   1389\u001b[0m             \u001b[0mrhsides\u001b[0m\u001b[1;33m[\u001b[0m\u001b[1;33m-\u001b[0m\u001b[1;36m1\u001b[0m\u001b[1;33m]\u001b[0m\u001b[1;33m.\u001b[0m\u001b[0mappend\u001b[0m\u001b[1;33m(\u001b[0m\u001b[0mnonterm\u001b[0m\u001b[1;33m)\u001b[0m\u001b[1;33m\u001b[0m\u001b[1;33m\u001b[0m\u001b[0m\n",
      "\u001b[1;32m~\\anaconda3\\lib\\site-packages\\nltk\\featstruct.py\u001b[0m in \u001b[0;36mread_partial\u001b[1;34m(self, s, position, reentrances, fstruct)\u001b[0m\n\u001b[0;32m   2252\u001b[0m                 \u001b[1;32mraise\u001b[0m\u001b[1;33m\u001b[0m\u001b[1;33m\u001b[0m\u001b[0m\n\u001b[1;32m-> 2253\u001b[1;33m             \u001b[0mself\u001b[0m\u001b[1;33m.\u001b[0m\u001b[0m_error\u001b[0m\u001b[1;33m(\u001b[0m\u001b[0ms\u001b[0m\u001b[1;33m,\u001b[0m \u001b[1;33m*\u001b[0m\u001b[0me\u001b[0m\u001b[1;33m.\u001b[0m\u001b[0margs\u001b[0m\u001b[1;33m)\u001b[0m\u001b[1;33m\u001b[0m\u001b[1;33m\u001b[0m\u001b[0m\n\u001b[0m\u001b[0;32m   2254\u001b[0m \u001b[1;33m\u001b[0m\u001b[0m\n",
      "\u001b[1;32m~\\anaconda3\\lib\\site-packages\\nltk\\featstruct.py\u001b[0m in \u001b[0;36m_error\u001b[1;34m(self, s, expected, position)\u001b[0m\n\u001b[0;32m   2466\u001b[0m         )\n\u001b[1;32m-> 2467\u001b[1;33m         \u001b[1;32mraise\u001b[0m \u001b[0mValueError\u001b[0m\u001b[1;33m(\u001b[0m\u001b[0mestr\u001b[0m\u001b[1;33m)\u001b[0m\u001b[1;33m\u001b[0m\u001b[1;33m\u001b[0m\u001b[0m\n\u001b[0m\u001b[0;32m   2468\u001b[0m \u001b[1;33m\u001b[0m\u001b[0m\n",
      "\u001b[1;31mValueError\u001b[0m: Error parsing feature structure\n    NP[NUM=pl,SEM=<\\ Q.(?nom1(Q) & ?nom2(Q))> ] -> NP[NUM=?n1,SEM=?nom1] CONJ NP[NUM=?n2,SEM=?nom2] # N and N => plur\n                                                                                                    ^ Expected open bracket or identifier",
      "\nDuring handling of the above exception, another exception occurred:\n",
      "\u001b[1;31mValueError\u001b[0m                                Traceback (most recent call last)",
      "\u001b[1;32m<ipython-input-10-36b57b80dc54>\u001b[0m in \u001b[0;36m<module>\u001b[1;34m\u001b[0m\n\u001b[0;32m     16\u001b[0m \u001b[1;33m\u001b[0m\u001b[0m\n\u001b[0;32m     17\u001b[0m \u001b[1;31m# Load `fcfg_string` as a feature grammar:\u001b[0m\u001b[1;33m\u001b[0m\u001b[1;33m\u001b[0m\u001b[1;33m\u001b[0m\u001b[0m\n\u001b[1;32m---> 18\u001b[1;33m \u001b[0msyntax\u001b[0m \u001b[1;33m=\u001b[0m \u001b[0mFeatureGrammar\u001b[0m\u001b[1;33m.\u001b[0m\u001b[0mfromstring\u001b[0m\u001b[1;33m(\u001b[0m\u001b[0mfcfg_string\u001b[0m\u001b[1;33m)\u001b[0m\u001b[1;33m\u001b[0m\u001b[1;33m\u001b[0m\u001b[0m\n\u001b[0m",
      "\u001b[1;32m~\\anaconda3\\lib\\site-packages\\nltk\\grammar.py\u001b[0m in \u001b[0;36mfromstring\u001b[1;34m(cls, input, features, logic_parser, fstruct_reader, encoding)\u001b[0m\n\u001b[0;32m    948\u001b[0m             )\n\u001b[0;32m    949\u001b[0m \u001b[1;33m\u001b[0m\u001b[0m\n\u001b[1;32m--> 950\u001b[1;33m         start, productions = read_grammar(\n\u001b[0m\u001b[0;32m    951\u001b[0m             \u001b[0minput\u001b[0m\u001b[1;33m,\u001b[0m \u001b[0mfstruct_reader\u001b[0m\u001b[1;33m.\u001b[0m\u001b[0mread_partial\u001b[0m\u001b[1;33m,\u001b[0m \u001b[0mencoding\u001b[0m\u001b[1;33m=\u001b[0m\u001b[0mencoding\u001b[0m\u001b[1;33m\u001b[0m\u001b[1;33m\u001b[0m\u001b[0m\n\u001b[0;32m    952\u001b[0m         )\n",
      "\u001b[1;32m~\\anaconda3\\lib\\site-packages\\nltk\\grammar.py\u001b[0m in \u001b[0;36mread_grammar\u001b[1;34m(input, nonterm_parser, probabilistic, encoding)\u001b[0m\n\u001b[0;32m   1449\u001b[0m                 \u001b[0mproductions\u001b[0m \u001b[1;33m+=\u001b[0m \u001b[0m_read_production\u001b[0m\u001b[1;33m(\u001b[0m\u001b[0mline\u001b[0m\u001b[1;33m,\u001b[0m \u001b[0mnonterm_parser\u001b[0m\u001b[1;33m,\u001b[0m \u001b[0mprobabilistic\u001b[0m\u001b[1;33m)\u001b[0m\u001b[1;33m\u001b[0m\u001b[1;33m\u001b[0m\u001b[0m\n\u001b[0;32m   1450\u001b[0m         \u001b[1;32mexcept\u001b[0m \u001b[0mValueError\u001b[0m \u001b[1;32mas\u001b[0m \u001b[0me\u001b[0m\u001b[1;33m:\u001b[0m\u001b[1;33m\u001b[0m\u001b[1;33m\u001b[0m\u001b[0m\n\u001b[1;32m-> 1451\u001b[1;33m             \u001b[1;32mraise\u001b[0m \u001b[0mValueError\u001b[0m\u001b[1;33m(\u001b[0m\u001b[1;34m\"Unable to parse line %s: %s\\n%s\"\u001b[0m \u001b[1;33m%\u001b[0m \u001b[1;33m(\u001b[0m\u001b[0mlinenum\u001b[0m \u001b[1;33m+\u001b[0m \u001b[1;36m1\u001b[0m\u001b[1;33m,\u001b[0m \u001b[0mline\u001b[0m\u001b[1;33m,\u001b[0m \u001b[0me\u001b[0m\u001b[1;33m)\u001b[0m\u001b[1;33m)\u001b[0m\u001b[1;33m\u001b[0m\u001b[1;33m\u001b[0m\u001b[0m\n\u001b[0m\u001b[0;32m   1452\u001b[0m \u001b[1;33m\u001b[0m\u001b[0m\n\u001b[0;32m   1453\u001b[0m     \u001b[1;32mif\u001b[0m \u001b[1;32mnot\u001b[0m \u001b[0mproductions\u001b[0m\u001b[1;33m:\u001b[0m\u001b[1;33m\u001b[0m\u001b[1;33m\u001b[0m\u001b[0m\n",
      "\u001b[1;31mValueError\u001b[0m: Unable to parse line 65: NP[NUM=pl,SEM=<\\ Q.(?nom1(Q) & ?nom2(Q))> ] -> NP[NUM=?n1,SEM=?nom1] CONJ NP[NUM=?n2,SEM=?nom2] # N and N => plur\nError parsing feature structure\n    NP[NUM=pl,SEM=<\\ Q.(?nom1(Q) & ?nom2(Q))> ] -> NP[NUM=?n1,SEM=?nom1] CONJ NP[NUM=?n2,SEM=?nom2] # N and N => plur\n                                                                                                    ^ Expected open bracket or identifier"
     ]
    }
   ],
   "source": [
    "fcfg_string = fcfg_string_orginal + r\"\"\"\n",
    "## Your answers here\n",
    "Det[SEM=<\\P Q.-exists x.(P(x) & Q(x))>] -> 'no'\n",
    "\n",
    "\n",
    "Det[SEM=<\\P Q.exists x.(P(x) & all y.(P(y) -> x=y) & Q(x))>] -> 'the'\n",
    "# Det[SEM=<\\Q P.exists x.(Q(x) & P(x) & all y.(Q(y) -> (y=x)))>] -> 'the' | 'The'\n",
    "TV[SEM=<\\X x.X(\\y.chase(x,y))>,TNS=past] -> 'chased'\n",
    "CONJ -> 'and'\n",
    "NP[NUM=pl,SEM=<\\ Q.(?nom1(Q) & ?nom2(Q))> ] -> NP[NUM=?n1,SEM=?nom1] CONJ NP[NUM=?n2,SEM=?nom2] # N and N => plur\n",
    "N[NUM=sg,SEM=<\\x.cat(x)>] -> 'cat'\n",
    "ADJ[SEM=<\\P x.(brown(x) & P(x))>] -> 'brown'\n",
    "ADJ[SEM=<\\P x.(white(x) & P(x))>] -> 'white'\n",
    "NP[NUM=?n,SEM=<?det(?adj(?nom))>] -> Det[SEM=?det] ADJ[SEM=?adj] Nom[SEM=?nom]\n",
    "\"\"\"\n",
    "\n",
    "# Load `fcfg_string` as a feature grammar:\n",
    "syntax = FeatureGrammar.fromstring(fcfg_string)"
   ]
  },
  {
   "cell_type": "markdown",
   "metadata": {},
   "source": [
    "Run the code below without errors:"
   ]
  },
  {
   "cell_type": "code",
   "execution_count": null,
   "metadata": {},
   "outputs": [],
   "source": [
    "# remove sentences if you couldn't find answer for them\n",
    "sentences = [\n",
    "    'no man gives a bone to a dog', # all men do not give any bone to any dog\n",
    "    'no man gives a bone to the dog', # there exists a dog which all men don't give any bone to\n",
    "    'a boy and a girl chased every dog',\n",
    "    'every dog chased a boy and a girl',\n",
    "    'a brown cat chases a white dog',\n",
    "]\n",
    "for results in nltk.interpret_sents(sentences, syntax):\n",
    "    for (synrep, semrep) in results:\n",
    "        display(Markdown('----'))\n",
    "#         display_latex(semrep) # prints the SEM feature of a tree\n",
    "#         display_tree(synrep) # show the parse tree\n",
    "        print(synrep)\n",
    "        print(semrep)"
   ]
  },
  {
   "cell_type": "markdown",
   "metadata": {},
   "source": [
    "If you are working with iPython which is also running behind Jupyter notebooks and you are changing grammars and want to rerun a new version without restarting you may find `nltk.data.clear_cache()` useful."
   ]
  },
  {
   "cell_type": "markdown",
   "metadata": {},
   "source": [
    "## Marks\n",
    "\n",
    "This part of the assignment has a total of 47 marks."
   ]
  }
 ],
 "metadata": {
  "kernelspec": {
   "display_name": "Python 3",
   "language": "python",
   "name": "python3"
  },
  "language_info": {
   "codemirror_mode": {
    "name": "ipython",
    "version": 3
   },
   "file_extension": ".py",
   "mimetype": "text/x-python",
   "name": "python",
   "nbconvert_exporter": "python",
   "pygments_lexer": "ipython3",
   "version": "3.8.5"
  }
 },
 "nbformat": 4,
 "nbformat_minor": 4
}
