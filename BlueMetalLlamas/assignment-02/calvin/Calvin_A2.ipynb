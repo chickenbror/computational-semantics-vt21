{
 "cells": [
  {
   "cell_type": "markdown",
   "metadata": {},
   "source": [
    "#### We write our notes and questions here in Google Docs [https://tinyurl.com/llamas-a2](https://tinyurl.com/llamas-a2) instead of a markdown file so it can be updated in real time."
   ]
  },
  {
   "cell_type": "markdown",
   "metadata": {},
   "source": [
    "# A2: Vector Semantics\n",
    "\n",
    "Nikolai Ilinykh, Mehdi Ghanimifard, Wafia Adouane and Simon Dobnik\n",
    "\n",
    "The lab is an exploration and learning exercise to be done in a group and also in discussion with the teachers and other students.\n",
    "\n",
    "Before starting, please read [the following instructions](https://github.com/sdobnik/computational-semantics/blob/master/README.md) on how to work on group assignments.\n",
    "\n",
    "Write all your answers and the code in the appropriate boxes below.\n",
    "\n",
    "In this lab we will look at how to build distributional semantic models from corpora and use semantic similarity captured by these models to do semantic tasks. We are also going to examine how different vector composition functions for phrases affect both the model and the learned information about similarities.  \n",
    "\n",
    "Note that this lab uses a code from `dist_erk.py`, which contains functions that highly resemble those shown during the lecture. In the end, you can use either of the functions (from the lecture / from the file) to solve the tasks."
   ]
  },
  {
   "cell_type": "code",
   "execution_count": 1,
   "metadata": {},
   "outputs": [],
   "source": [
    "# the following command simply imports all the methods from that code.\n",
    "from dist_erk import *"
   ]
  },
  {
   "cell_type": "markdown",
   "metadata": {},
   "source": [
    "## 1. Loading a corpus\n",
    "\n",
    "To train a distributional model, we first need a sufficiently large collection of texts which contain different words used frequently enough in different contexts. Here we will use a section of the Wikipedia corpus which you can download from [here](https://linux.dobnik.net/cloud/index.php/s/isMBj49jt5renYt?path=%2Fresources%2Fa2-distributional-representations) (wikipedia.txt.zip). (This file has been borrowed from another lab by [Richard Johansson](http://www.cse.chalmers.se/~richajo/)).  \n",
    "When unpacked, the file is 151mb, hence if you are using the MLT servers you should store it in a temporary folder outside your home and adjust the `corpus_dir` path below.  \n",
    "<!-- <It may already exist in `/opt/mlt/courses/cl2015/a5`.> -->\n"
   ]
  },
  {
   "cell_type": "code",
   "execution_count": 2,
   "metadata": {},
   "outputs": [],
   "source": [
    "corpus_dir = 'wiki'"
   ]
  },
  {
   "cell_type": "markdown",
   "metadata": {},
   "source": [
    "## 2. Building a model\n",
    "\n",
    "Now you are ready to build the model.  \n",
    "Using the methods from the code imported above build three word matrices with 1000 dimensions as follows:  \n",
    "\n",
    "(i) with raw counts (saved to a variable `space_1k`);  \n",
    "(ii) with PPMI (`ppmispace_1k`);  \n",
    "(iii) with reduced dimensions SVD (`svdspace_1k`).  \n",
    "For the latter use `svddim=5`. **[5 marks]**\n",
    "\n",
    "Your task is to replace `...` with function calls. Functions are imported from `dist_erk.py` earlier, and they largely resemble functions shown during the lecture."
   ]
  },
  {
   "cell_type": "code",
   "execution_count": 3,
   "metadata": {},
   "outputs": [
    {
     "name": "stdout",
     "output_type": "stream",
     "text": [
      "reading file wikipedia.txt\n",
      "create count matrices\n",
      "reading file wikipedia.txt\n",
      "ppmi transform\n",
      "svd transform\n",
      "done.\n"
     ]
    }
   ],
   "source": [
    "numdims = 1000\n",
    "svddim = 5\n",
    "\n",
    "# which words to use as targets and context words? >> filter stop words?\n",
    "# we need to count the words and keep only the N most frequent ones >> top_vocab\n",
    "# which function would you use here with which variable? \n",
    "ktw = do_word_count( corpus_dir, numdims)  # Top-1000 word from corpus\n",
    "\n",
    "wi = make_word_index(ktw) # word index dict, where an item = word:idx\n",
    "words_in_order = sorted(wi.keys(), key=lambda w:wi[w]) # [w1,w2...] in the order of wi-idx\n",
    "\n",
    "# create different spaces (the original matrix space, the ppmi space, the svd space)   \n",
    "# which functions with which arguments would you use here?\n",
    "print('create count matrices')\n",
    "space_1k = make_space(corpus_dir, wi, numdims)\n",
    "print('ppmi transform') # *Positive Pointwise Mutual Information (PPMI): ppmi(w1,w2) = max( 0, log( p(w1,w2)/p(w1)*p(2) ) )\n",
    "ppmispace_1k = ppmi_transform(space_1k, wi)\n",
    "print('svd transform')\n",
    "svdspace_1k = svd_transform(ppmispace_1k, numdims, svddim)\n",
    "print('done.')"
   ]
  },
  {
   "cell_type": "code",
   "execution_count": 4,
   "metadata": {},
   "outputs": [
    {
     "name": "stdout",
     "output_type": "stream",
     "text": [
      "house: [-4827.71077501   413.56039891  2667.80891551    64.61482227\n",
      "    18.07211429]\n"
     ]
    }
   ],
   "source": [
    "# now, to test the space, you can print vector representation for some words\n",
    "\n",
    "a_word='house'\n",
    "space_dict = svdspace_1k # space_1k, ppmispace_1k, svdspace_1k\n",
    "print(f'{a_word}:', space_dict[a_word])"
   ]
  },
  {
   "cell_type": "markdown",
   "metadata": {},
   "source": [
    "Oxford Advanced Dictionary has 185,000 words, hence 1,000 words is not representative. We trained a model with 10,000 words, and 50 dimensions on truncated SVD. It took 40 minutes on a laptop. We saved all three matrices [here](https://linux.dobnik.net/cloud/index.php/s/isMBj49jt5renYt?path=%2Fresources%2Fa2-distributional-representations) (pretrained.zip). Download them and unpack them to a `pretrained` folder which should be a subfolder of the folder with this notebook:"
   ]
  },
  {
   "cell_type": "code",
   "execution_count": 5,
   "metadata": {},
   "outputs": [
    {
     "name": "stdout",
     "output_type": "stream",
     "text": [
      "Please wait...\n",
      "Done.\n"
     ]
    }
   ],
   "source": [
    "import numpy as np\n",
    "\n",
    "numdims = 10000\n",
    "svddim = 50\n",
    "\n",
    "print('Please wait...')\n",
    "ktw_10k       = np.load('./pretrained/ktw_wikipediaktw.npy', allow_pickle=True)\n",
    "space_10k     = np.load('./pretrained/raw_wikipediaktw.npy', allow_pickle=True).all()\n",
    "ppmispace_10k = np.load('./pretrained/ppmi_wikipediaktw.npy', allow_pickle=True).all()\n",
    "svdspace_10k  = np.load('./pretrained/svd50_wikipedia10k.npy', allow_pickle=True).all()\n",
    "print('Done.')\n"
   ]
  },
  {
   "cell_type": "code",
   "execution_count": 6,
   "metadata": {},
   "outputs": [
    {
     "name": "stdout",
     "output_type": "stream",
     "text": [
      "house: [2554 3774 3105 ...    0    0    0]\n"
     ]
    }
   ],
   "source": [
    "# testing semantic space\n",
    "print('house:', space_10k['house'])"
   ]
  },
  {
   "cell_type": "markdown",
   "metadata": {},
   "source": [
    "## 3. Testing semantic similarity\n",
    "\n",
    "The file `similarity_judgements.txt` (a copy is included with this notebook) contains 7,576 pairs of words and their lexical and visual similarities (based on the pictures) collected through crowd-sourcing using Mechanical Turk as described in [1]. The score range from 1 (highly dissimilar) to 5 (highly similar). Note: this is a different dataset from the phrase similarity dataset we discussed during the lecture (the one from [2]). For more information, please read the papers.\n",
    "\n",
    "The following code will transform similarity scores into a Python-friendly format:"
   ]
  },
  {
   "cell_type": "code",
   "execution_count": 29,
   "metadata": {},
   "outputs": [
    {
     "name": "stdout",
     "output_type": "stream",
     "text": [
      "number of available words to test: 155\n",
      "number of available word pairs to test: 774\n"
     ]
    }
   ],
   "source": [
    "word_pairs = [] # test suit word pairs\n",
    "semantic_similarity = [] \n",
    "visual_similarity = []\n",
    "test_vocab = set()  # unique words from pairs\n",
    "\n",
    "\n",
    "for index, line in enumerate(open('similarity_judgements.txt')):\n",
    "    data = line.strip().split('\\t')  # format:  w1#w2 \\t SemSim \\t VisSim => ['w1#w2', 'SemSim', 'VisSim']\n",
    "    if index > 0 and len(data) == 3:\n",
    "        w1, w2 = tuple(data[0].split('#'))\n",
    "        # it will check if both words from each pair exist in the word matrix.\n",
    "        if w1 in ktw_10k and w2 in ktw_10k:\n",
    "            word_pairs.append((w1, w2))\n",
    "            test_vocab.update([w1, w2])\n",
    "            semantic_similarity.append(float(data[1]))\n",
    "            visual_similarity.append(float(data[2]))\n",
    "        \n",
    "# testvocab - {words in testvocab but not in ktw} == intersection of testvocab & ktw => words that are both in wordpairs and ktw\n",
    "# print('number of available words to test:', len(test_vocab-(test_vocab-set(ktw)))) \n",
    "print('number of available words to test:', len(test_vocab&set(ktw_10k))) # intersect of testvocab & ktw10k => words both in wordpairs and ktw10k\n",
    "# Pairs where both words are in top-10000-words\n",
    "print('number of available word pairs to test:', len(word_pairs))\n"
   ]
  },
  {
   "cell_type": "code",
   "execution_count": 25,
   "metadata": {},
   "outputs": [
    {
     "data": {
      "text/plain": [
       "[(('stick', 'sword'), 3.4, 2.6),\n",
       " (('cabin', 'cabinet'), 1.75, 2.25),\n",
       " (('chicken', 'sparrow'), 3.0, 4.5),\n",
       " (('bag', 'gate'), 1.0, 1.5),\n",
       " (('bull', 'trumpet'), 1.0, 1.25),\n",
       " (('balloon', 'brick'), 1.0, 1.0),\n",
       " (('helicopter', 'jet'), 2.6, 4.6),\n",
       " (('cape', 'spider'), 1.0, 1.2),\n",
       " (('boots', 'mouse'), 1.0, 1.0),\n",
       " (('kite', 'marble'), 1.0, 1.0)]"
      ]
     },
     "execution_count": 25,
     "metadata": {},
     "output_type": "execute_result"
    }
   ],
   "source": [
    "list(zip(word_pairs, visual_similarity, semantic_similarity))[:10]  # wordpair, human-judged-sem-sim, human-judged-vis-sim "
   ]
  },
  {
   "cell_type": "markdown",
   "metadata": {},
   "source": [
    "Now we are going to test how the cosine similarity between vectors of each of the three spaces (normal space, ppmi, svd) compares with the human similarity judgements for the words in the similarity dataset. Which of the three spaces best approximates human judgements?\n",
    "\n",
    "For comparison of several scores, we can use [Spearman correlation coefficient](https://en.wikipedia.org/wiki/Spearman's_rank_correlation_coefficient) which is implemented in `scipy.stats.spearmanr` [here](https://docs.scipy.org/doc/scipy-0.19.0/reference/generated/scipy.stats.spearmanr.html). The values of the Sperman correlation coefficient range from -1, 0 to 1, where 0 indicates no correlation, 1 perfect correaltion and -1 negative correlation. Hence, the greater the number the better the similarity scores align. The p values tells us if the coefficient is statistically significant. For this to be the case, it must be less than or equal to $< 0.05$.\n",
    "\n",
    "Here is how you can calculate Pearson's correlation coefficient betweeen the scores of visual similarity and semantic similarity of the available words in the test suite:"
   ]
  },
  {
   "cell_type": "code",
   "execution_count": 30,
   "metadata": {},
   "outputs": [
    {
     "name": "stdout",
     "output_type": "stream",
     "text": [
      "Visual Similarity vs. Semantic Similarity:\n",
      "rho     = 0.7122\n",
      "p-value = 0.0000\n"
     ]
    }
   ],
   "source": [
    "from scipy import stats\n",
    "\n",
    "rho, pval = stats.spearmanr(semantic_similarity, visual_similarity) # args = 2 lists of values\n",
    "print(\"\"\"Visual Similarity vs. Semantic Similarity:\n",
    "rho     = {:.4f}\n",
    "p-value = {:.4f}\"\"\".format(rho, pval))\n"
   ]
  },
  {
   "cell_type": "markdown",
   "metadata": {},
   "source": [
    "Let's now calculate the cosine similarity scores of all word pairs in an ordered list using all three matrices. **[6 marks]**"
   ]
  },
  {
   "cell_type": "code",
   "execution_count": 32,
   "metadata": {},
   "outputs": [],
   "source": [
    "raw_similarities  = [cosine(w1,w2, space_10k) for w1, w2 in word_pairs]\n",
    "ppmi_similarities = [cosine(w1,w2, ppmispace_10k) for w1, w2 in word_pairs]\n",
    "svd_similarities  = [cosine(w1,w2, svdspace_10k) for w1, w2 in word_pairs]"
   ]
  },
  {
   "cell_type": "markdown",
   "metadata": {},
   "source": [
    "Now, calculate correlation coefficients between lists of similarity scores and the real semantic similarity scores from the experiment. The scores of what model best correlates them? Is this expected? **[6 marks]**"
   ]
  },
  {
   "cell_type": "code",
   "execution_count": 162,
   "metadata": {},
   "outputs": [
    {
     "name": "stdout",
     "output_type": "stream",
     "text": [
      "raw vs sematic similarities:\n",
      "\n",
      "    rho     = 0.1522\n",
      "    p-value = 0.0000\n",
      "\n",
      "ppmi vs sematic similarities:\n",
      "\n",
      "    rho     = 0.4547\n",
      "    p-value = 0.0000\n",
      "\n",
      "svd vs sematic similarities:\n",
      "\n",
      "    rho     = 0.4232\n",
      "    p-value = 0.0000\n",
      "\n"
     ]
    }
   ],
   "source": [
    "# your code should go here\n",
    "\n",
    "def spearman_compare(sims1, sims2):\n",
    "    rho, pval = stats.spearmanr(sims1, sims2) # args = 2 lists of values\n",
    "    print(\"\"\"\n",
    "    rho     = {:.4f}\n",
    "    p-value = {:.4f}\\n\"\"\".format(rho, pval))\n",
    "\n",
    "for name, sims in {'raw':raw_similarities, 'ppmi':ppmi_similarities, 'svd':svd_similarities}.items():\n",
    "    print(f'{name} vs sematic similarities:')\n",
    "    spearman_compare(semantic_similarity, sims)\n"
   ]
  },
  {
   "cell_type": "markdown",
   "metadata": {},
   "source": [
    "**Your answer should go here:**\n",
    "\n",
    "The vector similarities from PPMI and SVD spaces align much better with the human-judged sematic similarities than those from raw-count space. PPMI vectors similarity also perform slightly better."
   ]
  },
  {
   "cell_type": "markdown",
   "metadata": {},
   "source": [
    "We can also calculate correlation coefficients between lists of cosine similarity scores and the real visual similarity scores from the experiment. Which similarity model best correlates with them? How do the correlation coefficients compare with those from the previous comparison - and can you speculate why do we get such results? **[7 marks]**"
   ]
  },
  {
   "cell_type": "code",
   "execution_count": 164,
   "metadata": {},
   "outputs": [
    {
     "name": "stdout",
     "output_type": "stream",
     "text": [
      "raw vs visual similarities:\n",
      "\n",
      "    rho     = 0.1212\n",
      "    p-value = 0.0007\n",
      "\n",
      "ppmi vs visual similarities:\n",
      "\n",
      "    rho     = 0.3838\n",
      "    p-value = 0.0000\n",
      "\n",
      "svd vs visual similarities:\n",
      "\n",
      "    rho     = 0.3097\n",
      "    p-value = 0.0000\n",
      "\n"
     ]
    }
   ],
   "source": [
    "# Your code should go here...\n",
    "for name, sims in {'raw':raw_similarities, 'ppmi':ppmi_similarities, 'svd':svd_similarities}.items():\n",
    "    print(f'{name} vs visual similarities:')\n",
    "    spearman_compare(visual_similarity, sims)"
   ]
  },
  {
   "cell_type": "markdown",
   "metadata": {},
   "source": [
    "**Your answer should go here:**\n",
    "\n",
    "The approximation of vector similarities vs human-judged visual also shows better results for PPMI and SVD, although lower than when comparing to semantic similarities. the p-value for raw space vs visual similarities is above 0 (but only slightly so negligible). A possible explanation is that the human-judged visial similarities were determined not solely on textual/linguistic contexts, but also within other modal contexts (eg vision), which are not captured by the distributional representation that only considers textual contexts."
   ]
  },
  {
   "cell_type": "markdown",
   "metadata": {},
   "source": [
    "## 4. Operations on similarities"
   ]
  },
  {
   "cell_type": "markdown",
   "metadata": {},
   "source": [
    "We can perform mathematical operations on vectors to derive meaning predictions. For example, we can subtract the normalised vectors for `king` minus `queen` and add the resulting vector to `man` and we hope to get the vector for `woman`. Why? **[3 marks]**"
   ]
  },
  {
   "cell_type": "markdown",
   "metadata": {},
   "source": [
    "**Your answer should go here:**\n",
    "\n",
    "![title](./embeddings.png =250x)\n",
    "Since the vector of each word embeds its semantic meaning in the given context, we assume that the distance and direction between king-queen will be close to that between man-woman in the same vector space. \n",
    "\n",
    "So assuming king -queen ≈ man -woman:\n",
    "\n",
    "=> woman ≈ man -(king -queen) ie, man -manliness\n",
    "\n",
    "=> woman ≈ man + (queen -king), ie, man +womanliness\n",
    "\n"
   ]
  },
  {
   "cell_type": "markdown",
   "metadata": {},
   "source": [
    "Here is some helpful code that allows us to calculate such comparisons."
   ]
  },
  {
   "cell_type": "code",
   "execution_count": 77,
   "metadata": {},
   "outputs": [],
   "source": [
    "from scipy.spatial import distance\n",
    "\n",
    "def normalize(vec):\n",
    "    return vec / veclen(vec)\n",
    "\n",
    "def find_similar_to(vec1, space):\n",
    "    # vector similarity funciton (a,b) => 1-distance(a,b)\n",
    "#     sim_fn = lambda a, b: 1-distance.euclidean(normalize(a), normalize(b))\n",
    "#     sim_fn = lambda a, b: 1-distance.correlation(a, b)\n",
    "    #sim_fn = lambda a, b: 1-distance.cityblock(normalize(a), normalize(b))\n",
    "#     sim_fn = lambda a, b: 1-distance.chebyshev(normalize(a), normalize(b))\n",
    "    #sim_fn = lambda a, b: np.dot(normalize(a), normalize(b))\n",
    "    sim_fn = lambda a, b: 1-distance.cosine(a, b)\n",
    "\n",
    "    sims = [ (word2, sim_fn(vec1, space[word2])) for word2 in space.keys() ] # each tuple = w2, 1-distance(vec1,vec2) \n",
    "\n",
    "    return sorted(sims, key = lambda p:p[1], reverse=True)  # sort by tuple[1] descendingly, ie sort by 1-distance"
   ]
  },
  {
   "cell_type": "markdown",
   "metadata": {},
   "source": [
    "Here is how you apply this code. Comment on the results you get. **[3 marks]**"
   ]
  },
  {
   "cell_type": "code",
   "execution_count": 87,
   "metadata": {},
   "outputs": [
    {
     "name": "stdout",
     "output_type": "stream",
     "text": [
      "raw \n",
      " [('long', 0.936140411029304), ('just', 0.9049060246775732), ('normal', 0.897070493693546), ('child', 0.8968235510083787), ('universal', 0.8954682113733906), ('genius', 0.8941840695017294), ('unit', 0.8939911177435964), ('bird', 0.893943608600412), ('light', 0.8930841816879834), ('radical', 0.8928522776983006)]\n",
      "ppmi \n",
      " [('long', 0.6455903190370874), ('light', 0.5756309144130762), ('short', 0.22665051391680424), ('about', 0.2062232575609404), ('around', 0.20341064658972596), ('than', 0.1997623801104953), ('longer', 0.19775518996857122), ('through', 0.19530678790677225), ('each', 0.19315737065635885), ('a', 0.1897425288444996)]\n",
      "svd \n",
      " [('long', 0.8733111261346901), ('above', 0.8259671977311955), ('around', 0.8030776291120685), ('sun', 0.7692439111243973), ('just', 0.7678481974778111), ('wide', 0.767257431992253), ('each', 0.7665960260861158), ('circle', 0.7647746702909336), ('length', 0.7601066921319761), ('almost', 0.7542351860536628)]\n"
     ]
    }
   ],
   "source": [
    "for name, space in {'raw':space_10k, 'ppmi':ppmispace_10k, 'svd':svdspace_10k}.items():\n",
    "    short = normalize(space['short'])\n",
    "    light = normalize(space['light'])\n",
    "    long = normalize(space['long'])\n",
    "    heavy = normalize(space['heavy'])\n",
    "\n",
    "    sims = find_similar_to(light - (heavy - long), space)[:10]\n",
    "    print(name,'\\n', sims)"
   ]
  },
  {
   "cell_type": "markdown",
   "metadata": {},
   "source": [
    "**Your answer should go here:**\n",
    "Based on the natural language analogy 'light to heavy is short to long',\n",
    "\n",
    "Assuming light -heavy ≈ short -long:\n",
    "\n",
    "=> light -heavy +long ≈ short\n",
    "\n",
    "=> light -(heavy -long) ≈ short\n",
    "\n",
    "We'd expect 'short' to be among the top-1o similar words. The results in the cell above showed 'short' in the top-3 similar words in PPMI space, though the value is much lower than that of 'long' and 'light'."
   ]
  },
  {
   "cell_type": "markdown",
   "metadata": {},
   "source": [
    "Find 5 similar pairs of pairs of words and test them. Hint: Google for `word analogies examples`. You can also construct analogies that are less lexical but more grammatical, e.g. `see, saw, leave, ?` or analogies that are based on world knowledge as in the [Google analogy dataset](http://download.tensorflow.org/data/questions-words.txt) from [3]. Does the resulting vector similarity confirm your expectations? But remember you can only do this if the words are contained in our vector space with 10,000 dimensions. **[10 marks]**"
   ]
  },
  {
   "cell_type": "code",
   "execution_count": 147,
   "metadata": {},
   "outputs": [
    {
     "name": "stdout",
     "output_type": "stream",
     "text": [
      "\n",
      "(vietnamese, swedish <=> (vietnam, ?)\n",
      "raw:  ['iraq', 'kosovo', 'vietnam', 'amsterdam', 'germany', 'london', 'brazil', 'prague', 'paris', 'japan']\n",
      "ppmi:  ['swedish', 'vietnam', 'danish', 'british', 'german', 'finnish', 'french', 'russian', 'dutch', 'norwegian']\n",
      "svd:  ['zealand', 'czech', 'norwegian', 'austrian', 'swiss', 'danish', 'swedish', 'british', 'belgian', 'canada']\n",
      "\n",
      "(go, went <=> (sell, ?)\n",
      "raw:  ['went', 'returned', 'proceeded', 'sell', 'continued', 'decides', 'moved', 'chose', 'sought', 'manages']\n",
      "ppmi:  ['sell', 'went', 'sold', 's', 'selling', 'buy', 'returned', 'began', 'purchase', 'produced']\n",
      "svd:  ['bought', 'purchased', 'sold', 'acquired', 'announced', 'owned', 'donated', 'selling', 'shipped', 'traded']\n",
      "\n",
      "(athens, tokyo <=> (greece, ?)\n",
      "raw:  ['tokyo', 'italy', 'greece', 'germany', 'london', 'scandinavia', 'switzerland', 'india', 'singapore', 'argentina']\n",
      "ppmi:  ['tokyo', 'greece', 'italy', 'turkey', 'bulgaria', 'hungary', 'croatia', 'germany', 'mexico', 'romania']\n",
      "svd:  ['malaysia', 'philippines', 'singapore', 'iceland', 'switzerland', 'argentina', 'kenya', 'australia', 'malta', 'indonesia']\n",
      "\n",
      "(apple, fruit <=> (rice, ?)\n",
      "raw:  ['wheat', 'calcium', 'rice', 'furniture', 'livestock', 'butter', 'zinc', 'agriculture', 'tobacco', 'insects']\n",
      "ppmi:  ['rice', 'fruit', 'vegetables', 'fruits', 'cotton', 'wheat', 'meat', 'grain', 'crops', 'beans']\n",
      "svd:  ['vegetables', 'rice', 'fruit', 'fruits', 'beans', 'wheat', 'beef', 'meat', 'bread', 'vegetable']\n",
      "\n",
      "(easter, spring <=> (christmas, ?)\n",
      "raw:  ['spring', 'neighborhood', 'cave', 'field', 'sport', 'mood', 'practice', 'mind', 'membership', 'hospital']\n",
      "ppmi:  ['spring', 'christmas', 'summer', 'in', 'rrb', 'september', 'june', 'until', 'births', 'april']\n",
      "svd:  ['spring', '1984', 'summer', '1988', '1976', '1985', '1983', '1989', '1978', '1987']\n",
      "\n",
      "(december, winter <=> (july, ?)\n",
      "raw:  ['winter', 'summer', 'wilderness', 'spring', 'waters', 'past', 'netherlands', 'woods', 'desert', 'stomach']\n",
      "ppmi:  ['winter', 'july', 'summer', 'in', 'olympics', 'during', 'spring', 'autumn', 'olympic', 'weather']\n",
      "svd:  ['winter', 'summer', 'spring', 'autumn', 'fall', 'cold', 'night', 'hurricane', 'snow', 'ice']\n"
     ]
    }
   ],
   "source": [
    "# Your code should go here...\n",
    "def analogize(pairA1, pairA2, pairB1 ):\n",
    "    '''Given pairA and anologous pairB (w1, w2=?), return the most similar words to w2'''\n",
    "    print(f'\\n({pairA1}, {pairA2} <=> ({pairB1}, ?)')\n",
    "    for name, space in {'raw':space_10k, 'ppmi':ppmispace_10k, 'svd':svdspace_10k}.items():\n",
    "        a1 = normalize(space[pairA1])\n",
    "        a2 = normalize(space[pairA2])\n",
    "        b1 = normalize(space[pairB1])\n",
    "#         b2 = normalize(space[pairB2])\n",
    "\n",
    "        b2_sims = find_similar_to(b1-a1+a2, space)[:10]  # a1-a2=b1-b2  b2=b1-a1+a2\n",
    "        print(name+': ', [duo[0] for duo in b2_sims])\n",
    "\n",
    "        \n",
    "# Semantic analogy: Vietnamese, Vietnam <=> Swedish, Sweden\n",
    "analogize('vietnamese','swedish','vietnam')\n",
    "\n",
    "# Syntactic analogy: go, went <=> sell, sold\n",
    "analogize('go','went','sell')\n",
    "\n",
    "# Knowledge analogy: Tokyo, Japan <=> Athens, Greece\n",
    "analogize('athens','tokyo','greece')\n",
    "\n",
    "# Hyponymy/hypernymy\n",
    "analogize('apple','fruit','rice')\n",
    "\n",
    "# Time: \n",
    "# Easter, spring <=> Christmas, winter\n",
    "analogize('easter','spring','christmas')\n",
    "# December, winter <=> July, summer\n",
    "analogize('december','winter','july')"
   ]
  },
  {
   "cell_type": "markdown",
   "metadata": {},
   "source": [
    "Not every expected word appears in the top-10 similar words list. However, at least the list of words are in the same category as the expected word.\n",
    "\n",
    "For example, despite 'Japan' not being among the similar words as expected for (athens, tokyo <=> (greece, ?), the words are all country names, which shows that at least the vectors aren't far away from the expected one."
   ]
  },
  {
   "cell_type": "code",
   "execution_count": 150,
   "metadata": {},
   "outputs": [
    {
     "data": {
      "text/plain": [
       "False"
      ]
     },
     "execution_count": 150,
     "metadata": {},
     "output_type": "execute_result"
    }
   ],
   "source": [
    "'rat' in ktw_10k.tolist()"
   ]
  },
  {
   "cell_type": "markdown",
   "metadata": {},
   "source": [
    "## 5. Semantic composition and phrase similarity **[20 marks]**\n",
    "\n",
    "In this task, we are going to look at how different semantic composition models, introduced in [2] correlate with human judgements. The file with the dataset is `mitchell_lapata_acl08.txt` included with this notebook. Your task is to do the following:  \n",
    "\n",
    "(i) process the dataset, extract pairs of `reference - landmark high` and `reference - landmark low`; you can use the code from the lecture as something to start with. Note that there are 2 landmarks for each reference: one landmark exhibits high similarity with the reference, while another one has low similarity with the reference. A single human participant could have evaluated both of these pairs. For more details, we refer you to the paper.  \n",
    "\n",
    "(ii) build models of semantic phrase composition: in the lecture we introduced simple additive, simple multiplicative and combined models (details are in [2]). Your task is to take a single pair (a reference or a high similarity landmark or a low similarity landmark) and compute the composition of its vectors using each of these functions. Thus, you will have three compositional models that take a `noun - verb` pair and output a single vector, representing the meaning of this pair. As your semantic space, you can use pretrained spaces (standard space, ppmi or svd) introduced above. It is up to you which space you use, but for someone who runs your code, it should be pretty straightforward to switch between them.\n",
    "\n",
    "(iii) calculate Spearman correlation between each model's predictions and human judgements; you should have something similar to the scores that are shown in the paper [2]:  "
   ]
  },
  {
   "cell_type": "markdown",
   "metadata": {},
   "source": [
    "![title](./res.png)"
   ]
  },
  {
   "cell_type": "markdown",
   "metadata": {},
   "source": [
    "The paper states that they calculated correlations between each individual participant's judgeements and each model's predictions.  \n",
    "\n",
    "Let's say we have 3 models: simple additive (A), simple multiplicative (M), combined (C).  \n",
    "From our task dataset, we also know that we have 20 participants.  \n",
    "Now, for each participant in 20 participants we get all `verb - noun` pairs that these participated evaluated.  \n",
    "For example:"
   ]
  },
  {
   "cell_type": "code",
   "execution_count": 151,
   "metadata": {},
   "outputs": [],
   "source": [
    "participant_judgemenets_example = [\n",
    " 'participant50 chatter child gabble 6 high',\n",
    " 'participant50 chatter tooth click 2 high',\n",
    " 'participant50 reel head whirl 5 high',\n",
    " 'participant50 reel mind stagger 4 low',\n",
    " 'participant50 reel industry stagger 5 high',\n",
    " 'participant50 reel man whirl 3 low',\n",
    " 'participant50 glow fire beam 7 low',\n",
    " 'participant50 glow face burn 3 low',\n",
    " 'participant50 glow cigar burn 5 high',\n",
    " 'participant50 glow skin beam 7 high'\n",
    "    \n",
    "]"
   ]
  },
  {
   "cell_type": "code",
   "execution_count": 152,
   "metadata": {},
   "outputs": [
    {
     "data": {
      "text/plain": [
       "['participant50 chatter child gabble 6 high',\n",
       " 'participant50 chatter tooth click 2 high',\n",
       " 'participant50 reel head whirl 5 high',\n",
       " 'participant50 reel mind stagger 4 low',\n",
       " 'participant50 reel industry stagger 5 high',\n",
       " 'participant50 reel man whirl 3 low',\n",
       " 'participant50 glow fire beam 7 low',\n",
       " 'participant50 glow face burn 3 low',\n",
       " 'participant50 glow cigar burn 5 high',\n",
       " 'participant50 glow skin beam 7 high']"
      ]
     },
     "execution_count": 152,
     "metadata": {},
     "output_type": "execute_result"
    }
   ],
   "source": [
    "participant_judgemenets_example"
   ]
  },
  {
   "cell_type": "markdown",
   "metadata": {},
   "source": [
    "Let's look at the first pair that participant50 evaluated: reference `child chatter` and high-level similarity landmark (as the last word in the row indicates) `child gabble`. The human gave the similarity score of 6 (very similar). Thus, human similarity judgment = [6].  \n",
    "\n",
    "Our A model's output:  \n",
    "cosine(p1, p2) = 0.88, where p1 is the result of addition of word vectors in the reference phrase `child gabble`, and p2 is the result of addition of word vectors in the high-level similarity phrase `child chatter`.  \n",
    "\n",
    "Therefore, we have human rating vector [6] and model A output [0.88]. Next is to compute correlation between these two vectors.\n",
    "\n",
    "To get an overall score, simply average your correlation scores over all participants, since you are calculating correlation scores per participant.\n",
    "\n",
    "Of course, your human rating vectors will be longer (e.g., [6, 7, 3, 4, 5]) where each element is a participant's judgement of a specific pair. Each of your models (A, B, C) will produce a single vector of cosine similarity between these same pairs (e.g., [0.89, 0.98, 0.23, 0.65, 0.55]). The goal is to compare each model's cosine similarity vectors with human rating vectors and identify the model which outputs the best result in terms of being the closest to the way human rate similarity between the phrases.\n",
    "\n",
    "The minimum to do in this task: compute correlations for 3 models mentioned above and human rating for AT LEAST one participant. Elaborate on how different the resulting correlation scores are depending on the model's composition function (additive, multiplicative, combined). For examples on how to interpret the results, look at Section 5 Results of the original paper."
   ]
  },
  {
   "cell_type": "code",
   "execution_count": 156,
   "metadata": {},
   "outputs": [
    {
     "data": {
      "text/html": [
       "<div>\n",
       "<style scoped>\n",
       "    .dataframe tbody tr th:only-of-type {\n",
       "        vertical-align: middle;\n",
       "    }\n",
       "\n",
       "    .dataframe tbody tr th {\n",
       "        vertical-align: top;\n",
       "    }\n",
       "\n",
       "    .dataframe thead th {\n",
       "        text-align: right;\n",
       "    }\n",
       "</style>\n",
       "<table border=\"1\" class=\"dataframe\">\n",
       "  <thead>\n",
       "    <tr style=\"text-align: right;\">\n",
       "      <th></th>\n",
       "      <th>participant</th>\n",
       "      <th>verb</th>\n",
       "      <th>noun</th>\n",
       "      <th>landmark</th>\n",
       "      <th>input</th>\n",
       "      <th>hilo</th>\n",
       "    </tr>\n",
       "  </thead>\n",
       "  <tbody>\n",
       "    <tr>\n",
       "      <th>0</th>\n",
       "      <td>participant20</td>\n",
       "      <td>stray</td>\n",
       "      <td>thought</td>\n",
       "      <td>roam</td>\n",
       "      <td>7</td>\n",
       "      <td>low</td>\n",
       "    </tr>\n",
       "    <tr>\n",
       "      <th>1</th>\n",
       "      <td>participant20</td>\n",
       "      <td>stray</td>\n",
       "      <td>discussion</td>\n",
       "      <td>digress</td>\n",
       "      <td>6</td>\n",
       "      <td>high</td>\n",
       "    </tr>\n",
       "    <tr>\n",
       "      <th>2</th>\n",
       "      <td>participant20</td>\n",
       "      <td>stray</td>\n",
       "      <td>eye</td>\n",
       "      <td>roam</td>\n",
       "      <td>7</td>\n",
       "      <td>high</td>\n",
       "    </tr>\n",
       "    <tr>\n",
       "      <th>3</th>\n",
       "      <td>participant20</td>\n",
       "      <td>stray</td>\n",
       "      <td>child</td>\n",
       "      <td>digress</td>\n",
       "      <td>1</td>\n",
       "      <td>low</td>\n",
       "    </tr>\n",
       "    <tr>\n",
       "      <th>4</th>\n",
       "      <td>participant20</td>\n",
       "      <td>throb</td>\n",
       "      <td>body</td>\n",
       "      <td>pulse</td>\n",
       "      <td>5</td>\n",
       "      <td>high</td>\n",
       "    </tr>\n",
       "    <tr>\n",
       "      <th>...</th>\n",
       "      <td>...</td>\n",
       "      <td>...</td>\n",
       "      <td>...</td>\n",
       "      <td>...</td>\n",
       "      <td>...</td>\n",
       "      <td>...</td>\n",
       "    </tr>\n",
       "    <tr>\n",
       "      <th>3595</th>\n",
       "      <td>participant50</td>\n",
       "      <td>reel</td>\n",
       "      <td>man</td>\n",
       "      <td>whirl</td>\n",
       "      <td>3</td>\n",
       "      <td>low</td>\n",
       "    </tr>\n",
       "    <tr>\n",
       "      <th>3596</th>\n",
       "      <td>participant50</td>\n",
       "      <td>glow</td>\n",
       "      <td>fire</td>\n",
       "      <td>beam</td>\n",
       "      <td>7</td>\n",
       "      <td>low</td>\n",
       "    </tr>\n",
       "    <tr>\n",
       "      <th>3597</th>\n",
       "      <td>participant50</td>\n",
       "      <td>glow</td>\n",
       "      <td>face</td>\n",
       "      <td>burn</td>\n",
       "      <td>3</td>\n",
       "      <td>low</td>\n",
       "    </tr>\n",
       "    <tr>\n",
       "      <th>3598</th>\n",
       "      <td>participant50</td>\n",
       "      <td>glow</td>\n",
       "      <td>cigar</td>\n",
       "      <td>burn</td>\n",
       "      <td>5</td>\n",
       "      <td>high</td>\n",
       "    </tr>\n",
       "    <tr>\n",
       "      <th>3599</th>\n",
       "      <td>participant50</td>\n",
       "      <td>glow</td>\n",
       "      <td>skin</td>\n",
       "      <td>beam</td>\n",
       "      <td>7</td>\n",
       "      <td>high</td>\n",
       "    </tr>\n",
       "  </tbody>\n",
       "</table>\n",
       "<p>3600 rows × 6 columns</p>\n",
       "</div>"
      ],
      "text/plain": [
       "        participant   verb        noun landmark input  hilo\n",
       "0     participant20  stray     thought     roam     7   low\n",
       "1     participant20  stray  discussion  digress     6  high\n",
       "2     participant20  stray         eye     roam     7  high\n",
       "3     participant20  stray       child  digress     1   low\n",
       "4     participant20  throb        body    pulse     5  high\n",
       "...             ...    ...         ...      ...   ...   ...\n",
       "3595  participant50   reel         man    whirl     3   low\n",
       "3596  participant50   glow        fire     beam     7   low\n",
       "3597  participant50   glow        face     burn     3   low\n",
       "3598  participant50   glow       cigar     burn     5  high\n",
       "3599  participant50   glow        skin     beam     7  high\n",
       "\n",
       "[3600 rows x 6 columns]"
      ]
     },
     "execution_count": 156,
     "metadata": {},
     "output_type": "execute_result"
    }
   ],
   "source": [
    "#your code should go here\n",
    "import pandas as pd\n",
    "with open('mitchell_lapata_acl08.txt') as f:\n",
    "    lines = [l.rstrip('\\n').split() for l in f]\n",
    "    columms = lines[0]\n",
    "    rows = lines[1:]\n",
    "pd.DataFrame(rows, columns=columms)"
   ]
  },
  {
   "cell_type": "markdown",
   "metadata": {},
   "source": [
    "**Any comments/thoughts should go here:**"
   ]
  },
  {
   "cell_type": "markdown",
   "metadata": {},
   "source": [
    "# Literature\n",
    "\n",
    "  - [1] C. Silberer and M. Lapata. Learning grounded meaning representations with autoencoders. In Proceedings of the 52nd Annual Meeting of the Association for Computational Linguistics, pages 721–732, Baltimore, Maryland, USA, June 23–25 2014 2014. Association for Computational Linguistics.  \n",
    "\n",
    "  - [2] Mitchell, J., & Lapata, M. (2008). Vector-based Models of Semantic Composition. In Proceedings of ACL-08: HLT (pp. 236–244). Association for Computational Linguistics.\n",
    "  \n",
    "  - [3] T. Mikolov, I. Sutskever, K. Chen, G. S. Corrado, and J. Dean. Distributed representations of words and phrases and their compositionality. In Advances in neural information processing systems, pages 3111–3119, 2013."
   ]
  },
  {
   "cell_type": "markdown",
   "metadata": {},
   "source": [
    "## Marks\n",
    "\n",
    "This assignment has a total of 60 marks."
   ]
  }
 ],
 "metadata": {
  "kernelspec": {
   "display_name": "Python 3",
   "language": "python",
   "name": "python3"
  },
  "language_info": {
   "codemirror_mode": {
    "name": "ipython",
    "version": 3
   },
   "file_extension": ".py",
   "mimetype": "text/x-python",
   "name": "python",
   "nbconvert_exporter": "python",
   "pygments_lexer": "ipython3",
   "version": "3.8.5"
  }
 },
 "nbformat": 4,
 "nbformat_minor": 4
}
