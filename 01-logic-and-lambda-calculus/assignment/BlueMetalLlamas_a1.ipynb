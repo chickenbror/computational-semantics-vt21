{
 "cells": [
  {
   "cell_type": "markdown",
   "metadata": {
    "id": "LvRXy5VbVNm1"
   },
   "source": [
    "# A1: Logic and lambda calculus"
   ]
  },
  {
   "cell_type": "markdown",
   "metadata": {
    "id": "ORRIW9hXVNnB"
   },
   "source": [
    "The lab is an exploration and learning exercise to be done in a group and also in discussion with the teachers and other students.\n",
    "\n",
    "Before starting, please read the following instructions on [how to work on group assignments](https://github.com/sdobnik/computational-semantics/blob/master/README.md).\n",
    "\n",
    "Write all your answers and the code in the appropriate boxes below."
   ]
  },
  {
   "cell_type": "markdown",
   "metadata": {
    "id": "mXDUPmwQVNnD"
   },
   "source": [
    "## Translating English to logic and evaluating logic in a model"
   ]
  },
  {
   "cell_type": "code",
   "execution_count": 26,
   "metadata": {
    "colab": {
     "base_uri": "https://localhost:8080/",
     "height": 358
    },
    "id": "1andJ01AVNnF",
    "outputId": "c529dc73-97b9-4ca9-8a23-2819091ce9f7"
   },
   "outputs": [],
   "source": [
    "# This task needs NLTK and Jupyter Notebook (IPython package).\n",
    "import nltk\n",
    "from utils import display_latex, display_translation, display_tree, display, Markdown\n",
    "read_expr = nltk.sem.Expression.fromstring"
   ]
  },
  {
   "cell_type": "markdown",
   "metadata": {
    "id": "k3hkugWaVNnF"
   },
   "source": [
    "### 1. Propositional logic\n",
    "Translate the following sentences into **propositional logic** and verify that they parse with Expression.fromstring(). Provide a key which shows how the propositional variables in your translation correspond to expressions of English. Briefly discuss any difficulties you encounter. (By difficulties we mean cases where the semantics of English expressions cannot be expressed to the same degree by the semantics of your logic representations, i.e. they do not mean the same). **[5 + 1 marks]**"
   ]
  },
  {
   "cell_type": "code",
   "execution_count": 27,
   "metadata": {
    "id": "8BQ3Q6q6VNnH"
   },
   "outputs": [
    {
     "output_type": "display_data",
     "data": {
      "text/plain": "<IPython.core.display.Markdown object>",
      "text/markdown": "\"If Alex plays the piano, she is smart.\": $(Ap\\ \\rightarrow\\ As)$"
     },
     "metadata": {}
    },
    {
     "output_type": "display_data",
     "data": {
      "text/plain": "<IPython.core.display.Markdown object>",
      "text/markdown": "\"Alex is both smart and musical.\": $(As\\ \\land\\ Am)$"
     },
     "metadata": {}
    },
    {
     "output_type": "display_data",
     "data": {
      "text/plain": "<IPython.core.display.Markdown object>",
      "text/markdown": "\"If Alex is not smart, Lydia is not happy.\": $(-As\\ \\rightarrow\\ -Lh)$"
     },
     "metadata": {}
    },
    {
     "output_type": "display_data",
     "data": {
      "text/plain": "<IPython.core.display.Markdown object>",
      "text/markdown": "\"If Alex or George plays the piano, they are musical.\": $((Ap\\ \\lor\\ Gp)\\ \\rightarrow\\ (Am\\ \\land\\ Gm))$"
     },
     "metadata": {}
    },
    {
     "output_type": "display_data",
     "data": {
      "text/plain": "<IPython.core.display.Markdown object>",
      "text/markdown": "\"George plays the piano.\": $Gp$"
     },
     "metadata": {}
    }
   ],
   "source": [
    "'''\n",
    "  Key:\n",
    "    Ap = Alex plays the piano\n",
    "    As = Alex is smart\n",
    "    Am = Alex is musical\n",
    "    Lh = Lydia is happy\n",
    "    Gp = George plays the piano\n",
    "    Gm = Georg is musical\n",
    "'''\n",
    "\n",
    "propositions = {\n",
    "    \"If Alex plays the piano, she is smart.\": # P->Q\n",
    "    read_expr('Ap -> As'),\n",
    "    \n",
    "    \"Alex is both smart and musical.\": # P&&Q\n",
    "    read_expr('As & Am'),\n",
    "    \n",
    "    \"If Alex is not smart, Lydia is not happy.\": # !P->!Q\n",
    "    read_expr('-As -> -Lh'),\n",
    "    \n",
    "    \"If Alex or George plays the piano, they are musical.\": # (P||Q)->R\n",
    "    read_expr('(Ap | Gp) -> (Am & Gm)'),\n",
    "    \n",
    "    \"George plays the piano.\": # P\n",
    "    read_expr('Gp'),\n",
    "}\n",
    "\n",
    "for text, semrep in propositions.items():\n",
    "    display_translation(text, semrep)"
   ]
  },
  {
   "cell_type": "markdown",
   "metadata": {
    "id": "l-tHE7NrVNnI"
   },
   "source": [
    "*Difficulties encountered:*\n",
    "\n",
    "`Answers here`\n",
    "\n",
    "Each variable stands on its own and cannot accept or alter properties.\n",
    "Therefor we need to have separate variables for 'someone has ... property'. I,e., 'George is musical' and 'Alex is musical' are independent variables. Also for statement 1, we need to have 'Alex plays piano' and 'Alex is smart' even if they may not relate to each other.\n",
    "\n",
    "In propositional logic, implicature in statement, conjoining statements, disjunction, negation, and statement equivalence are the only possibilities.\n",
    "However, the above sentences cover a broader range of language and activities. Taking a sentence \"If Alex plays the piano, he is smart\" has many features that are hard to present with propositional logic if not possible at all; for example:\n",
    "\n",
    "- \"If\" is a language element for implicature, which is subjective based on who is saying it and how authoritative the reasoning is.\n",
    "- \"Alex\" is a person, which should have a way to be distinguished from another thing such as a computer. The logic to present a person (who may be able to sing, write, discuss, and run) is not the same as the logic for a computer. If dealt with in a non propositional logic way, then the logic can lead to clearer answers for the situation being explained than large building blocks \"Alex plays the piano\" then \"Alex is smart.\"\n",
    "\n",
    "On another note the fourth sentence is worded a bit strange. Does it mean that Alex and George are musical even if only one of them plays the piano? Or does it mean that if Alex plays the piano, she is musical, and/or if George plays the piano, he is musical? The last sentence is an example where propositional logic doesn't really contribute that much, since the whole statement \"George plays the piano\" becomes a proposition.\n",
    "\n"
   ]
  },
  {
   "cell_type": "markdown",
   "metadata": {
    "id": "AjNWnRkFVNnI"
   },
   "source": [
    "### 2. Valuation of Propositional logic\n",
    "\n",
    "Imagine that we observe a world where \n",
    "- (i) Alex does not play the piano,\n",
    "- (ii) Alex and Lydia are smart and musical,\n",
    "- (iii) George is not musical,\n",
    "- (iv) Lydia is happy,\n",
    "- (v) George plays the piano. \n",
    "\n",
    "Translate this informal description of the world into a model by appropriately defining an evaluation function and evaluate the formulae from Question 1 in this model. Briefly comment the answers you get. **[5 + 1 marks]**."
   ]
  },
  {
   "cell_type": "code",
   "execution_count": 28,
   "metadata": {
    "id": "_0hpda01VNnJ"
   },
   "outputs": [
    {
     "output_type": "stream",
     "name": "stdout",
     "text": [
      "If Alex plays the piano, she is smart. (Ap -> As)\nTrue \n\nAlex is both smart and musical. (As & Am)\nTrue \n\nIf Alex is not smart, Lydia is not happy. (-As -> -Lh)\nTrue \n\nIf Alex or George plays the piano, they are musical. ((Ap | Gp) -> (Am & Gm))\nFalse \n\nGeorge plays the piano. Gp\nTrue \n\n"
     ]
    }
   ],
   "source": [
    "# Set vars according to statements\n",
    "val = nltk.Valuation([\n",
    "    ('Ap', False), \n",
    "    ('As', True),('Am', True),('Ls', True), ('Lm', True),\n",
    "    ('Gm', False),\n",
    "    ('Lh', True),\n",
    "    ('Gp', True),\n",
    "    ])\n",
    "\n",
    "# Init the model\n",
    "dom = set()\n",
    "g = nltk.Assignment(dom)\n",
    "model_Q2 = nltk.Model(dom, val)\n",
    "\n",
    "# Evaluate Q1 formulas\n",
    "def eval_formula(expr, model, goal):\n",
    "    return model.evaluate( expr, goal)\n",
    "\n",
    "\n",
    "for text, semrep in propositions.items():\n",
    "    print(text , semrep)\n",
    "    print( eval_formula(expr=str(semrep), model=model_Q2, goal=g), '\\n' )"
   ]
  },
  {
   "cell_type": "markdown",
   "metadata": {
    "id": "BV09LU6TVNnK"
   },
   "source": [
    "*Comments:* \n",
    "\n",
    "The translated variables form the world/model where each variable is either T/F.\n",
    "The eval_formula() function then evaluates the formulas (which are also translated from the statements) to T/F \n",
    "according to logic rules.\n",
    "\n",
    "The first sentence becomes true since Alex doesn't play the piano. Since Alex is smart, the third sentence also becomes true. Since George plays the piano but isn't musical, the third fourth sentence becomes false."
   ]
  },
  {
   "cell_type": "markdown",
   "metadata": {
    "id": "vqkvzxydVNnL"
   },
   "source": [
    "### 3. Predicate logic *without quantifiers*\n",
    "\n",
    "Translate the following sentences into predicate-argument formulae of First Order Logic and verify that they parse with `Expression.fromstring()`. Briefly discuss any difficulties you encounter. **[4 + 1 marks]**"
   ]
  },
  {
   "cell_type": "code",
   "execution_count": 29,
   "metadata": {
    "id": "0tzYmKQBVNnP"
   },
   "outputs": [
    {
     "output_type": "display_data",
     "data": {
      "text/plain": "<IPython.core.display.Markdown object>",
      "text/markdown": "\"Lydia likes George but Lydia doesn't like Alex\": $(like(george,lydia)\\ \\land\\ -like(lydia,alex))$"
     },
     "metadata": {}
    },
    {
     "output_type": "display_data",
     "data": {
      "text/plain": "<IPython.core.display.Markdown object>",
      "text/markdown": "\"Lydia likes herself and so does George\": $(like(lydia,lydia)\\ \\land\\ like(george,george))$"
     },
     "metadata": {}
    },
    {
     "output_type": "display_data",
     "data": {
      "text/plain": "<IPython.core.display.Markdown object>",
      "text/markdown": "\"Charlie is an English pianist who plays a sonata\": $(english(charlie)\\ \\land\\ pianist(charlie)\\ \\land\\ play(charlie,sonata))$"
     },
     "metadata": {}
    },
    {
     "output_type": "display_data",
     "data": {
      "text/plain": "<IPython.core.display.Markdown object>",
      "text/markdown": "\"Lydia and George admire each other\": $(admire(lydia,george)\\ \\land\\ admire(george,lydia))$"
     },
     "metadata": {}
    }
   ],
   "source": [
    "sentences1 = {\n",
    "    \"Lydia likes George but Lydia doesn't like Alex\": # P&&!Q\n",
    "    read_expr(r' like(george, lydia) & -like(lydia, alex) '),\n",
    "    \n",
    "    \"Lydia likes herself and so does George\": # P&&Q  (george likes lydia or himself??)\n",
    "    read_expr(r' like(lydia,lydia) & like(george,george)'),\n",
    "    \n",
    "    \"Charlie is an English pianist who plays a sonata\": #\n",
    "    read_expr(r'english(charlie) & pianist(charlie) & play(charlie, sonata)'),\n",
    "    \n",
    "    \"Lydia and George admire each other\": #\n",
    "    read_expr(r' admire(lydia, george) & admire(george, lydia) '),\n",
    "}\n",
    "\n",
    "for text, semrep in sentences1.items():\n",
    "    display_translation(text, semrep)\n"
   ]
  },
  {
   "cell_type": "markdown",
   "metadata": {
    "id": "ZDyXUD4HVNnQ"
   },
   "source": [
    "*Difficulties encountered:*\n",
    "\n",
    "We were confused by statement 2 ---does George like himself too or does George like Lydia too? (Some of us chose the former, and some the latter)\n",
    "When translating this to logic though, it has to be explicit and unambiguous."
   ]
  },
  {
   "cell_type": "markdown",
   "metadata": {
    "id": "q-7bqhpTVNnQ"
   },
   "source": [
    "### 4. First order logic with quantifiers\n",
    "\n",
    "Translate the following sentences into quantified formulas of First Order Logic and verify that they parse with `Expression.fromstring()`. Briefly discuss any difficulties you encounter. **[4 + 1 marks]**"
   ]
  },
  {
   "cell_type": "code",
   "execution_count": 30,
   "metadata": {
    "id": "Z3nLYEY6VNnR"
   },
   "outputs": [
    {
     "output_type": "display_data",
     "data": {
      "text/plain": "<IPython.core.display.Markdown object>",
      "text/markdown": "\"Charlie knows a woman who likes George\": $\\exists\\ x.(know(charlie,x)\\ \\land\\ woman(x)\\ \\land\\ like(x,george))$"
     },
     "metadata": {}
    },
    {
     "output_type": "display_data",
     "data": {
      "text/plain": "<IPython.core.display.Markdown object>",
      "text/markdown": "\"George admires everybody and Lydia admires nobody\": $\\forall\\ x.((woman(x)\\ \\lor\\ man(x))\\ \\rightarrow\\ (admire(george,x)\\ \\land\\ -admire(lydia,x)))$"
     },
     "metadata": {}
    },
    {
     "output_type": "display_data",
     "data": {
      "text/plain": "<IPython.core.display.Markdown object>",
      "text/markdown": "\"Nobody admires everybody\": $-\\exists\\ x.\\forall\\ y.admire(x,y)$"
     },
     "metadata": {}
    },
    {
     "output_type": "display_data",
     "data": {
      "text/plain": "<IPython.core.display.Markdown object>",
      "text/markdown": "\"There exists person that admires nobody\": $\\exists\\ x.\\forall\\ y.-admire(x,y)$"
     },
     "metadata": {}
    },
    {
     "output_type": "display_data",
     "data": {
      "text/plain": "<IPython.core.display.Markdown object>",
      "text/markdown": "\"Nobody admires everybody 2\": $\\forall\\ x.\\exists\\ y.-admire(x,y)$"
     },
     "metadata": {}
    },
    {
     "output_type": "display_data",
     "data": {
      "text/plain": "<IPython.core.display.Markdown object>",
      "text/markdown": "\"Exactly one musician plays everything Alex wrote\": $\\exists\\ z.\\forall\\ y.((musician(y)\\ \\land\\ \\forall\\ x.(wrote(alex,x)\\ \\rightarrow\\ play(y,x)))\\ \\leftrightarrow\\ (y\\ =\\ z))$"
     },
     "metadata": {}
    }
   ],
   "source": [
    "sentences2 = {\n",
    "    \"Charlie knows a woman who likes George\":\n",
    "    read_expr('exists x.(know(charlie, x) & woman(x) & like(x, george))'),\n",
    "    \n",
    "    \"George admires everybody and Lydia admires nobody\":\n",
    "    # for all x that is human: george admire them, and lydia doesn't\n",
    "    read_expr('all x.(woman(x)|man(x) -> admire(george,x) & -admire(lydia,x) )'),\n",
    "    \n",
    "    # We found a few different ways to express \"Nobody admires everybody\"\n",
    "    \"Nobody admires everybody\":\n",
    "    # There is no person that admires everyone\n",
    "    read_expr('-exists x. all y. admire(x, y)'),\n",
    "    \n",
    "    \"There exists person that admires nobody\":\n",
    "    read_expr('exists x. all y. - admire(x, y)'),\n",
    "    \n",
    "    \"Nobody admires everybody 2\":  # ∀x∃y¬ admire(x,y)\n",
    "    # Everyone has one person they don't admire\n",
    "    read_expr('all x. (exists y. (-admire(x,y)))'),\n",
    "       \n",
    "    \"Exactly one musician plays everything Alex wrote\":\n",
    "    read_expr(' exists z all y(( musician(y) & all x(wrote(alex,x)->play(y,x))) <-> y=z )'), \n",
    "            # 1) Some musicians y plays all x written by Alex                        \n",
    "            # 2) Such musican y is unique => so all such y must be z ; using uniqueness expr: ∃a∀b(P(a)<->b=a) \n",
    "                                     \n",
    "}\n",
    "\n",
    "for text, semrep in sentences2.items():\n",
    "    display_translation(text, semrep)"
   ]
  },
  {
   "cell_type": "markdown",
   "metadata": {
    "id": "u-iz7MdXVNnR"
   },
   "source": []
  },
  {
   "cell_type": "markdown",
   "metadata": {
    "id": "bY-1b2-ZVNnS"
   },
   "source": [
    "### 5. Valuation of first order logic\n",
    "\n",
    "We observe a world with entities Lydia, George, Alex, Charlie and Bertie, sonata, etude, prelude, waltz, scherzo.\n",
    "\n",
    "1. Lydia likes Lydia, George, Alex and Charlie. George likes Lydia, Bertie and George. Alex likes Alex. Charlie likes Lydia, George, Alex, Charlie and Bertie. Bertie likes Alex.\n",
    "2. Lydia, George, Alex, Charlie and Bertie are English.\n",
    "3. Charlie and Bertie are pianists.\n",
    "4. Charlie plays a sonata, an etude and a waltz. Bertie plays a waltz and a scherzo. Lydia plays an etude, a prelude and a waltz.\n",
    "5. Lydia admires Lydia, Charlie and Bertie. George admires Lydia, George, Alex, Charlie and Bertie. Alex admires Lydia, Alex and Bertie. Charlie admires George and Bertie. Bertie admires Lydia, George, Alex, Charlie and Bertie.\n",
    "6. Lydia knows Lydia, George, Alex, Charlie and Bertie. George knows Lydia, George and Bertie. Alex knows Lydia, Alex and Bertie. Charlie knows George, Charlie and Bertie. Bertie knows Lydia, George, Alex, Charlie and Bertie.\n",
    "7. Lydia, Alex and Charlie are women.\n",
    "8. George and Bertie are men.\n",
    "9. Alex wrote a sonata, an etude an a waltz.\n",
    "10. Lydia, Alex, Charlie and Bertie are musicians.\n",
    "\n",
    "Translate this informal description of the world into a model and evaluate the formulae from Questions 3 and 4 in this model. Briefly comment on the answers you get **[3 + 2 marks]**."
   ]
  },
  {
   "cell_type": "code",
   "execution_count": 31,
   "metadata": {
    "id": "L_GnFP8wVNnT"
   },
   "outputs": [
    {
     "output_type": "stream",
     "name": "stdout",
     "text": [
      "False\n"
     ]
    },
    {
     "output_type": "display_data",
     "data": {
      "text/plain": "<IPython.core.display.Markdown object>",
      "text/markdown": "$(like(george,lydia)\\ \\land\\ -like(lydia,alex))$"
     },
     "metadata": {}
    },
    {
     "output_type": "display_data",
     "data": {
      "text/plain": "<IPython.core.display.Markdown object>",
      "text/markdown": "----"
     },
     "metadata": {}
    },
    {
     "output_type": "stream",
     "name": "stdout",
     "text": [
      "True\n"
     ]
    },
    {
     "output_type": "display_data",
     "data": {
      "text/plain": "<IPython.core.display.Markdown object>",
      "text/markdown": "$(like(lydia,lydia)\\ \\land\\ like(george,george))$"
     },
     "metadata": {}
    },
    {
     "output_type": "display_data",
     "data": {
      "text/plain": "<IPython.core.display.Markdown object>",
      "text/markdown": "----"
     },
     "metadata": {}
    },
    {
     "output_type": "stream",
     "name": "stdout",
     "text": [
      "True\n"
     ]
    },
    {
     "output_type": "display_data",
     "data": {
      "text/plain": "<IPython.core.display.Markdown object>",
      "text/markdown": "$(english(charlie)\\ \\land\\ pianist(charlie)\\ \\land\\ play(charlie,sonata))$"
     },
     "metadata": {}
    },
    {
     "output_type": "display_data",
     "data": {
      "text/plain": "<IPython.core.display.Markdown object>",
      "text/markdown": "----"
     },
     "metadata": {}
    },
    {
     "output_type": "stream",
     "name": "stdout",
     "text": [
      "False\n"
     ]
    },
    {
     "output_type": "display_data",
     "data": {
      "text/plain": "<IPython.core.display.Markdown object>",
      "text/markdown": "$(admire(lydia,george)\\ \\land\\ admire(george,lydia))$"
     },
     "metadata": {}
    },
    {
     "output_type": "display_data",
     "data": {
      "text/plain": "<IPython.core.display.Markdown object>",
      "text/markdown": "----"
     },
     "metadata": {}
    },
    {
     "output_type": "stream",
     "name": "stdout",
     "text": [
      "True\n"
     ]
    },
    {
     "output_type": "display_data",
     "data": {
      "text/plain": "<IPython.core.display.Markdown object>",
      "text/markdown": "$\\exists\\ x.(know(charlie,x)\\ \\land\\ woman(x)\\ \\land\\ like(x,george))$"
     },
     "metadata": {}
    },
    {
     "output_type": "display_data",
     "data": {
      "text/plain": "<IPython.core.display.Markdown object>",
      "text/markdown": "----"
     },
     "metadata": {}
    },
    {
     "output_type": "stream",
     "name": "stdout",
     "text": [
      "False\n"
     ]
    },
    {
     "output_type": "display_data",
     "data": {
      "text/plain": "<IPython.core.display.Markdown object>",
      "text/markdown": "$\\forall\\ x.((woman(x)\\ \\lor\\ man(x))\\ \\rightarrow\\ (admire(george,x)\\ \\land\\ -admire(lydia,x)))$"
     },
     "metadata": {}
    },
    {
     "output_type": "display_data",
     "data": {
      "text/plain": "<IPython.core.display.Markdown object>",
      "text/markdown": "----"
     },
     "metadata": {}
    },
    {
     "output_type": "stream",
     "name": "stdout",
     "text": [
      "True\n"
     ]
    },
    {
     "output_type": "display_data",
     "data": {
      "text/plain": "<IPython.core.display.Markdown object>",
      "text/markdown": "$-\\exists\\ x.\\forall\\ y.admire(x,y)$"
     },
     "metadata": {}
    },
    {
     "output_type": "display_data",
     "data": {
      "text/plain": "<IPython.core.display.Markdown object>",
      "text/markdown": "----"
     },
     "metadata": {}
    },
    {
     "output_type": "stream",
     "name": "stdout",
     "text": [
      "True\n"
     ]
    },
    {
     "output_type": "display_data",
     "data": {
      "text/plain": "<IPython.core.display.Markdown object>",
      "text/markdown": "$\\exists\\ x.\\forall\\ y.-admire(x,y)$"
     },
     "metadata": {}
    },
    {
     "output_type": "display_data",
     "data": {
      "text/plain": "<IPython.core.display.Markdown object>",
      "text/markdown": "----"
     },
     "metadata": {}
    },
    {
     "output_type": "stream",
     "name": "stdout",
     "text": [
      "True\n"
     ]
    },
    {
     "output_type": "display_data",
     "data": {
      "text/plain": "<IPython.core.display.Markdown object>",
      "text/markdown": "$\\forall\\ x.\\exists\\ y.-admire(x,y)$"
     },
     "metadata": {}
    },
    {
     "output_type": "display_data",
     "data": {
      "text/plain": "<IPython.core.display.Markdown object>",
      "text/markdown": "----"
     },
     "metadata": {}
    },
    {
     "output_type": "stream",
     "name": "stdout",
     "text": [
      "True\n"
     ]
    },
    {
     "output_type": "display_data",
     "data": {
      "text/plain": "<IPython.core.display.Markdown object>",
      "text/markdown": "$\\exists\\ z.\\forall\\ y.((musician(y)\\ \\land\\ \\forall\\ x.(wrote(alex,x)\\ \\rightarrow\\ play(y,x)))\\ \\leftrightarrow\\ (y\\ =\\ z))$"
     },
     "metadata": {}
    },
    {
     "output_type": "display_data",
     "data": {
      "text/plain": "<IPython.core.display.Markdown object>",
      "text/markdown": "----"
     },
     "metadata": {}
    }
   ],
   "source": [
    "entities = set(['ly','ge','al','ch','be','so','et','pr','wa','sc'])\n",
    "\n",
    "assign = \"\"\"\n",
    "    lydia => ly\n",
    "    george => ge\n",
    "    alex => al\n",
    "    charlie => ch\n",
    "    bertie =>  be\n",
    "    \n",
    "    sonata => so\n",
    "    etude  => et\n",
    "    prelude  => pr\n",
    "    waltz  => wa\n",
    "    scherzo  => sc\n",
    "    \n",
    "    \n",
    "    like => {(ly,ly),(ly,ge),(ly,al),(ly,ch),\\\n",
    "             (ge,ly),(ge,be),(ge,ge),\\\n",
    "             (al,al),\\\n",
    "             (ch,ly),(ch,ge),(ch,al),(ch,ch),(ch,be),\\\n",
    "             (be,al)}\n",
    "             \n",
    "    english => {ly,ge,al,ch,be}\n",
    "    pianist => {ch,be}\n",
    "    \n",
    "    play => { (ch,so),(ch,et),(ch,wa),\\\n",
    "              (be,wa),(be,sc),\\\n",
    "              (ly,et),(ly,pr),(ly,wa)}\n",
    "              \n",
    "    admire => { (ly,ly),(ly,ch),(ly,be)\\\n",
    "                (ge,ly),(ge,ge),(ge,al),(ge,ch),(ge,be),\\\n",
    "                (al,ly),(al,al),(al,be),\\\n",
    "                (ch,ge),(ch,be),\\\n",
    "                (be,ly),(be,ge),(be,al),(be,ch),(be,be)}\n",
    "                \n",
    "    know => {   (ly,ly),(ly,ge),(ly,al),(ly,ch),(ly,be),\\\n",
    "                (ge,ly),(ge,ge),(ge,be),\\\n",
    "                (al,ly),(al,al),(al,be),\\\n",
    "                (ch,ge),(ch,ch),(ch,be),\\\n",
    "                (be,ly),(be,ge),(be,al),(be,ch),(be,be)}\n",
    "                \n",
    "    woman => {ly,al,ch}\n",
    "    man => {ge,be}\n",
    "    wrote => {(al,so),(al,et),(al,wa)}\n",
    "    musician => {ly,al,ch,be}\n",
    "\"\"\"\n",
    "\n",
    "\n",
    "val2 = nltk.Valuation.fromstring(assign)\n",
    "\n",
    "g2 = nltk.Assignment(entities)\n",
    "m2 = nltk.Model(entities, val2)\n",
    "\n",
    "# sentences from question 3\n",
    "for text, semrep in sentences1.items():\n",
    "    print(m2.evaluate(str(semrep), g2))\n",
    "    display_latex(semrep)\n",
    "    display(Markdown('----'))\n",
    "\n",
    "# sentences from question 4\n",
    "for text, semrep in sentences2.items():\n",
    "    print(m2.evaluate(str(semrep), g2))\n",
    "    display_latex(semrep)\n",
    "    display(Markdown('----'))\n"
   ]
  },
  {
   "cell_type": "code",
   "execution_count": null,
   "metadata": {},
   "outputs": [],
   "source": []
  },
  {
   "cell_type": "markdown",
   "metadata": {
    "id": "mKP645QFVNnT"
   },
   "source": [
    "*Comments on the answers:*\n",
    "\n",
    "We couldn't associate the single letters above to entities (what is 't' and 'h'?) so we use two letter variable names instead, for the sake of readability.\n",
    "\n",
    "The quantified formula for \"Nobody admires everybody\" is resolved to true with this model. However, the entities includes music genres as well as people, so it is also checking if the music genres admires anybody. If we would specify it that only people admire each other, it would have been resolved to false (since Bertie and George admires everyone). A way to solve this would be to have musical types as their own sets, and not as entities."
   ]
  },
  {
   "cell_type": "code",
   "execution_count": null,
   "metadata": {},
   "outputs": [],
   "source": []
  },
  {
   "cell_type": "markdown",
   "metadata": {
    "id": "doYr8TouVNnT"
   },
   "source": [
    "## Lambda calculus"
   ]
  },
  {
   "cell_type": "code",
   "execution_count": 32,
   "metadata": {
    "id": "LuD7-eUGVNnU"
   },
   "outputs": [],
   "source": [
    "from nltk.grammar import FeatureGrammar"
   ]
  },
  {
   "cell_type": "markdown",
   "metadata": {
    "id": "GH4J-mHsVNnU"
   },
   "source": [
    "### 6. Function application and $\\beta$-reduction\n",
    "In the following examples some code has been deleted and replaced with `<????>`. What has been deleted? Verify that your answer is correct. **[4 marks]**"
   ]
  },
  {
   "cell_type": "code",
   "execution_count": 33,
   "metadata": {
    "id": "nrD_ai0aVNnV"
   },
   "outputs": [
    {
     "output_type": "display_data",
     "data": {
      "text/plain": "<IPython.core.display.Markdown object>",
      "text/markdown": "$like(pip,rob)$"
     },
     "metadata": {}
    },
    {
     "output_type": "display_data",
     "data": {
      "text/plain": "<IPython.core.display.Markdown object>",
      "text/markdown": "$like(pip,rob)$"
     },
     "metadata": {}
    },
    {
     "output_type": "display_data",
     "data": {
      "text/plain": "<IPython.core.display.Markdown object>",
      "text/markdown": "$play(pip,scherzo)$"
     },
     "metadata": {}
    },
    {
     "output_type": "display_data",
     "data": {
      "text/plain": "<IPython.core.display.Markdown object>",
      "text/markdown": "$play(pip,scherzo)$"
     },
     "metadata": {}
    },
    {
     "output_type": "display_data",
     "data": {
      "text/plain": "<IPython.core.display.Markdown object>",
      "text/markdown": "$\\exists\\ x.(woman(x)\\ \\land\\ play(x,etude))$"
     },
     "metadata": {}
    },
    {
     "output_type": "display_data",
     "data": {
      "text/plain": "<IPython.core.display.Markdown object>",
      "text/markdown": "$\\exists\\ x.(woman(x)\\ \\land\\ play(x,etude))$"
     },
     "metadata": {}
    },
    {
     "output_type": "display_data",
     "data": {
      "text/plain": "<IPython.core.display.Markdown object>",
      "text/markdown": "$\\lambda\\ x.\\forall\\ z_{21}.(musician(z_{21})\\ \\rightarrow\\ like(x,z_{21}))$"
     },
     "metadata": {}
    },
    {
     "output_type": "display_data",
     "data": {
      "text/plain": "<IPython.core.display.Markdown object>",
      "text/markdown": "$\\lambda\\ x.\\forall\\ z_{2}.(musician(z_{2})\\ \\rightarrow\\ like(x,z_{2}))$"
     },
     "metadata": {}
    }
   ],
   "source": [
    "e1 = read_expr(r'\\x.like(x,rob)')\n",
    "e2 = read_expr(r'pip')\n",
    "e3 = nltk.sem.ApplicationExpression(e1,e2) \n",
    "display_latex(e3.simplify())\n",
    "# with reuslt like(pip,rob).\n",
    "display_latex(read_expr(r\"like(pip,rob)\"))\n",
    "\n",
    "e1 = read_expr(r'\\P.P(pip)')\n",
    "e2 = read_expr(r'\\x.play(x,scherzo)') \n",
    "e3 = nltk.sem.ApplicationExpression(e1,e2)\n",
    "display_latex(e3.simplify())\n",
    "# with result play(pip,scherzo).\n",
    "display_latex(read_expr(r\"play(pip,scherzo)\"))\n",
    "\n",
    "e1 = read_expr(r'\\P. exists x. (woman(x) & P(x))') # (P())=> exists x. ( woman(x) & P(x) )\n",
    "e2 = read_expr(r'\\x.play(x,etude)')\n",
    "e3 = nltk.sem.ApplicationExpression(e1,e2) \n",
    "display_latex(e3.simplify())\n",
    "# with result exists x.(woman(x) & play(x,etude)).\n",
    "display_latex(read_expr(r\"exists x.(woman(x) & play(x,etude))\"))\n",
    "\n",
    "e1 = read_expr(r'\\P x.P(\\y.like(x,y))') # (Q())=> x Q(\\y like(x,y))\n",
    "e2 = read_expr(r'\\P.all x. (musician(x) -> P(x))') \n",
    "e3 = nltk.sem.ApplicationExpression(e1,e2) \n",
    "display_latex(e3.simplify())\n",
    "# with result \\x.all z2.(musician(z2) -> like(x,z2)).\n",
    "display_latex(read_expr(r\"\\x.all z2.(musician(z2) -> like(x,z2))\"))"
   ]
  },
  {
   "cell_type": "markdown",
   "metadata": {
    "id": "q8tfdtQNVNnV"
   },
   "source": [
    "### 7. Extending the grammar\n",
    "\n",
    "Extend the grammar simple_sem.fcfg that comes with NLTK `(~/nltk_data/grammars/book_grammars/)` so that it will cover the following sentences:\n",
    "\n",
    "- no man gives a bone to a dog **[4 marks]**\n",
    "- no man gives a bone to the dog **[4 marks]**\n",
    "- a boy and a girl chased every dog **[2 marks]**\n",
    "- every dog chased a boy and a girl **[2 marks]**\n",
    "- a brown cat chases a white dog **[4 marks]**\n",
    "\n",
    "The last example includes adjectives. Several different kinds of adjectives are discussed in the literature [(cf. Kennedy, 2012)](http://semantics.uchicago.edu/kennedy/docs/routledge.pdf). In this example we have an intersective adjective. The denotiation we want for \"brown cat\" is a a set that we get by intersecting the set of individuals that are brown and the set of individuals that are cats.\n",
    "\n",
    "C. Kennedy. Adjectives. In G. Russell, editor, The Routledge Companion to Philosophy of Language, chapter 3.3, pages 328–341. Routledge, 2012.\n",
    "\n",
    "The original grammar is included in the code below as a string."
   ]
  },
  {
   "cell_type": "code",
   "execution_count": 34,
   "metadata": {
    "id": "I86xSXpzVNnW"
   },
   "outputs": [],
   "source": [
    "fcfg_string_orginal = r\"\"\"\n",
    "% start S\n",
    "############################\n",
    "# Grammar Rules\n",
    "#############################\n",
    "\n",
    "S[SEM = <?subj(?vp)>] -> NP[NUM=?n,SEM=?subj] VP[NUM=?n,SEM=?vp]\n",
    "\n",
    "NP[NUM=?n,SEM=<?det(?nom)> ] -> Det[NUM=?n,SEM=?det]  Nom[NUM=?n,SEM=?nom]\n",
    "NP[LOC=?l,NUM=?n,SEM=?np] -> PropN[LOC=?l,NUM=?n,SEM=?np]\n",
    "\n",
    "Nom[NUM=?n,SEM=?nom] -> N[NUM=?n,SEM=?nom]\n",
    "\n",
    "VP[NUM=?n,SEM=?v] -> IV[NUM=?n,SEM=?v]\n",
    "VP[NUM=?n,SEM=<?v(?obj)>] -> TV[NUM=?n,SEM=?v] NP[SEM=?obj]\n",
    "VP[NUM=?n,SEM=<?v(?obj,?pp)>] -> DTV[NUM=?n,SEM=?v] NP[SEM=?obj] PP[+TO,SEM=?pp]\n",
    "\n",
    "PP[+TO, SEM=?np] -> P[+TO] NP[SEM=?np]\n",
    "\n",
    "#############################\n",
    "# Lexical Rules\n",
    "#############################\n",
    "\n",
    "PropN[-LOC,NUM=sg,SEM=<\\P.P(angus)>] -> 'Angus'\n",
    "PropN[-LOC,NUM=sg,SEM=<\\P.P(cyril)>] -> 'Cyril'\n",
    "PropN[-LOC,NUM=sg,SEM=<\\P.P(irene)>] -> 'Irene'\n",
    " \n",
    "Det[NUM=sg,SEM=<\\P Q.all x.(P(x) -> Q(x))>] -> 'every'\n",
    "Det[NUM=pl,SEM=<\\P Q.all x.(P(x) -> Q(x))>] -> 'all'\n",
    "Det[SEM=<\\P Q.exists x.(P(x) & Q(x))>] -> 'some'\n",
    "Det[NUM=sg,SEM=<\\P Q.exists x.(P(x) & Q(x))>] -> 'a'\n",
    "Det[NUM=sg,SEM=<\\P Q.exists x.(P(x) & Q(x))>] -> 'an'\n",
    "\n",
    "N[NUM=sg,SEM=<\\x.man(x)>] -> 'man'\n",
    "N[NUM=sg,SEM=<\\x.girl(x)>] -> 'girl'\n",
    "N[NUM=sg,SEM=<\\x.boy(x)>] -> 'boy'\n",
    "N[NUM=sg,SEM=<\\x.bone(x)>] -> 'bone'\n",
    "N[NUM=sg,SEM=<\\x.ankle(x)>] -> 'ankle'\n",
    "N[NUM=sg,SEM=<\\x.dog(x)>] -> 'dog'\n",
    "N[NUM=pl,SEM=<\\x.dog(x)>] -> 'dogs'\n",
    "\n",
    "IV[NUM=sg,SEM=<\\x.bark(x)>,TNS=pres] -> 'barks'\n",
    "IV[NUM=pl,SEM=<\\x.bark(x)>,TNS=pres] -> 'bark'\n",
    "IV[NUM=sg,SEM=<\\x.walk(x)>,TNS=pres] -> 'walks'\n",
    "IV[NUM=pl,SEM=<\\x.walk(x)>,TNS=pres] -> 'walk'\n",
    "TV[NUM=sg,SEM=<\\X x.X(\\ y.chase(x,y))>,TNS=pres] -> 'chases'\n",
    "TV[NUM=pl,SEM=<\\X x.X(\\ y.chase(x,y))>,TNS=pres] -> 'chase'\n",
    "TV[NUM=sg,SEM=<\\X x.X(\\ y.see(x,y))>,TNS=pres] -> 'sees'\n",
    "TV[NUM=pl,SEM=<\\X x.X(\\ y.see(x,y))>,TNS=pres] -> 'see'\n",
    "TV[NUM=sg,SEM=<\\X x.X(\\ y.bite(x,y))>,TNS=pres] -> 'bites'\n",
    "TV[NUM=pl,SEM=<\\X x.X(\\ y.bite(x,y))>,TNS=pres] -> 'bite'\n",
    "DTV[NUM=sg,SEM=<\\Y X x.X(\\z.Y(\\y.give(x,y,z)))>,TNS=pres] -> 'gives'\n",
    "DTV[NUM=pl,SEM=<\\Y X x.X(\\z.Y(\\y.give(x,y,z)))>,TNS=pres] -> 'give'\n",
    "\n",
    "P[+to] -> 'to'\n",
    "\"\"\""
   ]
  },
  {
   "cell_type": "markdown",
   "metadata": {
    "id": "HjaehEx_VNnX"
   },
   "source": [
    "Write your extension of this grammar here:"
   ]
  },
  {
   "cell_type": "code",
   "execution_count": 35,
   "metadata": {
    "id": "b1YkFmxuVNnX"
   },
   "outputs": [],
   "source": [
    "fcfg_string = fcfg_string_orginal + r\"\"\"\n",
    "## Your answers here\n",
    "Det[SEM=<\\P Q.-exists x.(P(x) & Q(x))>] -> 'no'\n",
    "Det[SEM=<\\P Q.exists x.(P(x) & all y.(P(y) -> x=y) & Q(x))>] -> 'the'\n",
    "# Det[SEM=<\\Q P.exists x.(Q(x) & P(x) & all y.(Q(y) -> (y=x)))>] -> 'the' | 'The'\n",
    "TV[SEM=<\\X x.X(\\y.chase(x,y))>,TNS=past] -> 'chased'\n",
    "CONJ -> 'and'\n",
    "NP[NUM=pl,SEM=<\\ Q.(?nom1(Q) & ?nom2(Q))> ] -> NP[NUM=?n1,SEM=?nom1] CONJ NP[NUM=?n2,SEM=?nom2]\n",
    "N[NUM=sg,SEM=<\\x.cat(x)>] -> 'cat'\n",
    "ADJ[SEM=<\\P x.(brown(x) & P(x))>] -> 'brown'\n",
    "ADJ[SEM=<\\P x.(white(x) & P(x))>] -> 'white'\n",
    "NP[NUM=?n,SEM=<?det(?adj(?nom))>] -> Det[SEM=?det] ADJ[SEM=?adj] Nom[SEM=?nom]\n",
    "\"\"\"\n",
    "\n",
    "# Load `fcfg_string` as a feature grammar:\n",
    "syntax = FeatureGrammar.fromstring(fcfg_string)"
   ]
  },
  {
   "cell_type": "markdown",
   "metadata": {
    "id": "cH5IsMbWVNnX"
   },
   "source": [
    "Run the code below without errors:"
   ]
  },
  {
   "cell_type": "code",
   "execution_count": 37,
   "metadata": {
    "id": "xuGCHEpXVNnY"
   },
   "outputs": [
    {
     "output_type": "display_data",
     "data": {
      "text/plain": "<IPython.core.display.Markdown object>",
      "text/markdown": "----"
     },
     "metadata": {}
    },
    {
     "output_type": "display_data",
     "data": {
      "text/plain": "<IPython.core.display.Markdown object>",
      "text/markdown": "$-\\exists\\ x.(man(x)\\ \\land\\ \\exists\\ z_{32}.(dog(z_{32})\\ \\land\\ \\exists\\ z_{31}.(bone(z_{31})\\ \\land\\ give(x,z_{31},z_{32}))))$"
     },
     "metadata": {}
    },
    {
     "output_type": "display_data",
     "data": {
      "text/plain": "<IPython.core.display.Markdown object>",
      "text/markdown": "----"
     },
     "metadata": {}
    },
    {
     "output_type": "display_data",
     "data": {
      "text/plain": "<IPython.core.display.Markdown object>",
      "text/markdown": "$-\\exists\\ x.(man(x)\\ \\land\\ \\exists\\ z_{34}.(dog(z_{34})\\ \\land\\ \\forall\\ y.(dog(y)\\ \\rightarrow\\ (z_{34}\\ =\\ y))\\ \\land\\ \\exists\\ z_{33}.(bone(z_{33})\\ \\land\\ give(x,z_{33},z_{34}))))$"
     },
     "metadata": {}
    },
    {
     "output_type": "display_data",
     "data": {
      "text/plain": "<IPython.core.display.Markdown object>",
      "text/markdown": "----"
     },
     "metadata": {}
    },
    {
     "output_type": "display_data",
     "data": {
      "text/plain": "<IPython.core.display.Markdown object>",
      "text/markdown": "$(\\exists\\ x.(boy(x)\\ \\land\\ \\forall\\ z_{35}.(dog(z_{35})\\ \\rightarrow\\ chase(x,z_{35})))\\ \\land\\ \\exists\\ x.(girl(x)\\ \\land\\ \\forall\\ z_{35}.(dog(z_{35})\\ \\rightarrow\\ chase(x,z_{35}))))$"
     },
     "metadata": {}
    },
    {
     "output_type": "display_data",
     "data": {
      "text/plain": "<IPython.core.display.Markdown object>",
      "text/markdown": "----"
     },
     "metadata": {}
    },
    {
     "output_type": "display_data",
     "data": {
      "text/plain": "<IPython.core.display.Markdown object>",
      "text/markdown": "$\\forall\\ x.(dog(x)\\ \\rightarrow\\ (\\exists\\ z_{37}.(boy(z_{37})\\ \\land\\ chase(x,z_{37}))\\ \\land\\ \\exists\\ z_{38}.(girl(z_{38})\\ \\land\\ chase(x,z_{38}))))$"
     },
     "metadata": {}
    },
    {
     "output_type": "display_data",
     "data": {
      "text/plain": "<IPython.core.display.Markdown object>",
      "text/markdown": "----"
     },
     "metadata": {}
    },
    {
     "output_type": "display_data",
     "data": {
      "text/plain": "<IPython.core.display.Markdown object>",
      "text/markdown": "$\\exists\\ x.(brown(x)\\ \\land\\ cat(x)\\ \\land\\ \\exists\\ z_{39}.(white(z_{39})\\ \\land\\ dog(z_{39})\\ \\land\\ chase(x,z_{39})))$"
     },
     "metadata": {}
    }
   ],
   "source": [
    "# remove sentences if you couldn't find answer for them\n",
    "sentences = [\n",
    "    'no man gives a bone to a dog',\n",
    "    'no man gives a bone to the dog',\n",
    "    'a boy and a girl chased every dog',\n",
    "    'every dog chased a boy and a girl',\n",
    "    'a brown cat chases a white dog',\n",
    "]\n",
    "for results in nltk.interpret_sents(sentences, syntax):\n",
    "    for (synrep, semrep) in results:\n",
    "        display(Markdown('----'))\n",
    "        display_latex(semrep) # prints the SEM feature of a tree\n",
    "        display_tree(synrep) # show the parse tree"
   ]
  },
  {
   "cell_type": "markdown",
   "metadata": {
    "id": "aEwqHpBYVNnY"
   },
   "source": [
    "If you are working with iPython which is also running behind Jupyter notebooks and you are changing grammars and want to rerun a new version without restarting you may find `nltk.data.clear_cache()` useful."
   ]
  },
  {
   "cell_type": "markdown",
   "metadata": {
    "id": "_zrt_2MKVNnY"
   },
   "source": [
    "## Marks\n",
    "\n",
    "This part of the assignment has a total of 47 marks."
   ]
  }
 ],
 "metadata": {
  "colab": {
   "collapsed_sections": [],
   "name": "logic-and-lambda-calculus.ipynb",
   "provenance": []
  },
  "kernelspec": {
   "display_name": "Python 3",
   "language": "python",
   "name": "python3"
  }
 },
 "nbformat": 4,
 "nbformat_minor": 4
}