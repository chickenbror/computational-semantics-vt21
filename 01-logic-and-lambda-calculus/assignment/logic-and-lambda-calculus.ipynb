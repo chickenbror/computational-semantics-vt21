{
  "nbformat": 4,
  "nbformat_minor": 0,
  "metadata": {
    "kernelspec": {
      "display_name": "Python 3",
      "language": "python",
      "name": "python3"
    },
    "language_info": {
      "codemirror_mode": {
        "name": "ipython",
        "version": 3
      },
      "file_extension": ".py",
      "mimetype": "text/x-python",
      "name": "python",
      "nbconvert_exporter": "python",
      "pygments_lexer": "ipython3",
      "version": "3.8.5"
    },
    "colab": {
      "name": "logic-and-lambda-calculus.ipynb",
      "provenance": [],
      "collapsed_sections": []
    }
  },
  "cells": [
    {
      "cell_type": "markdown",
      "metadata": {
        "id": "LvRXy5VbVNm1"
      },
      "source": [
        "# A1: Logic and lambda calculus"
      ]
    },
    {
      "cell_type": "markdown",
      "metadata": {
        "id": "ORRIW9hXVNnB"
      },
      "source": [
        "The lab is an exploration and learning exercise to be done in a group and also in discussion with the teachers and other students.\n",
        "\n",
        "Before starting, please read the following instructions on [how to work on group assignments](https://github.com/sdobnik/computational-semantics/blob/master/README.md).\n",
        "\n",
        "Write all your answers and the code in the appropriate boxes below."
      ]
    },
    {
      "cell_type": "markdown",
      "metadata": {
        "id": "mXDUPmwQVNnD"
      },
      "source": [
        "## Translating English to logic and evaluating logic in a model"
      ]
    },
    {
      "cell_type": "code",
      "metadata": {
        "id": "1andJ01AVNnF",
        "colab": {
          "base_uri": "https://localhost:8080/",
          "height": 358
        },
        "outputId": "c529dc73-97b9-4ca9-8a23-2819091ce9f7"
      },
      "source": [
        "# This task needs NLTK and Jupyter Notebook (IPython package).\n",
        "import nltk\n",
        "from utils import display_latex, display_translation, display_tree, display, Markdown\n",
        "read_expr = nltk.sem.Expression.fromstring"
      ],
      "execution_count": null,
      "outputs": [
        {
          "output_type": "error",
          "ename": "ModuleNotFoundError",
          "evalue": "ignored",
          "traceback": [
            "\u001b[0;31m---------------------------------------------------------------------------\u001b[0m",
            "\u001b[0;31mModuleNotFoundError\u001b[0m                       Traceback (most recent call last)",
            "\u001b[0;32m<ipython-input-1-c40ac5431ad2>\u001b[0m in \u001b[0;36m<module>\u001b[0;34m()\u001b[0m\n\u001b[1;32m      1\u001b[0m \u001b[0;31m# This task needs NLTK and Jupyter Notebook (IPython package).\u001b[0m\u001b[0;34m\u001b[0m\u001b[0;34m\u001b[0m\u001b[0;34m\u001b[0m\u001b[0m\n\u001b[1;32m      2\u001b[0m \u001b[0;32mimport\u001b[0m \u001b[0mnltk\u001b[0m\u001b[0;34m\u001b[0m\u001b[0;34m\u001b[0m\u001b[0m\n\u001b[0;32m----> 3\u001b[0;31m \u001b[0;32mfrom\u001b[0m \u001b[0mutils\u001b[0m \u001b[0;32mimport\u001b[0m \u001b[0mdisplay_latex\u001b[0m\u001b[0;34m,\u001b[0m \u001b[0mdisplay_translation\u001b[0m\u001b[0;34m,\u001b[0m \u001b[0mdisplay_tree\u001b[0m\u001b[0;34m,\u001b[0m \u001b[0mdisplay\u001b[0m\u001b[0;34m,\u001b[0m \u001b[0mMarkdown\u001b[0m\u001b[0;34m\u001b[0m\u001b[0;34m\u001b[0m\u001b[0m\n\u001b[0m\u001b[1;32m      4\u001b[0m \u001b[0mread_expr\u001b[0m \u001b[0;34m=\u001b[0m \u001b[0mnltk\u001b[0m\u001b[0;34m.\u001b[0m\u001b[0msem\u001b[0m\u001b[0;34m.\u001b[0m\u001b[0mExpression\u001b[0m\u001b[0;34m.\u001b[0m\u001b[0mfromstring\u001b[0m\u001b[0;34m\u001b[0m\u001b[0;34m\u001b[0m\u001b[0m\n",
            "\u001b[0;31mModuleNotFoundError\u001b[0m: No module named 'utils'",
            "",
            "\u001b[0;31m---------------------------------------------------------------------------\u001b[0;32m\nNOTE: If your import is failing due to a missing package, you can\nmanually install dependencies using either !pip or !apt.\n\nTo view examples of installing some common dependencies, click the\n\"Open Examples\" button below.\n\u001b[0;31m---------------------------------------------------------------------------\u001b[0m\n"
          ]
        }
      ]
    },
    {
      "cell_type": "markdown",
      "metadata": {
        "id": "k3hkugWaVNnF"
      },
      "source": [
        "### 1. Propositional logic\n",
        "Translate the following sentences into **propositional logic** and verify that they parse with Expression.fromstring(). Provide a key which shows how the propositional variables in your translation correspond to expressions of English. Briefly discuss any difficulties you encounter. (By difficulties we mean cases where the semantics of English expressions cannot be expressed to the same degree by the semantics of your logic representations, i.e. they do not mean the same). **[5 + 1 marks]**"
      ]
    },
    {
      "cell_type": "code",
      "metadata": {
        "id": "8BQ3Q6q6VNnH"
      },
      "source": [
        "'''\n",
        "  Key:\n",
        "    Ap = Alex plays the piano\n",
        "    As = Alex is smart\n",
        "    Am = Alex is musical\n",
        "    Lh = Lydia is happy\n",
        "    Gp = George plays the piano\n",
        "    Gm = Georg is musical\n",
        "'''\n",
        "\n",
        "propositions = {\n",
        "    \"If Alex plays the piano, she is smart.\": # P->Q\n",
        "    read_expr('Ap -> As'),\n",
        "    \n",
        "    \"Alex is both smart and musical.\": # P&&Q\n",
        "    read_expr('As & Am'),\n",
        "    \n",
        "    \"If Alex is not smart, Lydia is not happy.\": # !P->!Q\n",
        "    read_expr('-As -> -Lh'),\n",
        "    \n",
        "    \"If Alex or George plays the piano, they are musical.\": # (P||Q)->R\n",
        "    read_expr('Ap | Gp -> Am & Gm'),\n",
        "    \n",
        "    \"George plays the piano.\": # P\n",
        "    read_expr('Gp'),\n",
        "}\n",
        "\n",
        "for text, semrep in propositions.items():\n",
        "    display_translation(text, semrep)"
      ],
      "execution_count": null,
      "outputs": []
    },
    {
      "cell_type": "markdown",
      "metadata": {
        "id": "l-tHE7NrVNnI"
      },
      "source": [
        "*Difficulties encountered:*\n",
        "\n",
        "`Answers here`\n",
        "\n",
        "Each variable stands on its own and cannot accept or alter properties.\n",
        "Therefor we need to have separate variables for 'someone has ... property'. I,e., 'George is musical' and 'Alex is musical' are independent variables. Also for statement 1, we need to have 'Alex plays piano' and 'Alex is smart' even if they may not relate to each other."
      ]
    },
    {
      "cell_type": "markdown",
      "metadata": {
        "id": "AjNWnRkFVNnI"
      },
      "source": [
        "### 2. Valuation of Propositional logic\n",
        "\n",
        "Imagine that we observe a world where \n",
        "- (i) Alex does not play the piano,\n",
        "- (ii) Alex and Lydia are smart and musical,\n",
        "- (iii) George is not musical,\n",
        "- (iv) Lydia is happy,\n",
        "- (v) George plays the piano. \n",
        "\n",
        "Translate this informal description of the world into a model by appropriately defining an evaluation function and evaluate the formulae from Question 1 in this model. Briefly comment the answers you get. **[5 + 1 marks]**."
      ]
    },
    {
      "cell_type": "code",
      "metadata": {
        "id": "_0hpda01VNnJ"
      },
      "source": [
        "# Set vars according to statements\n",
        "val = nltk.Valuation([\n",
        "    ('Ap', False), \n",
        "    ('As', True),('Am', True),('Ls', True), ('Lm', True),\n",
        "    ('Gm', False),\n",
        "    ('Lh', True),\n",
        "    ('Gp', True),\n",
        "    ])\n",
        "\n",
        "# Init the model\n",
        "dom = set()\n",
        "g = nltk.Assignment(dom)\n",
        "model_Q2 = nltk.Model(dom, val)\n",
        "\n",
        "# Evaluate Q1 formulas\n",
        "def eval_formula(expr, model, goal):\n",
        "    return model.evaluate( expr, goal)\n",
        "\n",
        "\n",
        "for text, semrep in propositions.items():\n",
        "    print(text , semrep)\n",
        "    print( eval_formula(expr=str(semrep), model=model_Q2, goal=g), '\\n' )"
      ],
      "execution_count": null,
      "outputs": []
    },
    {
      "cell_type": "markdown",
      "metadata": {
        "id": "BV09LU6TVNnK"
      },
      "source": [
        "*Comments:*"
      ]
    },
    {
      "cell_type": "markdown",
      "metadata": {
        "id": "vqkvzxydVNnL"
      },
      "source": [
        "### 3. Predicate logic *without quantifiers*\n",
        "\n",
        "Translate the following sentences into predicate-argument formulae of First Order Logic and verify that they parse with `Expression.fromstring()`. Briefly discuss any difficulties you encounter. **[4 + 1 marks]**"
      ]
    },
    {
      "cell_type": "code",
      "metadata": {
        "id": "0tzYmKQBVNnP"
      },
      "source": [
        "sentences1 = {\n",
        "    \"Lydia likes George but Lydia doesn't like Alex\": # P&&!Q\n",
        "    read_expr(r' like(george, lydia) & -like(lydia, alex) '),\n",
        "    \n",
        "    \"Lydia likes herself and so does George\": # P&&Q  (george likes lydia or himself??)\n",
        "    read_expr(r' like(lydia,lydia) & like(george,george)'),\n",
        "    \n",
        "    \"Charlie is an English pianist who plays a sonata\": #\n",
        "    read_expr(r'english(charlie)&pianist(charlie)&sonata(charlie)'),\n",
        "    \n",
        "    \"Lydia and George admire each other\": #\n",
        "    read_expr(r' admire(lydia, george) & admire(george, lydia) '),\n",
        "}\n",
        "\n",
        "for text, semrep in sentences1.items():\n",
        "    display_translation(text, semrep)\n"
      ],
      "execution_count": null,
      "outputs": []
    },
    {
      "cell_type": "markdown",
      "metadata": {
        "id": "ZDyXUD4HVNnQ"
      },
      "source": [
        "*Difficulties encountered:*\n",
        "\n",
        "`Answers here`\n",
        "*Difficulties encountered:*\n",
        "\n",
        "`Answers here`\n",
        "\n",
        "We were confused by statement 2 ---does George like himself too or does George like Lydia too? (Some of us chose the former, and some the latter)\n",
        "When translating this to logic though, it has to be explicit and unambiguous."
      ]
    },
    {
      "cell_type": "markdown",
      "metadata": {
        "id": "q-7bqhpTVNnQ"
      },
      "source": [
        "### 4. First order logic with quantifiers\n",
        "\n",
        "Translate the following sentences into quantified formulas of First Order Logic and verify that they parse with `Expression.fromstring()`. Briefly discuss any difficulties you encounter. **[4 + 1 marks]**"
      ]
    },
    {
      "cell_type": "code",
      "metadata": {
        "id": "Z3nLYEY6VNnR"
      },
      "source": [
        "sentences2 = {\n",
        "    \"Charlie knows a woman who likes George\":\n",
        "    read_expr('exists x.(know(charlie, x) & woman(x) & like(x, george))'),\n",
        "    \n",
        "    \"George admires everybody and Lydia admires nobody\":\n",
        "    read_expr('all x.admire(george, x) & -(exist x.(admire(lydia, x))) '),\n",
        "\n",
        "    \"Nobody admires everybody\":\n",
        "    read_expr('-(exists x. (english(x) & all y. (english(y) -> admire(x, y))))'),\n",
        "       \n",
        "    \"Exactly one musician plays everything Alex wrote\":\n",
        "    read_expr('exists x.(musician(x) & all y.(musican(y) -> (y = x)))'),\n",
        "}\n",
        "\n",
        "for text, semrep in sentences2.items():\n",
        "    display_translation(text, semrep)"
      ],
      "execution_count": null,
      "outputs": []
    },
    {
      "cell_type": "markdown",
      "metadata": {
        "id": "u-iz7MdXVNnR"
      },
      "source": [
        ""
      ]
    },
    {
      "cell_type": "markdown",
      "metadata": {
        "id": "bY-1b2-ZVNnS"
      },
      "source": [
        "### 5. Valuation of first order logic\n",
        "\n",
        "We observe a world with entities Lydia, George, Alex, Charlie and Bertie, sonata, etude, prelude, waltz, scherzo.\n",
        "\n",
        "1. Lydia likes Lydia, George, Alex and Charlie. George likes Lydia, Bertie and George. Alex likes Alex. Charlie likes Lydia, George, Alex, Charlie and Bertie. Bertie likes Alex.\n",
        "2. Lydia, George, Alex, Charlie and Bertie are English.\n",
        "3. Charlie and Bertie are pianists.\n",
        "4. Charlie plays a sonata, an etude and a waltz. Bertie plays a waltz and a scherzo. Lydia plays an etude, a prelude and a waltz.\n",
        "5. Lydia admires Lydia, Charlie and Bertie. George admires Lydia, George, Alex, Charlie and Bertie. Alex admires Lydia, Alex and Bertie. Charlie admires George and Bertie. Bertie admires Lydia, George, Alex, Charlie and Bertie.\n",
        "6. Lydia knows Lydia, George, Alex, Charlie and Bertie. George knows Lydia, George and Bertie. Alex knows Lydia, Alex and Bertie. Charlie knows George, Charlie and Bertie. Bertie knows Lydia, George, Alex, Charlie and Bertie.\n",
        "7. Lydia, Alex and Charlie are women.\n",
        "8. George and Bertie are men.\n",
        "9. Alex wrote a sonata, an etude an a waltz.\n",
        "10. Lydia, Alex, Charlie and Bertie are musicians.\n",
        "\n",
        "Translate this informal description of the world into a model and evaluate the formulae from Questions 3 and 4 in this model. Briefly comment on the answers you get **[3 + 2 marks]**."
      ]
    },
    {
      "cell_type": "code",
      "metadata": {
        "id": "L_GnFP8wVNnT"
      },
      "source": [
        "entities = set(['p','t','e','h','r','s','u','l','w','c'])\n",
        "\n",
        "\n",
        "assign = \"\"\"\n",
        "lydia => p\n",
        "george => t\n",
        "alex => e\n",
        "charlie => h\n",
        "bertie => r\n",
        "sonata => s\n",
        "etude => u\n",
        "prelude => l\n",
        "waltz => w\n",
        "scherzo => c\n",
        "\n",
        "likes => { \\\n",
        "        (p, p), (p, t), (p, e), (p, h), #Lydia \\\n",
        "        (t, p), (t, r), (t, t), #George \\\n",
        "        (e, e), #Alex \\\n",
        "        (h, p), (h, t), (h, h), (h, e), #Charlie \\\n",
        "        (r, e) #Bertie   }\n",
        "\n",
        "english => {p, t, e, h, r}\n",
        "pianist => {h, r}\n",
        "play => { (h, s), (h, u), (h, w), \\\n",
        "            (r, w), (r, c), \\\n",
        "            (p, u), (p, l), (p, w)}\n",
        "admire => { \\\n",
        "            (p, p), (p, h), (p, r), \\\n",
        "            (t, p), (t, t), (t, e), (t, h), (t, r), \\\n",
        "            (e, p), (e, e), (e, r), \\\n",
        "            (h, t), (h, r), \\\n",
        "            (r, p), (r, t), (r, e), (r, h), (r, r)  }\n",
        "know => { \\\n",
        "            (p, p), (p, t), (p, e), (p, e), (p, h), (p, r), \\\n",
        "            (t, p), (t, t), (t, r), \\\n",
        "            (e, p), (e, e), (e, r), \\\n",
        "            (h, t), (h, h), (h, r), \\\n",
        "            (r, p), (r, t), (r, e), (r, h), (r, r)}\n",
        "\n",
        "woman => {p, e, h}\n",
        "man => {t, r}\n",
        "wrote => {(e, s), (e, u), (e, w)}\n",
        "musician => {p, e, h, r}\n",
        "\"\"\"\n",
        "\n",
        "\n",
        "val2 = nltk.Valuation.fromstring(assign)\n",
        "\n",
        "g2 = nltk.Assignment(entities)\n",
        "m2 = nltk.Model(entities, val2)\n",
        "\n",
        "# sentences from question 3\n",
        "for text, semrep in sentences1.items():\n",
        "    print(m2.evaluate(str(semrep), g2))\n",
        "    display_latex(semrep)\n",
        "    display(Markdown('----'))\n",
        "\n",
        "# sentences from question 4\n",
        "for text, semrep in sentences2.items():\n",
        "    print(m2.evaluate(str(semrep), g2))\n",
        "    display_latex(semrep)\n",
        "    display(Markdown('----'))\n"
      ],
      "execution_count": null,
      "outputs": []
    },
    {
      "cell_type": "markdown",
      "metadata": {
        "id": "mKP645QFVNnT"
      },
      "source": [
        "*Comments on the answers:*\n",
        "\n",
        "`Answers here`"
      ]
    },
    {
      "cell_type": "markdown",
      "metadata": {
        "id": "doYr8TouVNnT"
      },
      "source": [
        "## Lambda calculus"
      ]
    },
    {
      "cell_type": "code",
      "metadata": {
        "id": "LuD7-eUGVNnU"
      },
      "source": [
        "from nltk.grammar import FeatureGrammar"
      ],
      "execution_count": null,
      "outputs": []
    },
    {
      "cell_type": "markdown",
      "metadata": {
        "id": "GH4J-mHsVNnU"
      },
      "source": [
        "### 6. Function application and $\\beta$-reduction\n",
        "In the following examples some code has been deleted and replaced with `<????>`. What has been deleted? Verify that your answer is correct. **[4 marks]**"
      ]
    },
    {
      "cell_type": "code",
      "metadata": {
        "id": "nrD_ai0aVNnV"
      },
      "source": [
        "e1 = read_expr(r'\\x.like(x,rob)')\n",
        "e2 = read_expr(r'pip')\n",
        "e3 = nltk.sem.ApplicationExpression(e1,e2) \n",
        "display_latex(e3.simplify())\n",
        "# with reuslt like(pip,rob).\n",
        "display_latex(read_expr(r\"like(pip,rob)\"))\n",
        "\n",
        "e1 = read_expr(r'\\P.P(pip)')\n",
        "e2 = read_expr(r'\\x.play(x,scherzo)') \n",
        "e3 = nltk.sem.ApplicationExpression(e1,e2)\n",
        "display_latex(e3.simplify())\n",
        "# with result play(pip,scherzo).\n",
        "display_latex(read_expr(r\"play(pip,scherzo)\"))\n",
        "\n",
        "e1 = read_expr('\\X.exists y.(woman(y) & X(y))')\n",
        "e2 = read_expr(r'\\x.play(x,etude)') \n",
        "e3 = nltk.sem.ApplicationExpression(e1,e2) \n",
        "display_latex(e3.simplify())\n",
        "# with result exists x.(woman(x) & play(x,etude)).\n",
        "display_latex(read_expr(r\"exists x.(woman(x) & play(x,etude))\"))\n",
        "\n",
        "e1 = read_expr('\\X x.X(\\y.like(x,y))')\n",
        "e2 = read_expr(r'\\P.all x. (musician(x) -> P(x))') \n",
        "e3 = nltk.sem.ApplicationExpression(e1,e2) \n",
        "display_latex(e3.simplify())\n",
        "# with result \\x.all z2.(musician(z2) -> like(x,z2)).\n",
        "display_latex(read_expr(r\"\\x.all z2.(musician(z2) -> like(x,z2))\"))"
      ],
      "execution_count": null,
      "outputs": []
    },
    {
      "cell_type": "markdown",
      "metadata": {
        "id": "q8tfdtQNVNnV"
      },
      "source": [
        "### 7. Extending the grammar\n",
        "\n",
        "Extend the grammar simple_sem.fcfg that comes with NLTK `(~/nltk_data/grammars/book_grammars/)` so that it will cover the following sentences:\n",
        "\n",
        "- no man gives a bone to a dog **[4 marks]**\n",
        "- no man gives a bone to the dog **[4 marks]**\n",
        "- a boy and a girl chased every dog **[2 marks]**\n",
        "- every dog chased a boy and a girl **[2 marks]**\n",
        "- a brown cat chases a white dog **[4 marks]**\n",
        "\n",
        "The last example includes adjectives. Several different kinds of adjectives are discussed in the literature [(cf. Kennedy, 2012)](http://semantics.uchicago.edu/kennedy/docs/routledge.pdf). In this example we have an intersective adjective. The denotiation we want for \"brown cat\" is a a set that we get by intersecting the set of individuals that are brown and the set of individuals that are cats.\n",
        "\n",
        "C. Kennedy. Adjectives. In G. Russell, editor, The Routledge Companion to Philosophy of Language, chapter 3.3, pages 328–341. Routledge, 2012.\n",
        "\n",
        "The original grammar is included in the code below as a string."
      ]
    },
    {
      "cell_type": "code",
      "metadata": {
        "id": "I86xSXpzVNnW"
      },
      "source": [
        "fcfg_string_orginal = r\"\"\"\n",
        "% start S\n",
        "############################\n",
        "# Grammar Rules\n",
        "#############################\n",
        "\n",
        "S[SEM = <?subj(?vp)>] -> NP[NUM=?n,SEM=?subj] VP[NUM=?n,SEM=?vp]\n",
        "\n",
        "NP[NUM=?n,SEM=<?det(?nom)> ] -> Det[NUM=?n,SEM=?det]  Nom[NUM=?n,SEM=?nom]\n",
        "NP[LOC=?l,NUM=?n,SEM=?np] -> PropN[LOC=?l,NUM=?n,SEM=?np]\n",
        "\n",
        "Nom[NUM=?n,SEM=?nom] -> N[NUM=?n,SEM=?nom]\n",
        "\n",
        "VP[NUM=?n,SEM=?v] -> IV[NUM=?n,SEM=?v]\n",
        "VP[NUM=?n,SEM=<?v(?obj)>] -> TV[NUM=?n,SEM=?v] NP[SEM=?obj]\n",
        "VP[NUM=?n,SEM=<?v(?obj,?pp)>] -> DTV[NUM=?n,SEM=?v] NP[SEM=?obj] PP[+TO,SEM=?pp]\n",
        "\n",
        "PP[+TO, SEM=?np] -> P[+TO] NP[SEM=?np]\n",
        "\n",
        "#############################\n",
        "# Lexical Rules\n",
        "#############################\n",
        "\n",
        "PropN[-LOC,NUM=sg,SEM=<\\P.P(angus)>] -> 'Angus'\n",
        "PropN[-LOC,NUM=sg,SEM=<\\P.P(cyril)>] -> 'Cyril'\n",
        "PropN[-LOC,NUM=sg,SEM=<\\P.P(irene)>] -> 'Irene'\n",
        " \n",
        "Det[NUM=sg,SEM=<\\P Q.all x.(P(x) -> Q(x))>] -> 'every'\n",
        "Det[NUM=pl,SEM=<\\P Q.all x.(P(x) -> Q(x))>] -> 'all'\n",
        "Det[SEM=<\\P Q.exists x.(P(x) & Q(x))>] -> 'some'\n",
        "Det[NUM=sg,SEM=<\\P Q.exists x.(P(x) & Q(x))>] -> 'a'\n",
        "Det[NUM=sg,SEM=<\\P Q.exists x.(P(x) & Q(x))>] -> 'an'\n",
        "\n",
        "N[NUM=sg,SEM=<\\x.man(x)>] -> 'man'\n",
        "N[NUM=sg,SEM=<\\x.girl(x)>] -> 'girl'\n",
        "N[NUM=sg,SEM=<\\x.boy(x)>] -> 'boy'\n",
        "N[NUM=sg,SEM=<\\x.bone(x)>] -> 'bone'\n",
        "N[NUM=sg,SEM=<\\x.ankle(x)>] -> 'ankle'\n",
        "N[NUM=sg,SEM=<\\x.dog(x)>] -> 'dog'\n",
        "N[NUM=pl,SEM=<\\x.dog(x)>] -> 'dogs'\n",
        "\n",
        "IV[NUM=sg,SEM=<\\x.bark(x)>,TNS=pres] -> 'barks'\n",
        "IV[NUM=pl,SEM=<\\x.bark(x)>,TNS=pres] -> 'bark'\n",
        "IV[NUM=sg,SEM=<\\x.walk(x)>,TNS=pres] -> 'walks'\n",
        "IV[NUM=pl,SEM=<\\x.walk(x)>,TNS=pres] -> 'walk'\n",
        "TV[NUM=sg,SEM=<\\X x.X(\\ y.chase(x,y))>,TNS=pres] -> 'chases'\n",
        "TV[NUM=pl,SEM=<\\X x.X(\\ y.chase(x,y))>,TNS=pres] -> 'chase'\n",
        "TV[NUM=sg,SEM=<\\X x.X(\\ y.see(x,y))>,TNS=pres] -> 'sees'\n",
        "TV[NUM=pl,SEM=<\\X x.X(\\ y.see(x,y))>,TNS=pres] -> 'see'\n",
        "TV[NUM=sg,SEM=<\\X x.X(\\ y.bite(x,y))>,TNS=pres] -> 'bites'\n",
        "TV[NUM=pl,SEM=<\\X x.X(\\ y.bite(x,y))>,TNS=pres] -> 'bite'\n",
        "DTV[NUM=sg,SEM=<\\Y X x.X(\\z.Y(\\y.give(x,y,z)))>,TNS=pres] -> 'gives'\n",
        "DTV[NUM=pl,SEM=<\\Y X x.X(\\z.Y(\\y.give(x,y,z)))>,TNS=pres] -> 'give'\n",
        "\n",
        "P[+to] -> 'to'\n",
        "\"\"\""
      ],
      "execution_count": null,
      "outputs": []
    },
    {
      "cell_type": "markdown",
      "metadata": {
        "id": "HjaehEx_VNnX"
      },
      "source": [
        "Write your extension of this grammar here:"
      ]
    },
    {
      "cell_type": "code",
      "metadata": {
        "id": "b1YkFmxuVNnX"
      },
      "source": [
        "fcfg_string = fcfg_string_orginal + r\"\"\"\n",
        "## Your answers here\n",
        "Det[SEM=<\\P Q.-exists x.(P(x) & Q(x))>] -> 'no'\n",
        "Det[SEM=<\\P Q.exists x.(P(x) & Q(x))>] -> 'the'\n",
        "TV[SEM=<\\X x.X(\\y.chase(x,y))>,TNS=past] -> 'chased'\n",
        "# TV[???] -> ???\n",
        "CONJ -> 'and'\n",
        "NP[NUM=?n,SEM=<?np1 & np2>] -> NP[NUM=?n,SEM=?np1] CONJ NP[NUM=?n,SEM=?np2]\n",
        "NP[NUM=pl,SEM=<\\ Q.(?det1(?nom1)(Q) & (?det2(?nom2))(Q))> ] -> Det[NUM=?n1,SEM=?det1] N[NUM=?n1,SEM=?nom1] CONJ Det[NUM=?n2,SEM=?det2] N[NUM=?n2,SEM=?nom2]\n",
        "N[NUM=sg,SEM=<\\x.cat(x)>] -> 'cat'\n",
        "ADJ[SEM=<\\P x.(brown(x) & P(x))>] -> 'brown'\n",
        "ADJ[SEM=<\\P x.(white(x) & P(x))>] -> 'white'\n",
        "NP[NUM=?n,SEM=<?det(?adj(?nom))>] -> Det[SEM=?det] ADJ[SEM=?adj] Nom[SEM=?nom]\n",
        "\"\"\"\n",
        "\n",
        "# Load `fcfg_string` as a feature grammar:\n",
        "syntax = FeatureGrammar.fromstring(fcfg_string)"
      ],
      "execution_count": null,
      "outputs": []
    },
    {
      "cell_type": "markdown",
      "metadata": {
        "id": "cH5IsMbWVNnX"
      },
      "source": [
        "Run the code below without errors:"
      ]
    },
    {
      "cell_type": "code",
      "metadata": {
        "id": "xuGCHEpXVNnY"
      },
      "source": [
        "# remove sentences if you couldn't find answer for them\n",
        "sentences = [\n",
        "    'no man gives a bone to a dog',\n",
        "    'no man gives a bone to the dog',\n",
        "    'a boy and a girl chased every dog',\n",
        "    'every dog chased a boy and a girl',\n",
        "    'a brown cat chases a white dog',\n",
        "]\n",
        "for results in nltk.interpret_sents(sentences, syntax):\n",
        "    for (synrep, semrep) in results:\n",
        "        display(Markdown('----'))\n",
        "        display_latex(semrep) # prints the SEM feature of a tree\n",
        "        display_tree(synrep) # show the parse tree"
      ],
      "execution_count": null,
      "outputs": []
    },
    {
      "cell_type": "markdown",
      "metadata": {
        "id": "aEwqHpBYVNnY"
      },
      "source": [
        "If you are working with iPython which is also running behind Jupyter notebooks and you are changing grammars and want to rerun a new version without restarting you may find `nltk.data.clear_cache()` useful."
      ]
    },
    {
      "cell_type": "markdown",
      "metadata": {
        "id": "_zrt_2MKVNnY"
      },
      "source": [
        "## Marks\n",
        "\n",
        "This part of the assignment has a total of 47 marks."
      ]
    }
  ]
}